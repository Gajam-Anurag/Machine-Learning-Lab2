{
  "nbformat": 4,
  "nbformat_minor": 0,
  "metadata": {
    "colab": {
      "name": "ML Lab2.ipynb",
      "provenance": []
    },
    "kernelspec": {
      "name": "python3",
      "display_name": "Python 3"
    },
    "language_info": {
      "name": "python"
    }
  },
  "cells": [
    {
      "cell_type": "markdown",
      "source": [
        "# Task 1 Artificial Neural Network"
      ],
      "metadata": {
        "id": "VIAalELY3qFC"
      }
    },
    {
      "cell_type": "code",
      "source": [
        "## loading all the packages \n",
        "\n",
        "import numpy as np\n",
        "import pandas as pd\n",
        "import matplotlib.pyplot as plt \n",
        "import seaborn as sns \n",
        "from keras.datasets import cifar10\n",
        "from keras import Sequential, regularizers\n",
        "from keras.layers import Dense, Dropout, Flatten\n",
        "from tensorflow.keras.utils import to_categorical"
      ],
      "metadata": {
        "id": "T0xmlqE937fK"
      },
      "execution_count": null,
      "outputs": []
    },
    {
      "cell_type": "markdown",
      "source": [
        "### 1.Load the dataset(CIFAR - 10)"
      ],
      "metadata": {
        "id": "yRNTmGpd3t8O"
      }
    },
    {
      "cell_type": "code",
      "execution_count": null,
      "metadata": {
        "id": "VrK-paDH3jzo",
        "colab": {
          "base_uri": "https://localhost:8080/"
        },
        "outputId": "66db5470-9f3c-4d77-8a07-91cd09b0f0fa"
      },
      "outputs": [
        {
          "output_type": "stream",
          "name": "stdout",
          "text": [
            "Downloading data from https://www.cs.toronto.edu/~kriz/cifar-10-python.tar.gz\n",
            "170500096/170498071 [==============================] - 6s 0us/step\n",
            "170508288/170498071 [==============================] - 6s 0us/step\n"
          ]
        }
      ],
      "source": [
        "(x_train, y_train), (x_test, y_test) = cifar10.load_data()"
      ]
    },
    {
      "cell_type": "markdown",
      "source": [
        "### 2.Explain in your own words:\n",
        "\n",
        "**a. Gradient Descent:** Gradient Descent is a backpropagation phase method in which the goal is to continually resample the gradient of the model's parameter in the opposite direction depending on the weight w, updating consistently until the global minimum of function J is reached (w). We are at point A in the loss landscape when we set our weights. The first step is to determine which direction in the x-y plane, out of all conceivable directions, causes the sharpest fall in the loss function's value. This is the path that we must take. This is determined by the direction that is diametrically opposed to the gradient's orientation. The derivative's higher-dimensional cousin, the gradient, provides us with steepest ascent.\n",
        "\n",
        "**b. Drop Out:** Simply simply, dropout refers to the practice of ignoring units (i.e. neurons) during the training phase of a randomly selected set of neurons. By \"ignoring,\" I mean that these units are not taken into account during a forward or backward pass. Individual nodes are dropped out of the network with probability 1-p or kept with probability p at each training stage, resulting in a smaller network; incoming and outgoing edges to a dropped-out node are likewise eliminated.\n",
        "\n",
        "**c. Activation Function:** The neural network's input layer accepts data for training in a variety of formats, including pictures, audio, and text. The linear function is calculated using input features with weights and biases from the dataset. The activation function then uses this resultant from the linear function as input, and the calculated activations are then provided as input to the following layer.\n",
        "\n",
        "**d. Back Propogation:** It's a technique for fine-tuning the weights of a neural network based on the previous epoch's error rate (i.e., iteration). By fine-tuning the weights, you may lower error rates and improve the model's generalization, making it more dependable. Backpropagation is a short form for \"backward propagation of mistakes\" in a neural network. It's a common way to train artificial neural networks. This method is useful for calculating the gradient of a loss function with respect to all of the network's weights.\n",
        "\n",
        "**e. Epochs, Iterations and Batch size:**\n",
        "\n",
        "Epochs :An epoch is a complete transit of the training data through the algorithm. The algorithm's epoch number is a significant hyperparameter. It defines the number of epochs or full passes through the algorithm's training or learning phase for the entire training dataset.\n",
        "\n",
        "Ierations: The number of times a batch of data has traveled through the algorithm is known as iteration. To put it another way, it's the number of passes, with each pass consisting of one forward and one backward pass.\n",
        "\n",
        "Batch Size: Before the model is changed, the batch size refers to the number of samples handled. The number of epochs refers to how many times the training dataset has been traversed completely. The number of samples in the training dataset must be less than or equal to the size of a batch, which must be greater than or equal to one.\n"
      ],
      "metadata": {
        "id": "VIMuapBI4bi_"
      }
    },
    {
      "cell_type": "markdown",
      "source": [
        "### 3. Visualize / summarize the data"
      ],
      "metadata": {
        "id": "ZgWlmWWO7uiX"
      }
    },
    {
      "cell_type": "markdown",
      "source": [
        "##### a. Number of entities in training and testing set and number of classes in target variable"
      ],
      "metadata": {
        "id": "SMw3zvjM7x4-"
      }
    },
    {
      "cell_type": "code",
      "source": [
        "## Entries in training and testing set\n",
        "\n",
        "print(x_train.shape, x_test.shape, y_train.shape, y_test.shape)"
      ],
      "metadata": {
        "colab": {
          "base_uri": "https://localhost:8080/"
        },
        "id": "g9K4c1Sn4Rj1",
        "outputId": "5412f38f-2c14-4a49-d004-e638b7984156"
      },
      "execution_count": null,
      "outputs": [
        {
          "output_type": "stream",
          "name": "stdout",
          "text": [
            "(50000, 32, 32, 3) (10000, 32, 32, 3) (50000, 1) (10000, 1)\n"
          ]
        }
      ]
    },
    {
      "cell_type": "code",
      "source": [
        "## Number of varaibles in target varaible \n",
        "\n",
        "np.unique(y_train)"
      ],
      "metadata": {
        "colab": {
          "base_uri": "https://localhost:8080/"
        },
        "id": "YKMsuuMQ_DGA",
        "outputId": "c440b46d-0b3a-479a-fefd-000e45158949"
      },
      "execution_count": null,
      "outputs": [
        {
          "output_type": "execute_result",
          "data": {
            "text/plain": [
              "array([0, 1, 2, 3, 4, 5, 6, 7, 8, 9], dtype=uint8)"
            ]
          },
          "metadata": {},
          "execution_count": 12
        }
      ]
    },
    {
      "cell_type": "markdown",
      "source": [
        "##### b. Number of pixels in the image (Height and width individually)\n"
      ],
      "metadata": {
        "id": "dFx4abYtHzth"
      }
    },
    {
      "cell_type": "code",
      "source": [
        "x_train.shape"
      ],
      "metadata": {
        "colab": {
          "base_uri": "https://localhost:8080/"
        },
        "id": "iv8kP7qUHhg-",
        "outputId": "ba83f2cf-efec-4785-d53b-ffe5a1c88cfd"
      },
      "execution_count": null,
      "outputs": [
        {
          "output_type": "execute_result",
          "data": {
            "text/plain": [
              "(50000, 32, 32, 3)"
            ]
          },
          "metadata": {},
          "execution_count": 5
        }
      ]
    },
    {
      "cell_type": "markdown",
      "source": [
        "this indicates that there are 50000 images with 32x32 pixel size with rgb dimension 3. Which is height = 32 and width = 32"
      ],
      "metadata": {
        "id": "fV0I9z2dMWIC"
      }
    },
    {
      "cell_type": "markdown",
      "source": [
        "##### c. Number of images per class"
      ],
      "metadata": {
        "id": "UpC2YFqoMja6"
      }
    },
    {
      "cell_type": "code",
      "source": [
        "print('In train data')\n",
        "print(np.unique(y_train, return_counts=True))\n",
        "\n",
        "print('\\nIn test data')\n",
        "print(np.unique(y_test, return_counts=True))"
      ],
      "metadata": {
        "colab": {
          "base_uri": "https://localhost:8080/"
        },
        "id": "3LUV22KCQAv0",
        "outputId": "26f78356-981b-4805-d036-315f97785839"
      },
      "execution_count": null,
      "outputs": [
        {
          "output_type": "stream",
          "name": "stdout",
          "text": [
            "In train data\n",
            "(array([0, 1, 2, 3, 4, 5, 6, 7, 8, 9], dtype=uint8), array([5000, 5000, 5000, 5000, 5000, 5000, 5000, 5000, 5000, 5000]))\n",
            "\n",
            "In test data\n",
            "(array([0, 1, 2, 3, 4, 5, 6, 7, 8, 9], dtype=uint8), array([1000, 1000, 1000, 1000, 1000, 1000, 1000, 1000, 1000, 1000]))\n"
          ]
        }
      ]
    },
    {
      "cell_type": "markdown",
      "source": [
        "We have total 6000 images in each class in entire dataset"
      ],
      "metadata": {
        "id": "KxZsOt9iRDcX"
      }
    },
    {
      "cell_type": "markdown",
      "source": [
        "##### d. Display at least 2 images of each class"
      ],
      "metadata": {
        "id": "IgbMSwUONDtx"
      }
    },
    {
      "cell_type": "code",
      "source": [
        "classes = {0:'Airplane',1:'Automobile',2:'Bird',3:'Cat',4:\t'Deer',5:\t'Dog',6:\t'Frog',7:\t'Horse',8:\t'Ship',9:\t'Truck'}\n",
        "count, j, k = 0, 0, 0\n",
        "fig=plt.figure(figsize=(15, 15))\n",
        "for i in range(10):\n",
        "  while(1):\n",
        "    if y_train[j] == i:\n",
        "      fig.add_subplot(5, 5, k+1)\n",
        "      plt.imshow(x_train[j],cmap=plt.cm.binary)\n",
        "      plt.title(classes[i])\n",
        "      count += 1\n",
        "      k += 1\n",
        "    j += 1\n",
        "    if count == 2:\n",
        "      break\n",
        "  j = 0\n",
        "  count = 0\n",
        "\n",
        "plt.show()"
      ],
      "metadata": {
        "colab": {
          "base_uri": "https://localhost:8080/",
          "height": 711
        },
        "id": "c8q1z8saM04P",
        "outputId": "e9d7eb5f-5d07-4a22-9299-419f99456df5"
      },
      "execution_count": null,
      "outputs": [
        {
          "output_type": "display_data",
          "data": {
            "text/plain": [
              "<Figure size 1080x1080 with 20 Axes>"
            ],
            "image/png": "[encoded data removed]"
          },
          "metadata": {
            "needs_background": "light"
          }
        }
      ]
    },
    {
      "cell_type": "markdown",
      "source": [
        "### 4. Train the neural networks"
      ],
      "metadata": {
        "id": "JB18TncNNdDl"
      }
    },
    {
      "cell_type": "code",
      "source": [
        "y_train = to_categorical(y_train, 10)\n",
        "y_test = to_categorical(y_test, 10)\n",
        "\n",
        "x_train = x_train.astype('float32')\n",
        "x_test = x_test.astype('float32')\n",
        "\n",
        "x_train  /= 255\n",
        "x_test /= 255\n",
        "\n",
        "x_train = x_train.reshape((x_train.shape[0], 32*32*3))\n",
        "x_test = x_test.reshape((x_test.shape[0], 32*32*3))"
      ],
      "metadata": {
        "id": "NJM7TptTRPAY"
      },
      "execution_count": null,
      "outputs": []
    },
    {
      "cell_type": "markdown",
      "source": [
        "### a. Decide number of layers and neurons in each layer\n",
        "\n"
      ],
      "metadata": {
        "id": "p-WAm0sLNnnR"
      }
    },
    {
      "cell_type": "code",
      "source": [
        "model = Sequential(Dense(128, input_shape = (3072,), activation='relu'))\n",
        "model.add(Dense(128, activation='relu'))\n",
        "model.add(Dense(128,activation='relu'))\n",
        "model.add(Dense(10,activation='softmax'))"
      ],
      "metadata": {
        "id": "cu3la9_aTBF-"
      },
      "execution_count": null,
      "outputs": []
    },
    {
      "cell_type": "markdown",
      "source": [
        "### b. Try out different activation functions (explain each one you used)\n",
        "\n",
        "**sigmoid Function:** Sigmoid takes a real value as input and outputs another value between 0 and 1. It’s easy to work with and has all the nice properties of activation functions: it’s non-linear, continuously differentiable, monotonic, and has a fixed output range.\n",
        "\n",
        "**Relu:** Rectified Linear Units is a relatively new innovation. It's a deceptively simple formula: max (0,z). It's not linear, despite its name and look, and offers the same benefits as Sigmoid (i.e., the capacity to learn nonlinear functions) but with superior performance.\n",
        "\n",
        "**Softmax Function:** The Softmax function computes the event's probability distribution over 'n' distinct events. To put it another way, this function calculates the probabilities of each target class across all potential target classes. The probabilities obtained later will be useful in determining the target class for the provided inputs.\n",
        "\n",
        "**elu:** The ELU (Exponential Linear Unit) is a function that tends to converge cost to zero faster and deliver more accurate results. Unlike other activation functions, ELU has an additional alpha constant that must be positive.\n"
      ],
      "metadata": {
        "id": "ZLAKwZIcdYk3"
      }
    },
    {
      "cell_type": "markdown",
      "source": [
        "### c.Try with and without using drop out"
      ],
      "metadata": {
        "id": "iQOcGoaCdbQS"
      }
    },
    {
      "cell_type": "code",
      "source": [
        "## without dropout\n",
        "model1 = Sequential(Dense(128, input_shape = (3072,), activation='relu'))\n",
        "model1.add(Dense(128, activation='relu'))\n",
        "model1.add(Dense(128,activation='relu'))\n",
        "model1.add(Dense(10,activation='softmax'))\n",
        "\n",
        "##without dropout \n",
        "model2 = Sequential(Dense(128, input_shape = (3072,), activation='elu'))\n",
        "model2.add(Dense(128, activation='elu'))\n",
        "model2.add(Dense(128,activation='elu'))\n",
        "model2.add(Dense(10,activation='sigmoid'))"
      ],
      "metadata": {
        "id": "YH9zcQ0xde74"
      },
      "execution_count": null,
      "outputs": []
    },
    {
      "cell_type": "code",
      "source": [
        "## with dropout\n",
        "model3 = Sequential(Dense(128, input_shape = (3072,), activation='relu'))\n",
        "model3.add(Dense(128, activation='relu'))\n",
        "model3.add(Dropout(0.125))\n",
        "model3.add(Dense(128,activation='relu'))\n",
        "model3.add(Dense(10,activation='sigmoid'))\n",
        "\n",
        "\n",
        "## with dropout\n",
        "model4 = Sequential(Dense(128, input_shape = (3072,), activation='elu'))\n",
        "model4.add(Dense(128, activation='elu'))\n",
        "model4.add(Dropout(0.125))\n",
        "model4.add(Dense(128,activation='elu'))\n",
        "model4.add(Dropout(0.125))\n",
        "model4.add(Dense(10,activation='softmax'))"
      ],
      "metadata": {
        "id": "vV-dhC2_djHS"
      },
      "execution_count": null,
      "outputs": []
    },
    {
      "cell_type": "markdown",
      "source": [
        "### d. Try different regularizations apart from drop out\n"
      ],
      "metadata": {
        "id": "WngxEJuIdrW2"
      }
    },
    {
      "cell_type": "code",
      "source": [
        "## with kernel_regularizer l2\n",
        "model5 = Sequential(Dense(128,input_shape = (3072,), kernel_regularizer='l2', activation = 'relu' ))\n",
        "model5.add(Dense(128, activation='relu',kernel_regularizer='l2'))\n",
        "model5.add(Dense(128,activation='relu',kernel_regularizer='l2'))\n",
        "model5.add(Dense(10,activation='sigmoid'))\n",
        "\n",
        "\n",
        "model6 = Sequential(Dense(128,input_shape = (3072,), kernel_regularizer='l2', activation = 'elu' ))\n",
        "model6.add(Dense(128, activation='elu',kernel_regularizer='l2'))\n",
        "model6.add(Dense(128,activation='elu',kernel_regularizer='l2'))\n",
        "model6.add(Dense(10,activation='softmax'))"
      ],
      "metadata": {
        "id": "hpXmX9bPxtNS"
      },
      "execution_count": null,
      "outputs": []
    },
    {
      "cell_type": "code",
      "source": [
        "## with kernel_regularizer l1\n",
        "model7 = Sequential(Dense(128,input_shape = (3072,), kernel_regularizer='l1', activation = 'relu' ))\n",
        "model7.add(Dense(128, activation='relu',kernel_regularizer='l1'))\n",
        "model7.add(Dense(128,activation='relu',kernel_regularizer='l1'))\n",
        "model7.add(Dense(10,activation='sigmoid'))\n",
        "\n",
        "\n",
        "model8 = Sequential(Dense(128,input_shape = (3072,), kernel_regularizer='l1', activation = 'elu' ))\n",
        "model8.add(Dense(128, activation='elu',kernel_regularizer='l1'))\n",
        "model8.add(Dense(128,activation='elu',kernel_regularizer='l1'))\n",
        "model8.add(Dense(10,activation='sigmoid'))"
      ],
      "metadata": {
        "id": "YeXVfdTXzuNy"
      },
      "execution_count": null,
      "outputs": []
    },
    {
      "cell_type": "markdown",
      "source": [
        "### e. Try different optimization algorithms (such as Gradient Descent, Adam etc.)"
      ],
      "metadata": {
        "id": "brpTvj55dvEE"
      }
    },
    {
      "cell_type": "code",
      "source": [
        "## Creating f1_score function\n",
        "\n",
        "import keras.backend as K\n",
        "\n",
        "def get_f1(y_true, y_pred): #taken from old keras source code\n",
        "    true_positives = K.sum(K.round(K.clip(y_true * y_pred, 0, 1)))\n",
        "    possible_positives = K.sum(K.round(K.clip(y_true, 0, 1)))\n",
        "    predicted_positives = K.sum(K.round(K.clip(y_pred, 0, 1)))\n",
        "    precision = true_positives / (predicted_positives + K.epsilon())\n",
        "    recall = true_positives / (possible_positives + K.epsilon())\n",
        "    f1_val = 2*(precision*recall)/(precision+recall+K.epsilon())\n",
        "    return f1_val\n"
      ],
      "metadata": {
        "id": "FgpMd5oMsJzR"
      },
      "execution_count": null,
      "outputs": []
    },
    {
      "cell_type": "markdown",
      "source": [
        "### Model1"
      ],
      "metadata": {
        "id": "-4Au9cEF0ZFN"
      }
    },
    {
      "cell_type": "markdown",
      "source": [
        "#### model1 with adam optimizer"
      ],
      "metadata": {
        "id": "Rphfi_52wwGL"
      }
    },
    {
      "cell_type": "code",
      "source": [
        "model1.compile(optimizer='adam',loss=\"categorical_crossentropy\", metrics=get_f1)\n",
        "\n",
        "history1 = model1.fit(x_train,y_train, validation_split=0.25, epochs=20)"
      ],
      "metadata": {
        "colab": {
          "base_uri": "https://localhost:8080/"
        },
        "id": "ymHoYRZhdzWM",
        "outputId": "9bf12162-ae44-49f0-a24f-9c5438f29127"
      },
      "execution_count": null,
      "outputs": [
        {
          "output_type": "stream",
          "name": "stdout",
          "text": [
            "Epoch 1/20\n",
            "1172/1172 [==============================] - 12s 9ms/step - loss: 1.8914 - get_f1: 0.1048 - val_loss: 1.8463 - val_get_f1: 0.1647\n",
            "Epoch 2/20\n",
            "1172/1172 [==============================] - 8s 7ms/step - loss: 1.7226 - get_f1: 0.2086 - val_loss: 1.7498 - val_get_f1: 0.2635\n",
            "Epoch 3/20\n",
            "1172/1172 [==============================] - 7s 6ms/step - loss: 1.6388 - get_f1: 0.2629 - val_loss: 1.6643 - val_get_f1: 0.2579\n",
            "Epoch 4/20\n",
            "1172/1172 [==============================] - 7s 6ms/step - loss: 1.5808 - get_f1: 0.3008 - val_loss: 1.5712 - val_get_f1: 0.3236\n",
            "Epoch 5/20\n",
            "1172/1172 [==============================] - 7s 6ms/step - loss: 1.5417 - get_f1: 0.3238 - val_loss: 1.6568 - val_get_f1: 0.3233\n",
            "Epoch 6/20\n",
            "1172/1172 [==============================] - 7s 6ms/step - loss: 1.5163 - get_f1: 0.3386 - val_loss: 1.5901 - val_get_f1: 0.3122\n",
            "Epoch 7/20\n",
            "1172/1172 [==============================] - 7s 6ms/step - loss: 1.4842 - get_f1: 0.3571 - val_loss: 1.5629 - val_get_f1: 0.3158\n",
            "Epoch 8/20\n",
            "1172/1172 [==============================] - 7s 6ms/step - loss: 1.4609 - get_f1: 0.3718 - val_loss: 1.5237 - val_get_f1: 0.3466\n",
            "Epoch 9/20\n",
            "1172/1172 [==============================] - 7s 6ms/step - loss: 1.4454 - get_f1: 0.3821 - val_loss: 1.5492 - val_get_f1: 0.3491\n",
            "Epoch 10/20\n",
            "1172/1172 [==============================] - 7s 6ms/step - loss: 1.4227 - get_f1: 0.3950 - val_loss: 1.5146 - val_get_f1: 0.3825\n",
            "Epoch 11/20\n",
            "1172/1172 [==============================] - 7s 6ms/step - loss: 1.4089 - get_f1: 0.4006 - val_loss: 1.5028 - val_get_f1: 0.3774\n",
            "Epoch 12/20\n",
            "1172/1172 [==============================] - 7s 6ms/step - loss: 1.3901 - get_f1: 0.4116 - val_loss: 1.5036 - val_get_f1: 0.3795\n",
            "Epoch 13/20\n",
            "1172/1172 [==============================] - 6s 5ms/step - loss: 1.3718 - get_f1: 0.4195 - val_loss: 1.5296 - val_get_f1: 0.3902\n",
            "Epoch 14/20\n",
            "1172/1172 [==============================] - 6s 5ms/step - loss: 1.3613 - get_f1: 0.4298 - val_loss: 1.4949 - val_get_f1: 0.3928\n",
            "Epoch 15/20\n",
            "1172/1172 [==============================] - 7s 6ms/step - loss: 1.3530 - get_f1: 0.4320 - val_loss: 1.5258 - val_get_f1: 0.3887\n",
            "Epoch 16/20\n",
            "1172/1172 [==============================] - 6s 5ms/step - loss: 1.3369 - get_f1: 0.4432 - val_loss: 1.5707 - val_get_f1: 0.4039\n",
            "Epoch 17/20\n",
            "1172/1172 [==============================] - 6s 5ms/step - loss: 1.3259 - get_f1: 0.4482 - val_loss: 1.5128 - val_get_f1: 0.3934\n",
            "Epoch 18/20\n",
            "1172/1172 [==============================] - 7s 6ms/step - loss: 1.3162 - get_f1: 0.4536 - val_loss: 1.5113 - val_get_f1: 0.3945\n",
            "Epoch 19/20\n",
            "1172/1172 [==============================] - 6s 5ms/step - loss: 1.3004 - get_f1: 0.4644 - val_loss: 1.5191 - val_get_f1: 0.4175\n",
            "Epoch 20/20\n",
            "1172/1172 [==============================] - 7s 6ms/step - loss: 1.2924 - get_f1: 0.4651 - val_loss: 1.5335 - val_get_f1: 0.4084\n"
          ]
        }
      ]
    },
    {
      "cell_type": "code",
      "source": [
        "test_loss,test_acc=model1.evaluate(x_test,y_test)\n",
        "print(\"Test accuracy:\",test_acc)"
      ],
      "metadata": {
        "colab": {
          "base_uri": "https://localhost:8080/"
        },
        "id": "sbCoAh2zw_Ro",
        "outputId": "1755b012-5f61-4449-8312-bc383f1f2a9d"
      },
      "execution_count": null,
      "outputs": [
        {
          "output_type": "stream",
          "name": "stdout",
          "text": [
            "313/313 [==============================] - 1s 2ms/step - loss: 1.5020 - get_f1: 0.4128\n",
            "Test accuracy: 0.41277164220809937\n"
          ]
        }
      ]
    },
    {
      "cell_type": "markdown",
      "source": [
        "#### model1 with SGD optimizer \n"
      ],
      "metadata": {
        "id": "FAs2ksIdwgYq"
      }
    },
    {
      "cell_type": "code",
      "source": [
        "model1.compile(optimizer='SGD',loss=\"categorical_crossentropy\", metrics=get_f1)\n",
        "\n",
        "\n",
        "history2 = model1.fit(x_train,y_train,  validation_split=0.25,epochs=20)"
      ],
      "metadata": {
        "colab": {
          "base_uri": "https://localhost:8080/"
        },
        "id": "fBu8GlMJj65Q",
        "outputId": "33f2401e-8c0a-4073-ffac-d7a6d783b416"
      },
      "execution_count": null,
      "outputs": [
        {
          "output_type": "stream",
          "name": "stdout",
          "text": [
            "Epoch 1/20\n",
            "1172/1172 [==============================] - 7s 5ms/step - loss: 1.1707 - get_f1: 0.5201 - val_loss: 1.4916 - val_get_f1: 0.4383\n",
            "Epoch 2/20\n",
            "1172/1172 [==============================] - 6s 5ms/step - loss: 1.1544 - get_f1: 0.5333 - val_loss: 1.5013 - val_get_f1: 0.4339\n",
            "Epoch 3/20\n",
            "1172/1172 [==============================] - 5s 5ms/step - loss: 1.1483 - get_f1: 0.5365 - val_loss: 1.4880 - val_get_f1: 0.4486\n",
            "Epoch 4/20\n",
            "1172/1172 [==============================] - 6s 5ms/step - loss: 1.1414 - get_f1: 0.5401 - val_loss: 1.5127 - val_get_f1: 0.4376\n",
            "Epoch 5/20\n",
            "1172/1172 [==============================] - 5s 4ms/step - loss: 1.1355 - get_f1: 0.5417 - val_loss: 1.5132 - val_get_f1: 0.4430\n",
            "Epoch 6/20\n",
            "1172/1172 [==============================] - 5s 4ms/step - loss: 1.1332 - get_f1: 0.5427 - val_loss: 1.5174 - val_get_f1: 0.4423\n",
            "Epoch 7/20\n",
            "1172/1172 [==============================] - 6s 5ms/step - loss: 1.1273 - get_f1: 0.5443 - val_loss: 1.5189 - val_get_f1: 0.4398\n",
            "Epoch 8/20\n",
            "1172/1172 [==============================] - 6s 5ms/step - loss: 1.1222 - get_f1: 0.5488 - val_loss: 1.5133 - val_get_f1: 0.4369\n",
            "Epoch 9/20\n",
            "1172/1172 [==============================] - 5s 4ms/step - loss: 1.1200 - get_f1: 0.5498 - val_loss: 1.5279 - val_get_f1: 0.4424\n",
            "Epoch 10/20\n",
            "1172/1172 [==============================] - 5s 4ms/step - loss: 1.1146 - get_f1: 0.5538 - val_loss: 1.5347 - val_get_f1: 0.4416\n",
            "Epoch 11/20\n",
            "1172/1172 [==============================] - 6s 5ms/step - loss: 1.1116 - get_f1: 0.5548 - val_loss: 1.5250 - val_get_f1: 0.4429\n",
            "Epoch 12/20\n",
            "1172/1172 [==============================] - 5s 4ms/step - loss: 1.1087 - get_f1: 0.5574 - val_loss: 1.5346 - val_get_f1: 0.4449\n",
            "Epoch 13/20\n",
            "1172/1172 [==============================] - 6s 5ms/step - loss: 1.1047 - get_f1: 0.5585 - val_loss: 1.5377 - val_get_f1: 0.4506\n",
            "Epoch 14/20\n",
            "1172/1172 [==============================] - 5s 4ms/step - loss: 1.1023 - get_f1: 0.5587 - val_loss: 1.5269 - val_get_f1: 0.4368\n",
            "Epoch 15/20\n",
            "1172/1172 [==============================] - 5s 4ms/step - loss: 1.0974 - get_f1: 0.5602 - val_loss: 1.5594 - val_get_f1: 0.4461\n",
            "Epoch 16/20\n",
            "1172/1172 [==============================] - 5s 4ms/step - loss: 1.0947 - get_f1: 0.5648 - val_loss: 1.5448 - val_get_f1: 0.4488\n",
            "Epoch 17/20\n",
            "1172/1172 [==============================] - 6s 5ms/step - loss: 1.0912 - get_f1: 0.5637 - val_loss: 1.5661 - val_get_f1: 0.4455\n",
            "Epoch 18/20\n",
            "1172/1172 [==============================] - 5s 4ms/step - loss: 1.0870 - get_f1: 0.5678 - val_loss: 1.5580 - val_get_f1: 0.4436\n",
            "Epoch 19/20\n",
            "1172/1172 [==============================] - 7s 6ms/step - loss: 1.0845 - get_f1: 0.5675 - val_loss: 1.5526 - val_get_f1: 0.4459\n",
            "Epoch 20/20\n",
            "1172/1172 [==============================] - 7s 6ms/step - loss: 1.0824 - get_f1: 0.5689 - val_loss: 1.5625 - val_get_f1: 0.4494\n"
          ]
        }
      ]
    },
    {
      "cell_type": "code",
      "source": [
        "test_loss,test_acc=model1.evaluate(x_test,y_test)\n",
        "print(\"Test accuracy:\",test_acc)"
      ],
      "metadata": {
        "colab": {
          "base_uri": "https://localhost:8080/"
        },
        "id": "T_CZuGD4sdSM",
        "outputId": "c623a355-8426-47c7-c833-2b6fc5c45535"
      },
      "execution_count": null,
      "outputs": [
        {
          "output_type": "stream",
          "name": "stdout",
          "text": [
            "313/313 [==============================] - 1s 2ms/step - loss: 1.5409 - get_f1: 0.4528\n",
            "Test accuracy: 0.45284169912338257\n"
          ]
        }
      ]
    },
    {
      "cell_type": "markdown",
      "source": [
        "#### model1 with Adamax optimizer"
      ],
      "metadata": {
        "id": "dh4CRMictk2b"
      }
    },
    {
      "cell_type": "code",
      "source": [
        "model1.compile(optimizer='adamax',loss=\"categorical_crossentropy\", metrics=get_f1)\n",
        "\n",
        "\n",
        "history3 = model1.fit(x_train,y_train,  validation_split=0.25,epochs=20)"
      ],
      "metadata": {
        "colab": {
          "base_uri": "https://localhost:8080/"
        },
        "id": "W92J5KeDtpdh",
        "outputId": "8a825acd-d532-4508-e0d9-e77137506b79"
      },
      "execution_count": null,
      "outputs": [
        {
          "output_type": "stream",
          "name": "stdout",
          "text": [
            "Epoch 1/20\n",
            "1172/1172 [==============================] - 10s 8ms/step - loss: 1.0869 - get_f1: 0.5682 - val_loss: 1.5744 - val_get_f1: 0.4461\n",
            "Epoch 2/20\n",
            "1172/1172 [==============================] - 9s 8ms/step - loss: 1.0739 - get_f1: 0.5742 - val_loss: 1.5721 - val_get_f1: 0.4458\n",
            "Epoch 3/20\n",
            "1172/1172 [==============================] - 9s 8ms/step - loss: 1.0688 - get_f1: 0.5741 - val_loss: 1.5789 - val_get_f1: 0.4491\n",
            "Epoch 4/20\n",
            "1172/1172 [==============================] - 10s 8ms/step - loss: 1.0640 - get_f1: 0.5778 - val_loss: 1.5600 - val_get_f1: 0.4498\n",
            "Epoch 5/20\n",
            "1172/1172 [==============================] - 9s 8ms/step - loss: 1.0593 - get_f1: 0.5798 - val_loss: 1.6052 - val_get_f1: 0.4443\n",
            "Epoch 6/20\n",
            "1172/1172 [==============================] - 9s 8ms/step - loss: 1.0552 - get_f1: 0.5823 - val_loss: 1.5932 - val_get_f1: 0.4507\n",
            "Epoch 7/20\n",
            "1172/1172 [==============================] - 9s 8ms/step - loss: 1.0526 - get_f1: 0.5820 - val_loss: 1.6073 - val_get_f1: 0.4480\n",
            "Epoch 8/20\n",
            "1172/1172 [==============================] - 9s 8ms/step - loss: 1.0446 - get_f1: 0.5859 - val_loss: 1.6090 - val_get_f1: 0.4457\n",
            "Epoch 9/20\n",
            "1172/1172 [==============================] - 9s 8ms/step - loss: 1.0405 - get_f1: 0.5864 - val_loss: 1.5799 - val_get_f1: 0.4506\n",
            "Epoch 10/20\n",
            "1172/1172 [==============================] - 9s 7ms/step - loss: 1.0364 - get_f1: 0.5905 - val_loss: 1.6037 - val_get_f1: 0.4492\n",
            "Epoch 11/20\n",
            "1172/1172 [==============================] - 8s 7ms/step - loss: 1.0329 - get_f1: 0.5901 - val_loss: 1.6028 - val_get_f1: 0.4445\n",
            "Epoch 12/20\n",
            "1172/1172 [==============================] - 9s 8ms/step - loss: 1.0273 - get_f1: 0.5929 - val_loss: 1.6015 - val_get_f1: 0.4478\n",
            "Epoch 13/20\n",
            "1172/1172 [==============================] - 9s 8ms/step - loss: 1.0244 - get_f1: 0.5961 - val_loss: 1.6134 - val_get_f1: 0.4476\n",
            "Epoch 14/20\n",
            "1172/1172 [==============================] - 9s 8ms/step - loss: 1.0200 - get_f1: 0.5963 - val_loss: 1.6034 - val_get_f1: 0.4545\n",
            "Epoch 15/20\n",
            "1172/1172 [==============================] - 9s 8ms/step - loss: 1.0156 - get_f1: 0.5980 - val_loss: 1.6155 - val_get_f1: 0.4514\n",
            "Epoch 16/20\n",
            "1172/1172 [==============================] - 9s 8ms/step - loss: 1.0127 - get_f1: 0.6019 - val_loss: 1.6169 - val_get_f1: 0.4458\n",
            "Epoch 17/20\n",
            "1172/1172 [==============================] - 9s 8ms/step - loss: 1.0082 - get_f1: 0.6016 - val_loss: 1.6251 - val_get_f1: 0.4442\n",
            "Epoch 18/20\n",
            "1172/1172 [==============================] - 9s 7ms/step - loss: 1.0051 - get_f1: 0.6032 - val_loss: 1.6353 - val_get_f1: 0.4493\n",
            "Epoch 19/20\n",
            "1172/1172 [==============================] - 9s 7ms/step - loss: 1.0028 - get_f1: 0.6047 - val_loss: 1.6440 - val_get_f1: 0.4496\n",
            "Epoch 20/20\n",
            "1172/1172 [==============================] - 8s 7ms/step - loss: 0.9978 - get_f1: 0.6078 - val_loss: 1.6335 - val_get_f1: 0.4516\n"
          ]
        }
      ]
    },
    {
      "cell_type": "code",
      "source": [
        "test_loss,test_acc=model1.evaluate(x_test,y_test)\n",
        "print(\"Test accuracy:\",test_acc)"
      ],
      "metadata": {
        "colab": {
          "base_uri": "https://localhost:8080/"
        },
        "id": "_gWoHDyQtwzm",
        "outputId": "b34a941f-e4ed-4b8d-b970-de6052f2fa9b"
      },
      "execution_count": null,
      "outputs": [
        {
          "output_type": "stream",
          "name": "stdout",
          "text": [
            "313/313 [==============================] - 1s 2ms/step - loss: 1.6070 - get_f1: 0.4501\n",
            "Test accuracy: 0.45006701350212097\n"
          ]
        }
      ]
    },
    {
      "cell_type": "markdown",
      "source": [
        "### Model2"
      ],
      "metadata": {
        "id": "BaJ3l7fk0bsO"
      }
    },
    {
      "cell_type": "markdown",
      "source": [
        "#### model2 and with adam optimizer "
      ],
      "metadata": {
        "id": "ahhRJoVqwlMX"
      }
    },
    {
      "cell_type": "code",
      "source": [
        "model2.compile(optimizer='adam',loss=\"categorical_crossentropy\", metrics=get_f1)\n",
        "\n",
        "history4 = model2.fit(x_train,y_train, validation_split=0.25, epochs=20)"
      ],
      "metadata": {
        "colab": {
          "base_uri": "https://localhost:8080/"
        },
        "id": "7ana-Qq1eXL3",
        "outputId": "a599691a-d8b1-4e86-c98e-0842f789e2dc"
      },
      "execution_count": null,
      "outputs": [
        {
          "output_type": "stream",
          "name": "stdout",
          "text": [
            "Epoch 1/20\n",
            "1172/1172 [==============================] - 9s 8ms/step - loss: 1.8720 - get_f1: 0.2815 - val_loss: 1.8356 - val_get_f1: 0.2875\n",
            "Epoch 2/20\n",
            "1172/1172 [==============================] - 9s 8ms/step - loss: 1.6881 - get_f1: 0.2969 - val_loss: 1.6852 - val_get_f1: 0.2966\n",
            "Epoch 3/20\n",
            "1172/1172 [==============================] - 9s 8ms/step - loss: 1.5965 - get_f1: 0.2961 - val_loss: 1.6260 - val_get_f1: 0.2783\n",
            "Epoch 4/20\n",
            "1172/1172 [==============================] - 9s 8ms/step - loss: 1.5419 - get_f1: 0.2987 - val_loss: 1.6113 - val_get_f1: 0.2945\n",
            "Epoch 5/20\n",
            "1172/1172 [==============================] - 9s 8ms/step - loss: 1.5071 - get_f1: 0.3006 - val_loss: 1.6082 - val_get_f1: 0.3116\n",
            "Epoch 6/20\n",
            "1172/1172 [==============================] - 9s 8ms/step - loss: 1.4680 - get_f1: 0.3014 - val_loss: 1.5176 - val_get_f1: 0.2900\n",
            "Epoch 7/20\n",
            "1172/1172 [==============================] - 9s 8ms/step - loss: 1.4343 - get_f1: 0.3019 - val_loss: 1.5304 - val_get_f1: 0.3019\n",
            "Epoch 8/20\n",
            "1172/1172 [==============================] - 9s 8ms/step - loss: 1.3973 - get_f1: 0.3057 - val_loss: 1.4998 - val_get_f1: 0.3039\n",
            "Epoch 9/20\n",
            "1172/1172 [==============================] - 9s 8ms/step - loss: 1.3773 - get_f1: 0.3087 - val_loss: 1.4816 - val_get_f1: 0.2934\n",
            "Epoch 10/20\n",
            "1172/1172 [==============================] - 9s 7ms/step - loss: 1.3541 - get_f1: 0.3081 - val_loss: 1.5049 - val_get_f1: 0.3090\n",
            "Epoch 11/20\n",
            "1172/1172 [==============================] - 9s 7ms/step - loss: 1.3310 - get_f1: 0.3115 - val_loss: 1.5179 - val_get_f1: 0.3069\n",
            "Epoch 12/20\n",
            "1172/1172 [==============================] - 8s 7ms/step - loss: 1.3080 - get_f1: 0.3145 - val_loss: 1.4811 - val_get_f1: 0.3149\n",
            "Epoch 13/20\n",
            "1172/1172 [==============================] - 8s 7ms/step - loss: 1.2826 - get_f1: 0.3204 - val_loss: 1.4609 - val_get_f1: 0.3042\n",
            "Epoch 14/20\n",
            "1172/1172 [==============================] - 6s 5ms/step - loss: 1.2689 - get_f1: 0.3193 - val_loss: 1.4967 - val_get_f1: 0.3111\n",
            "Epoch 15/20\n",
            "1172/1172 [==============================] - 6s 5ms/step - loss: 1.2406 - get_f1: 0.3188 - val_loss: 1.5249 - val_get_f1: 0.3115\n",
            "Epoch 16/20\n",
            "1172/1172 [==============================] - 7s 6ms/step - loss: 1.2225 - get_f1: 0.3207 - val_loss: 1.5039 - val_get_f1: 0.3085\n",
            "Epoch 17/20\n",
            "1172/1172 [==============================] - 7s 6ms/step - loss: 1.2034 - get_f1: 0.3222 - val_loss: 1.4958 - val_get_f1: 0.3150\n",
            "Epoch 18/20\n",
            "1172/1172 [==============================] - 9s 8ms/step - loss: 1.1898 - get_f1: 0.3222 - val_loss: 1.5427 - val_get_f1: 0.3089\n",
            "Epoch 19/20\n",
            "1172/1172 [==============================] - 9s 8ms/step - loss: 1.1715 - get_f1: 0.3237 - val_loss: 1.5405 - val_get_f1: 0.3038\n",
            "Epoch 20/20\n",
            "1172/1172 [==============================] - 9s 7ms/step - loss: 1.1476 - get_f1: 0.3225 - val_loss: 1.5914 - val_get_f1: 0.3080\n"
          ]
        }
      ]
    },
    {
      "cell_type": "code",
      "source": [
        "test_loss,test_acc=model2.evaluate(x_test,y_test)\n",
        "print(\"Test accuracy:\",test_acc)"
      ],
      "metadata": {
        "colab": {
          "base_uri": "https://localhost:8080/"
        },
        "id": "XfwBRJ0gg2QE",
        "outputId": "34aaab1c-fa00-412d-af3e-a492a3352f3b"
      },
      "execution_count": null,
      "outputs": [
        {
          "output_type": "stream",
          "name": "stdout",
          "text": [
            "313/313 [==============================] - 1s 2ms/step - loss: 1.5592 - get_f1: 0.3111\n",
            "Test accuracy: 0.3111017644405365\n"
          ]
        }
      ]
    },
    {
      "cell_type": "markdown",
      "source": [
        "#### model2 with Stocastic Gradient descent optimizer "
      ],
      "metadata": {
        "id": "l4prV1eeyDWC"
      }
    },
    {
      "cell_type": "code",
      "source": [
        "model2.compile(optimizer='SGD',loss=\"categorical_crossentropy\", metrics=get_f1)\n",
        "\n",
        "history5 = model2.fit(x_train,y_train,  validation_split=0.25, epochs=20)"
      ],
      "metadata": {
        "colab": {
          "base_uri": "https://localhost:8080/"
        },
        "id": "GmFVcYQEyVL4",
        "outputId": "ac4d760b-04b0-4ade-abd3-9516f1604a5f"
      },
      "execution_count": null,
      "outputs": [
        {
          "output_type": "stream",
          "name": "stdout",
          "text": [
            "Epoch 1/20\n",
            "1172/1172 [==============================] - 8s 7ms/step - loss: 0.9879 - get_f1: 0.3276 - val_loss: 1.5030 - val_get_f1: 0.3104\n",
            "Epoch 2/20\n",
            "1172/1172 [==============================] - 8s 7ms/step - loss: 0.9523 - get_f1: 0.3273 - val_loss: 1.5258 - val_get_f1: 0.3113\n",
            "Epoch 3/20\n",
            "1172/1172 [==============================] - 8s 7ms/step - loss: 0.9379 - get_f1: 0.3277 - val_loss: 1.5446 - val_get_f1: 0.3075\n",
            "Epoch 4/20\n",
            "1172/1172 [==============================] - 8s 7ms/step - loss: 0.9287 - get_f1: 0.3259 - val_loss: 1.5528 - val_get_f1: 0.3081\n",
            "Epoch 5/20\n",
            "1172/1172 [==============================] - 8s 7ms/step - loss: 0.9204 - get_f1: 0.3252 - val_loss: 1.5854 - val_get_f1: 0.3084\n",
            "Epoch 6/20\n",
            "1172/1172 [==============================] - 8s 7ms/step - loss: 0.9138 - get_f1: 0.3254 - val_loss: 1.5708 - val_get_f1: 0.3055\n",
            "Epoch 7/20\n",
            "1172/1172 [==============================] - 8s 7ms/step - loss: 0.9065 - get_f1: 0.3237 - val_loss: 1.5906 - val_get_f1: 0.3060\n",
            "Epoch 8/20\n",
            "1172/1172 [==============================] - 8s 7ms/step - loss: 0.8992 - get_f1: 0.3236 - val_loss: 1.6068 - val_get_f1: 0.3070\n",
            "Epoch 9/20\n",
            "1172/1172 [==============================] - 8s 7ms/step - loss: 0.8947 - get_f1: 0.3241 - val_loss: 1.6040 - val_get_f1: 0.3066\n",
            "Epoch 10/20\n",
            "1172/1172 [==============================] - 8s 7ms/step - loss: 0.8870 - get_f1: 0.3233 - val_loss: 1.6270 - val_get_f1: 0.3060\n",
            "Epoch 11/20\n",
            "1172/1172 [==============================] - 8s 7ms/step - loss: 0.8822 - get_f1: 0.3232 - val_loss: 1.6336 - val_get_f1: 0.3075\n",
            "Epoch 12/20\n",
            "1172/1172 [==============================] - 8s 7ms/step - loss: 0.8778 - get_f1: 0.3225 - val_loss: 1.6447 - val_get_f1: 0.3053\n",
            "Epoch 13/20\n",
            "1172/1172 [==============================] - 8s 7ms/step - loss: 0.8719 - get_f1: 0.3228 - val_loss: 1.6494 - val_get_f1: 0.3031\n",
            "Epoch 14/20\n",
            "1172/1172 [==============================] - 8s 7ms/step - loss: 0.8662 - get_f1: 0.3222 - val_loss: 1.6689 - val_get_f1: 0.3040\n",
            "Epoch 15/20\n",
            "1172/1172 [==============================] - 8s 7ms/step - loss: 0.8614 - get_f1: 0.3213 - val_loss: 1.6704 - val_get_f1: 0.3039\n",
            "Epoch 16/20\n",
            "1172/1172 [==============================] - 7s 6ms/step - loss: 0.8557 - get_f1: 0.3222 - val_loss: 1.7006 - val_get_f1: 0.3035\n",
            "Epoch 17/20\n",
            "1172/1172 [==============================] - 8s 7ms/step - loss: 0.8507 - get_f1: 0.3213 - val_loss: 1.7056 - val_get_f1: 0.3017\n",
            "Epoch 18/20\n",
            "1172/1172 [==============================] - 8s 7ms/step - loss: 0.8457 - get_f1: 0.3206 - val_loss: 1.7029 - val_get_f1: 0.3008\n",
            "Epoch 19/20\n",
            "1172/1172 [==============================] - 8s 7ms/step - loss: 0.8414 - get_f1: 0.3209 - val_loss: 1.7041 - val_get_f1: 0.3030\n",
            "Epoch 20/20\n",
            "1172/1172 [==============================] - 8s 7ms/step - loss: 0.8367 - get_f1: 0.3205 - val_loss: 1.7251 - val_get_f1: 0.3028\n"
          ]
        }
      ]
    },
    {
      "cell_type": "code",
      "source": [
        "test_loss,test_acc=model2.evaluate(x_test,y_test)\n",
        "print(\"Test accuracy:\",test_acc)"
      ],
      "metadata": {
        "colab": {
          "base_uri": "https://localhost:8080/"
        },
        "id": "GdwQvmKgzKP4",
        "outputId": "ed565704-9802-44b6-e06f-52b25233e616"
      },
      "execution_count": null,
      "outputs": [
        {
          "output_type": "stream",
          "name": "stdout",
          "text": [
            "313/313 [==============================] - 1s 2ms/step - loss: 1.6959 - get_f1: 0.3045\n",
            "Test accuracy: 0.30452901124954224\n"
          ]
        }
      ]
    },
    {
      "cell_type": "markdown",
      "source": [
        "#### model2 with Adamax "
      ],
      "metadata": {
        "id": "1_FhfwQLwy2o"
      }
    },
    {
      "cell_type": "code",
      "source": [
        "model2.compile(optimizer='adamax',loss=\"categorical_crossentropy\", metrics=get_f1)\n",
        "\n",
        "history6 = model2.fit(x_train,y_train,  validation_split=0.25, epochs=20)"
      ],
      "metadata": {
        "colab": {
          "base_uri": "https://localhost:8080/"
        },
        "id": "MjnIru6lw47C",
        "outputId": "b9b8b605-d1f7-444a-81cf-f74997b26fa7"
      },
      "execution_count": null,
      "outputs": [
        {
          "output_type": "stream",
          "name": "stdout",
          "text": [
            "Epoch 1/20\n",
            "1172/1172 [==============================] - 10s 8ms/step - loss: 0.8622 - get_f1: 0.3175 - val_loss: 1.7154 - val_get_f1: 0.2995\n",
            "Epoch 2/20\n",
            "1172/1172 [==============================] - 9s 8ms/step - loss: 0.8458 - get_f1: 0.3160 - val_loss: 1.7549 - val_get_f1: 0.2968\n",
            "Epoch 3/20\n",
            "1172/1172 [==============================] - 9s 7ms/step - loss: 0.8373 - get_f1: 0.3145 - val_loss: 1.7517 - val_get_f1: 0.2947\n",
            "Epoch 4/20\n",
            "1172/1172 [==============================] - 8s 7ms/step - loss: 0.8290 - get_f1: 0.3125 - val_loss: 1.7569 - val_get_f1: 0.2940\n",
            "Epoch 5/20\n",
            "1172/1172 [==============================] - 9s 7ms/step - loss: 0.8202 - get_f1: 0.3123 - val_loss: 1.7842 - val_get_f1: 0.2937\n",
            "Epoch 6/20\n",
            "1172/1172 [==============================] - 9s 8ms/step - loss: 0.8115 - get_f1: 0.3106 - val_loss: 1.7748 - val_get_f1: 0.2932\n",
            "Epoch 7/20\n",
            "1172/1172 [==============================] - 8s 7ms/step - loss: 0.8067 - get_f1: 0.3101 - val_loss: 1.7796 - val_get_f1: 0.2880\n",
            "Epoch 8/20\n",
            "1172/1172 [==============================] - 9s 7ms/step - loss: 0.7980 - get_f1: 0.3087 - val_loss: 1.8266 - val_get_f1: 0.2926\n",
            "Epoch 9/20\n",
            "1172/1172 [==============================] - 9s 7ms/step - loss: 0.7898 - get_f1: 0.3079 - val_loss: 1.8236 - val_get_f1: 0.2916\n",
            "Epoch 10/20\n",
            "1172/1172 [==============================] - 9s 8ms/step - loss: 0.7841 - get_f1: 0.3069 - val_loss: 1.8329 - val_get_f1: 0.2909\n",
            "Epoch 11/20\n",
            "1172/1172 [==============================] - 8s 7ms/step - loss: 0.7765 - get_f1: 0.3064 - val_loss: 1.8338 - val_get_f1: 0.2872\n",
            "Epoch 12/20\n",
            "1172/1172 [==============================] - 9s 8ms/step - loss: 0.7688 - get_f1: 0.3052 - val_loss: 1.8480 - val_get_f1: 0.2897\n",
            "Epoch 13/20\n",
            "1172/1172 [==============================] - 9s 7ms/step - loss: 0.7622 - get_f1: 0.3049 - val_loss: 1.8642 - val_get_f1: 0.2882\n",
            "Epoch 14/20\n",
            "1172/1172 [==============================] - 9s 8ms/step - loss: 0.7554 - get_f1: 0.3037 - val_loss: 1.8838 - val_get_f1: 0.2865\n",
            "Epoch 15/20\n",
            "1172/1172 [==============================] - 8s 7ms/step - loss: 0.7496 - get_f1: 0.3032 - val_loss: 1.8974 - val_get_f1: 0.2845\n",
            "Epoch 16/20\n",
            "1172/1172 [==============================] - 9s 8ms/step - loss: 0.7426 - get_f1: 0.3016 - val_loss: 1.9058 - val_get_f1: 0.2848\n",
            "Epoch 17/20\n",
            "1172/1172 [==============================] - 9s 7ms/step - loss: 0.7367 - get_f1: 0.3018 - val_loss: 1.9153 - val_get_f1: 0.2827\n",
            "Epoch 18/20\n",
            "1172/1172 [==============================] - 9s 7ms/step - loss: 0.7291 - get_f1: 0.3009 - val_loss: 1.9403 - val_get_f1: 0.2839\n",
            "Epoch 19/20\n",
            "1172/1172 [==============================] - 9s 8ms/step - loss: 0.7210 - get_f1: 0.3009 - val_loss: 1.9464 - val_get_f1: 0.2842\n",
            "Epoch 20/20\n",
            "1172/1172 [==============================] - 9s 8ms/step - loss: 0.7156 - get_f1: 0.2993 - val_loss: 2.0031 - val_get_f1: 0.2841\n"
          ]
        }
      ]
    },
    {
      "cell_type": "code",
      "source": [
        "test_loss,test_acc=model2.evaluate(x_test,y_test)\n",
        "print(\"Test accuracy:\",test_acc)"
      ],
      "metadata": {
        "colab": {
          "base_uri": "https://localhost:8080/"
        },
        "id": "hgMYnA7Mw8jb",
        "outputId": "58bc8fd0-7460-41b3-c0d2-44eb24f0de27"
      },
      "execution_count": null,
      "outputs": [
        {
          "output_type": "stream",
          "name": "stdout",
          "text": [
            "313/313 [==============================] - 1s 3ms/step - loss: 1.9689 - get_f1: 0.2856\n",
            "Test accuracy: 0.28559935092926025\n"
          ]
        }
      ]
    },
    {
      "cell_type": "markdown",
      "source": [
        "### Model3"
      ],
      "metadata": {
        "id": "uFWUJs7K0f6S"
      }
    },
    {
      "cell_type": "markdown",
      "source": [
        "#### model3 with adam optimizer"
      ],
      "metadata": {
        "id": "d_zEv0gtQsT0"
      }
    },
    {
      "cell_type": "code",
      "source": [
        "model3.compile(optimizer='adam',loss=\"categorical_crossentropy\", metrics=get_f1)\n",
        "\n",
        "history7 = model3.fit(x_train,y_train,  validation_split=0.25, epochs=20)"
      ],
      "metadata": {
        "colab": {
          "base_uri": "https://localhost:8080/"
        },
        "id": "INRw5xsvQ1fJ",
        "outputId": "3d6d6866-fd35-429a-99f0-e35c52186c72"
      },
      "execution_count": null,
      "outputs": [
        {
          "output_type": "stream",
          "name": "stdout",
          "text": [
            "Epoch 1/20\n",
            "1172/1172 [==============================] - 9s 7ms/step - loss: 1.9261 - get_f1: 0.2973 - val_loss: 1.8068 - val_get_f1: 0.3232\n",
            "Epoch 2/20\n",
            "1172/1172 [==============================] - 9s 8ms/step - loss: 1.7549 - get_f1: 0.3282 - val_loss: 1.7390 - val_get_f1: 0.3242\n",
            "Epoch 3/20\n",
            "1172/1172 [==============================] - 8s 7ms/step - loss: 1.6913 - get_f1: 0.3383 - val_loss: 1.7122 - val_get_f1: 0.3374\n",
            "Epoch 4/20\n",
            "1172/1172 [==============================] - 9s 8ms/step - loss: 1.6430 - get_f1: 0.3431 - val_loss: 1.6300 - val_get_f1: 0.3465\n",
            "Epoch 5/20\n",
            "1172/1172 [==============================] - 9s 8ms/step - loss: 1.6059 - get_f1: 0.3485 - val_loss: 1.6494 - val_get_f1: 0.3431\n",
            "Epoch 6/20\n",
            "1172/1172 [==============================] - 9s 8ms/step - loss: 1.5761 - get_f1: 0.3566 - val_loss: 1.5834 - val_get_f1: 0.3520\n",
            "Epoch 7/20\n",
            "1172/1172 [==============================] - 9s 7ms/step - loss: 1.5501 - get_f1: 0.3601 - val_loss: 1.6261 - val_get_f1: 0.3473\n",
            "Epoch 8/20\n",
            "1172/1172 [==============================] - 8s 7ms/step - loss: 1.5302 - get_f1: 0.3665 - val_loss: 1.5697 - val_get_f1: 0.3625\n",
            "Epoch 9/20\n",
            "1172/1172 [==============================] - 9s 8ms/step - loss: 1.5132 - get_f1: 0.3697 - val_loss: 1.5447 - val_get_f1: 0.3675\n",
            "Epoch 10/20\n",
            "1172/1172 [==============================] - 8s 7ms/step - loss: 1.4992 - get_f1: 0.3682 - val_loss: 1.5243 - val_get_f1: 0.3601\n",
            "Epoch 11/20\n",
            "1172/1172 [==============================] - 9s 8ms/step - loss: 1.4798 - get_f1: 0.3729 - val_loss: 1.5613 - val_get_f1: 0.3573\n",
            "Epoch 12/20\n",
            "1172/1172 [==============================] - 9s 7ms/step - loss: 1.4687 - get_f1: 0.3766 - val_loss: 1.5252 - val_get_f1: 0.3698\n",
            "Epoch 13/20\n",
            "1172/1172 [==============================] - 9s 8ms/step - loss: 1.4554 - get_f1: 0.3843 - val_loss: 1.5242 - val_get_f1: 0.3713\n",
            "Epoch 14/20\n",
            "1172/1172 [==============================] - 8s 7ms/step - loss: 1.4447 - get_f1: 0.3861 - val_loss: 1.5402 - val_get_f1: 0.3587\n",
            "Epoch 15/20\n",
            "1172/1172 [==============================] - 9s 8ms/step - loss: 1.4396 - get_f1: 0.3854 - val_loss: 1.5712 - val_get_f1: 0.3640\n",
            "Epoch 16/20\n",
            "1172/1172 [==============================] - 8s 7ms/step - loss: 1.4267 - get_f1: 0.3892 - val_loss: 1.5201 - val_get_f1: 0.3763\n",
            "Epoch 17/20\n",
            "1172/1172 [==============================] - 9s 8ms/step - loss: 1.4173 - get_f1: 0.3924 - val_loss: 1.5005 - val_get_f1: 0.3844\n",
            "Epoch 18/20\n",
            "1172/1172 [==============================] - 9s 7ms/step - loss: 1.4073 - get_f1: 0.3927 - val_loss: 1.5386 - val_get_f1: 0.3658\n",
            "Epoch 19/20\n",
            "1172/1172 [==============================] - 9s 8ms/step - loss: 1.3960 - get_f1: 0.3930 - val_loss: 1.5774 - val_get_f1: 0.3744\n",
            "Epoch 20/20\n",
            "1172/1172 [==============================] - 9s 8ms/step - loss: 1.3857 - get_f1: 0.4000 - val_loss: 1.5441 - val_get_f1: 0.3848\n"
          ]
        }
      ]
    },
    {
      "cell_type": "code",
      "source": [
        "test_loss,test_acc=model3.evaluate(x_test,y_test)\n",
        "print(\"Test accuracy:\",test_acc)"
      ],
      "metadata": {
        "colab": {
          "base_uri": "https://localhost:8080/"
        },
        "id": "uwjoscAYkEgf",
        "outputId": "6a968904-d72d-4aa8-c43a-523152a176d7"
      },
      "execution_count": null,
      "outputs": [
        {
          "output_type": "stream",
          "name": "stdout",
          "text": [
            "313/313 [==============================] - 1s 2ms/step - loss: 1.5155 - get_f1: 0.3893\n",
            "Test accuracy: 0.3892556428909302\n"
          ]
        }
      ]
    },
    {
      "cell_type": "markdown",
      "source": [
        "#### model3 with SGD optimizer"
      ],
      "metadata": {
        "id": "j753mW3tRAni"
      }
    },
    {
      "cell_type": "code",
      "source": [
        "model3.compile(optimizer='SGD',loss=\"categorical_crossentropy\", metrics=get_f1)\n",
        "\n",
        "history8 = model3.fit(x_train,y_train, validation_split=0.25, epochs=20)"
      ],
      "metadata": {
        "colab": {
          "base_uri": "https://localhost:8080/"
        },
        "id": "r--0rz3eRVAt",
        "outputId": "c5501053-f64f-4291-844b-7e779e3040e8"
      },
      "execution_count": null,
      "outputs": [
        {
          "output_type": "stream",
          "name": "stdout",
          "text": [
            "Epoch 1/20\n",
            "1172/1172 [==============================] - 8s 6ms/step - loss: 1.2955 - get_f1: 0.4080 - val_loss: 1.4654 - val_get_f1: 0.3870\n",
            "Epoch 2/20\n",
            "1172/1172 [==============================] - 8s 6ms/step - loss: 1.2813 - get_f1: 0.4097 - val_loss: 1.4685 - val_get_f1: 0.3883\n",
            "Epoch 3/20\n",
            "1172/1172 [==============================] - 7s 6ms/step - loss: 1.2773 - get_f1: 0.4090 - val_loss: 1.4603 - val_get_f1: 0.3870\n",
            "Epoch 4/20\n",
            "1172/1172 [==============================] - 7s 6ms/step - loss: 1.2733 - get_f1: 0.4083 - val_loss: 1.4605 - val_get_f1: 0.3840\n",
            "Epoch 5/20\n",
            "1172/1172 [==============================] - 8s 7ms/step - loss: 1.2703 - get_f1: 0.4073 - val_loss: 1.4607 - val_get_f1: 0.3806\n",
            "Epoch 6/20\n",
            "1172/1172 [==============================] - 6s 5ms/step - loss: 1.2677 - get_f1: 0.4071 - val_loss: 1.4702 - val_get_f1: 0.3807\n",
            "Epoch 7/20\n",
            "1172/1172 [==============================] - 6s 5ms/step - loss: 1.2627 - get_f1: 0.4082 - val_loss: 1.4624 - val_get_f1: 0.3850\n",
            "Epoch 8/20\n",
            "1172/1172 [==============================] - 8s 7ms/step - loss: 1.2616 - get_f1: 0.4098 - val_loss: 1.4687 - val_get_f1: 0.3837\n",
            "Epoch 9/20\n",
            "1172/1172 [==============================] - 8s 7ms/step - loss: 1.2596 - get_f1: 0.4095 - val_loss: 1.4719 - val_get_f1: 0.3817\n",
            "Epoch 10/20\n",
            "1172/1172 [==============================] - 8s 6ms/step - loss: 1.2566 - get_f1: 0.4107 - val_loss: 1.4688 - val_get_f1: 0.3839\n",
            "Epoch 11/20\n",
            "1172/1172 [==============================] - 8s 7ms/step - loss: 1.2561 - get_f1: 0.4121 - val_loss: 1.4612 - val_get_f1: 0.3824\n",
            "Epoch 12/20\n",
            "1172/1172 [==============================] - 8s 6ms/step - loss: 1.2539 - get_f1: 0.4107 - val_loss: 1.4673 - val_get_f1: 0.3828\n",
            "Epoch 13/20\n",
            "1172/1172 [==============================] - 8s 7ms/step - loss: 1.2541 - get_f1: 0.4102 - val_loss: 1.4651 - val_get_f1: 0.3804\n",
            "Epoch 14/20\n",
            "1172/1172 [==============================] - 7s 6ms/step - loss: 1.2497 - get_f1: 0.4102 - val_loss: 1.4655 - val_get_f1: 0.3821\n",
            "Epoch 15/20\n",
            "1172/1172 [==============================] - 7s 6ms/step - loss: 1.2475 - get_f1: 0.4099 - val_loss: 1.4632 - val_get_f1: 0.3837\n",
            "Epoch 16/20\n",
            "1172/1172 [==============================] - 7s 6ms/step - loss: 1.2466 - get_f1: 0.4096 - val_loss: 1.4656 - val_get_f1: 0.3834\n",
            "Epoch 17/20\n",
            "1172/1172 [==============================] - 7s 6ms/step - loss: 1.2423 - get_f1: 0.4112 - val_loss: 1.4739 - val_get_f1: 0.3830\n",
            "Epoch 18/20\n",
            "1172/1172 [==============================] - 7s 6ms/step - loss: 1.2420 - get_f1: 0.4102 - val_loss: 1.4782 - val_get_f1: 0.3784\n",
            "Epoch 19/20\n",
            "1172/1172 [==============================] - 7s 6ms/step - loss: 1.2402 - get_f1: 0.4097 - val_loss: 1.4725 - val_get_f1: 0.3795\n",
            "Epoch 20/20\n",
            "1172/1172 [==============================] - 7s 6ms/step - loss: 1.2383 - get_f1: 0.4089 - val_loss: 1.4720 - val_get_f1: 0.3820\n"
          ]
        }
      ]
    },
    {
      "cell_type": "code",
      "source": [
        "test_loss,test_acc=model3.evaluate(x_test,y_test)\n",
        "print(\"Test accuracy:\",test_acc)"
      ],
      "metadata": {
        "colab": {
          "base_uri": "https://localhost:8080/"
        },
        "id": "dKLehooAkSS1",
        "outputId": "110c58ce-215a-4d5f-c14c-db76fe7a02d4"
      },
      "execution_count": null,
      "outputs": [
        {
          "output_type": "stream",
          "name": "stdout",
          "text": [
            "313/313 [==============================] - 1s 2ms/step - loss: 1.4416 - get_f1: 0.3862\n",
            "Test accuracy: 0.3862099051475525\n"
          ]
        }
      ]
    },
    {
      "cell_type": "markdown",
      "source": [
        "#### model3 with adamax "
      ],
      "metadata": {
        "id": "VR5rWfSJxqp7"
      }
    },
    {
      "cell_type": "code",
      "source": [
        "model3.compile(optimizer='adamax',loss=\"categorical_crossentropy\", metrics=get_f1)\n",
        "\n",
        "history9 =model3.fit(x_train,y_train, validation_split=0.25, epochs=20)"
      ],
      "metadata": {
        "colab": {
          "base_uri": "https://localhost:8080/"
        },
        "id": "a9eUAgNIxuAc",
        "outputId": "5312cbeb-bfe8-48cc-956e-2d7f89ef1370"
      },
      "execution_count": null,
      "outputs": [
        {
          "output_type": "stream",
          "name": "stdout",
          "text": [
            "Epoch 1/20\n",
            "1172/1172 [==============================] - 9s 7ms/step - loss: 1.2479 - get_f1: 0.4152 - val_loss: 1.4753 - val_get_f1: 0.3886\n",
            "Epoch 2/20\n",
            "1172/1172 [==============================] - 9s 7ms/step - loss: 1.2422 - get_f1: 0.4183 - val_loss: 1.4679 - val_get_f1: 0.3894\n",
            "Epoch 3/20\n",
            "1172/1172 [==============================] - 9s 7ms/step - loss: 1.2384 - get_f1: 0.4217 - val_loss: 1.4707 - val_get_f1: 0.3886\n",
            "Epoch 4/20\n",
            "1172/1172 [==============================] - 8s 7ms/step - loss: 1.2370 - get_f1: 0.4239 - val_loss: 1.4716 - val_get_f1: 0.3916\n",
            "Epoch 5/20\n",
            "1172/1172 [==============================] - 8s 7ms/step - loss: 1.2406 - get_f1: 0.4274 - val_loss: 1.4822 - val_get_f1: 0.3981\n",
            "Epoch 6/20\n",
            "1172/1172 [==============================] - 8s 7ms/step - loss: 1.2268 - get_f1: 0.4331 - val_loss: 1.4706 - val_get_f1: 0.3981\n",
            "Epoch 7/20\n",
            "1172/1172 [==============================] - 8s 7ms/step - loss: 1.2250 - get_f1: 0.4360 - val_loss: 1.4758 - val_get_f1: 0.4035\n",
            "Epoch 8/20\n",
            "1172/1172 [==============================] - 9s 7ms/step - loss: 1.2236 - get_f1: 0.4406 - val_loss: 1.4745 - val_get_f1: 0.4050\n",
            "Epoch 9/20\n",
            "1172/1172 [==============================] - 8s 7ms/step - loss: 1.2194 - get_f1: 0.4409 - val_loss: 1.4708 - val_get_f1: 0.4056\n",
            "Epoch 10/20\n",
            "1172/1172 [==============================] - 9s 7ms/step - loss: 1.2199 - get_f1: 0.4451 - val_loss: 1.4716 - val_get_f1: 0.4139\n",
            "Epoch 11/20\n",
            "1172/1172 [==============================] - 8s 7ms/step - loss: 1.2188 - get_f1: 0.4490 - val_loss: 1.4640 - val_get_f1: 0.4135\n",
            "Epoch 12/20\n",
            "1172/1172 [==============================] - 9s 7ms/step - loss: 1.2133 - get_f1: 0.4531 - val_loss: 1.4820 - val_get_f1: 0.4158\n",
            "Epoch 13/20\n",
            "1172/1172 [==============================] - 9s 7ms/step - loss: 1.2102 - get_f1: 0.4575 - val_loss: 1.4711 - val_get_f1: 0.4201\n",
            "Epoch 14/20\n",
            "1172/1172 [==============================] - 8s 7ms/step - loss: 1.2056 - get_f1: 0.4610 - val_loss: 1.4838 - val_get_f1: 0.4213\n",
            "Epoch 15/20\n",
            "1172/1172 [==============================] - 9s 7ms/step - loss: 1.2005 - get_f1: 0.4636 - val_loss: 1.4700 - val_get_f1: 0.4223\n",
            "Epoch 16/20\n",
            "1172/1172 [==============================] - 8s 7ms/step - loss: 1.2014 - get_f1: 0.4670 - val_loss: 1.4771 - val_get_f1: 0.4219\n",
            "Epoch 17/20\n",
            "1172/1172 [==============================] - 8s 7ms/step - loss: 1.1992 - get_f1: 0.4696 - val_loss: 1.4727 - val_get_f1: 0.4316\n",
            "Epoch 18/20\n",
            "1172/1172 [==============================] - 9s 7ms/step - loss: 1.2007 - get_f1: 0.4722 - val_loss: 1.4684 - val_get_f1: 0.4321\n",
            "Epoch 19/20\n",
            "1172/1172 [==============================] - 9s 7ms/step - loss: 1.1964 - get_f1: 0.4775 - val_loss: 1.4706 - val_get_f1: 0.4350\n",
            "Epoch 20/20\n",
            "1172/1172 [==============================] - 8s 7ms/step - loss: 1.1942 - get_f1: 0.4773 - val_loss: 1.4861 - val_get_f1: 0.4335\n"
          ]
        }
      ]
    },
    {
      "cell_type": "code",
      "source": [
        "test_loss,test_acc=model3.evaluate(x_test,y_test)\n",
        "print(\"Test accuracy:\",test_acc)"
      ],
      "metadata": {
        "colab": {
          "base_uri": "https://localhost:8080/"
        },
        "id": "EzaFkFh3xyH_",
        "outputId": "48ebb08b-7100-4bdb-e291-012a14eed0cf"
      },
      "execution_count": null,
      "outputs": [
        {
          "output_type": "stream",
          "name": "stdout",
          "text": [
            "313/313 [==============================] - 1s 2ms/step - loss: 1.4593 - get_f1: 0.4386\n",
            "Test accuracy: 0.4386318325996399\n"
          ]
        }
      ]
    },
    {
      "cell_type": "markdown",
      "source": [
        "### Model4"
      ],
      "metadata": {
        "id": "tDbT6tCt0kI9"
      }
    },
    {
      "cell_type": "markdown",
      "source": [
        "#### model4 with adam optimizer"
      ],
      "metadata": {
        "id": "vJUMvKVzRKj2"
      }
    },
    {
      "cell_type": "code",
      "source": [
        "model4.compile(optimizer='adam',loss=\"categorical_crossentropy\", metrics=get_f1)\n",
        "\n",
        "history10 = model4.fit(x_train,y_train, validation_split=0.25, epochs=20)"
      ],
      "metadata": {
        "colab": {
          "base_uri": "https://localhost:8080/"
        },
        "id": "C2FvDcNERX5O",
        "outputId": "064838df-3dd1-4ffc-a566-c4dc0f318685"
      },
      "execution_count": null,
      "outputs": [
        {
          "output_type": "stream",
          "name": "stdout",
          "text": [
            "Epoch 1/20\n",
            "1172/1172 [==============================] - 9s 7ms/step - loss: 1.9407 - get_f1: 0.1259 - val_loss: 1.7625 - val_get_f1: 0.2109\n",
            "Epoch 2/20\n",
            "1172/1172 [==============================] - 9s 7ms/step - loss: 1.7357 - get_f1: 0.2220 - val_loss: 1.6947 - val_get_f1: 0.2616\n",
            "Epoch 3/20\n",
            "1172/1172 [==============================] - 9s 8ms/step - loss: 1.6415 - get_f1: 0.2773 - val_loss: 1.6864 - val_get_f1: 0.2833\n",
            "Epoch 4/20\n",
            "1172/1172 [==============================] - 9s 8ms/step - loss: 1.5884 - get_f1: 0.3064 - val_loss: 1.6101 - val_get_f1: 0.2736\n",
            "Epoch 5/20\n",
            "1172/1172 [==============================] - 8s 7ms/step - loss: 1.5515 - get_f1: 0.3258 - val_loss: 1.5325 - val_get_f1: 0.3291\n",
            "Epoch 6/20\n",
            "1172/1172 [==============================] - 9s 7ms/step - loss: 1.5201 - get_f1: 0.3452 - val_loss: 1.5786 - val_get_f1: 0.3207\n",
            "Epoch 7/20\n",
            "1172/1172 [==============================] - 8s 7ms/step - loss: 1.4937 - get_f1: 0.3658 - val_loss: 1.5774 - val_get_f1: 0.3743\n",
            "Epoch 8/20\n",
            "1172/1172 [==============================] - 8s 7ms/step - loss: 1.4796 - get_f1: 0.3727 - val_loss: 1.5642 - val_get_f1: 0.3211\n",
            "Epoch 9/20\n",
            "1172/1172 [==============================] - 8s 7ms/step - loss: 1.4555 - get_f1: 0.3846 - val_loss: 1.5219 - val_get_f1: 0.3398\n",
            "Epoch 10/20\n",
            "1172/1172 [==============================] - 9s 7ms/step - loss: 1.4340 - get_f1: 0.3953 - val_loss: 1.4721 - val_get_f1: 0.4021\n",
            "Epoch 11/20\n",
            "1172/1172 [==============================] - 8s 7ms/step - loss: 1.4157 - get_f1: 0.4113 - val_loss: 1.4869 - val_get_f1: 0.3945\n",
            "Epoch 12/20\n",
            "1172/1172 [==============================] - 8s 7ms/step - loss: 1.4014 - get_f1: 0.4141 - val_loss: 1.5160 - val_get_f1: 0.3832\n",
            "Epoch 13/20\n",
            "1172/1172 [==============================] - 8s 7ms/step - loss: 1.3858 - get_f1: 0.4214 - val_loss: 1.4784 - val_get_f1: 0.4161\n",
            "Epoch 14/20\n",
            "1172/1172 [==============================] - 9s 7ms/step - loss: 1.3693 - get_f1: 0.4365 - val_loss: 1.5342 - val_get_f1: 0.3875\n",
            "Epoch 15/20\n",
            "1172/1172 [==============================] - 8s 7ms/step - loss: 1.3526 - get_f1: 0.4413 - val_loss: 1.4791 - val_get_f1: 0.4103\n",
            "Epoch 16/20\n",
            "1172/1172 [==============================] - 8s 7ms/step - loss: 1.3400 - get_f1: 0.4489 - val_loss: 1.4482 - val_get_f1: 0.4235\n",
            "Epoch 17/20\n",
            "1172/1172 [==============================] - 9s 8ms/step - loss: 1.3286 - get_f1: 0.4560 - val_loss: 1.4468 - val_get_f1: 0.4227\n",
            "Epoch 18/20\n",
            "1172/1172 [==============================] - 8s 7ms/step - loss: 1.3145 - get_f1: 0.4624 - val_loss: 1.4660 - val_get_f1: 0.4142\n",
            "Epoch 19/20\n",
            "1172/1172 [==============================] - 8s 7ms/step - loss: 1.3067 - get_f1: 0.4647 - val_loss: 1.4662 - val_get_f1: 0.4199\n",
            "Epoch 20/20\n",
            "1172/1172 [==============================] - 8s 7ms/step - loss: 1.2943 - get_f1: 0.4721 - val_loss: 1.4667 - val_get_f1: 0.4333\n"
          ]
        }
      ]
    },
    {
      "cell_type": "code",
      "source": [
        "test_loss,test_acc=model4.evaluate(x_test,y_test)\n",
        "print(\"Test accuracy:\",test_acc)"
      ],
      "metadata": {
        "colab": {
          "base_uri": "https://localhost:8080/"
        },
        "id": "1vUM_JdEkeBm",
        "outputId": "a8fdc815-c73c-43e1-91e0-1a3af9f05db9"
      },
      "execution_count": null,
      "outputs": [
        {
          "output_type": "stream",
          "name": "stdout",
          "text": [
            "313/313 [==============================] - 1s 3ms/step - loss: 1.4584 - get_f1: 0.4300\n",
            "Test accuracy: 0.43004801869392395\n"
          ]
        }
      ]
    },
    {
      "cell_type": "markdown",
      "source": [
        "#### model4 with SGD optimizer"
      ],
      "metadata": {
        "id": "ObaAYmUFRPEB"
      }
    },
    {
      "cell_type": "code",
      "source": [
        "model4.compile(optimizer='SGD',loss=\"categorical_crossentropy\", metrics=get_f1)\n",
        "\n",
        "history11 = model4.fit(x_train,y_train,  validation_split=0.25,epochs=20)"
      ],
      "metadata": {
        "colab": {
          "base_uri": "https://localhost:8080/"
        },
        "id": "2kJPJXdkRa2E",
        "outputId": "ee2bc703-b87e-4308-f10a-f9f9608c42ed"
      },
      "execution_count": null,
      "outputs": [
        {
          "output_type": "stream",
          "name": "stdout",
          "text": [
            "Epoch 1/20\n",
            "1172/1172 [==============================] - 8s 7ms/step - loss: 1.1830 - get_f1: 0.5180 - val_loss: 1.3832 - val_get_f1: 0.4652\n",
            "Epoch 2/20\n",
            "1172/1172 [==============================] - 8s 6ms/step - loss: 1.1568 - get_f1: 0.5362 - val_loss: 1.3854 - val_get_f1: 0.4691\n",
            "Epoch 3/20\n",
            "1172/1172 [==============================] - 8s 6ms/step - loss: 1.1521 - get_f1: 0.5388 - val_loss: 1.4069 - val_get_f1: 0.4755\n",
            "Epoch 4/20\n",
            "1172/1172 [==============================] - 8s 7ms/step - loss: 1.1450 - get_f1: 0.5421 - val_loss: 1.3888 - val_get_f1: 0.4758\n",
            "Epoch 5/20\n",
            "1172/1172 [==============================] - 7s 6ms/step - loss: 1.1412 - get_f1: 0.5431 - val_loss: 1.3884 - val_get_f1: 0.4843\n",
            "Epoch 6/20\n",
            "1172/1172 [==============================] - 8s 7ms/step - loss: 1.1386 - get_f1: 0.5431 - val_loss: 1.3927 - val_get_f1: 0.4751\n",
            "Epoch 7/20\n",
            "1172/1172 [==============================] - 7s 6ms/step - loss: 1.1351 - get_f1: 0.5452 - val_loss: 1.3965 - val_get_f1: 0.4786\n",
            "Epoch 8/20\n",
            "1172/1172 [==============================] - 7s 6ms/step - loss: 1.1324 - get_f1: 0.5473 - val_loss: 1.3882 - val_get_f1: 0.4767\n",
            "Epoch 9/20\n",
            "1172/1172 [==============================] - 8s 7ms/step - loss: 1.1312 - get_f1: 0.5500 - val_loss: 1.3927 - val_get_f1: 0.4782\n",
            "Epoch 10/20\n",
            "1172/1172 [==============================] - 8s 7ms/step - loss: 1.1293 - get_f1: 0.5494 - val_loss: 1.3873 - val_get_f1: 0.4795\n",
            "Epoch 11/20\n",
            "1172/1172 [==============================] - 8s 7ms/step - loss: 1.1208 - get_f1: 0.5531 - val_loss: 1.3981 - val_get_f1: 0.4758\n",
            "Epoch 12/20\n",
            "1172/1172 [==============================] - 7s 6ms/step - loss: 1.1233 - get_f1: 0.5531 - val_loss: 1.3923 - val_get_f1: 0.4799\n",
            "Epoch 13/20\n",
            "1172/1172 [==============================] - 7s 6ms/step - loss: 1.1195 - get_f1: 0.5543 - val_loss: 1.3992 - val_get_f1: 0.4800\n",
            "Epoch 14/20\n",
            "1172/1172 [==============================] - 8s 7ms/step - loss: 1.1174 - get_f1: 0.5553 - val_loss: 1.3931 - val_get_f1: 0.4819\n",
            "Epoch 15/20\n",
            "1172/1172 [==============================] - 8s 7ms/step - loss: 1.1159 - get_f1: 0.5579 - val_loss: 1.3955 - val_get_f1: 0.4801\n",
            "Epoch 16/20\n",
            "1172/1172 [==============================] - 7s 6ms/step - loss: 1.1153 - get_f1: 0.5558 - val_loss: 1.3896 - val_get_f1: 0.4835\n",
            "Epoch 17/20\n",
            "1172/1172 [==============================] - 7s 6ms/step - loss: 1.1101 - get_f1: 0.5572 - val_loss: 1.3962 - val_get_f1: 0.4808\n",
            "Epoch 18/20\n",
            "1172/1172 [==============================] - 8s 7ms/step - loss: 1.1095 - get_f1: 0.5594 - val_loss: 1.4070 - val_get_f1: 0.4856\n",
            "Epoch 19/20\n",
            "1172/1172 [==============================] - 7s 6ms/step - loss: 1.1087 - get_f1: 0.5581 - val_loss: 1.3987 - val_get_f1: 0.4821\n",
            "Epoch 20/20\n",
            "1172/1172 [==============================] - 7s 6ms/step - loss: 1.1081 - get_f1: 0.5605 - val_loss: 1.3924 - val_get_f1: 0.4812\n"
          ]
        }
      ]
    },
    {
      "cell_type": "code",
      "source": [
        "test_loss,test_acc=model4.evaluate(x_test,y_test)\n",
        "print(\"Test accuracy:\",test_acc)"
      ],
      "metadata": {
        "colab": {
          "base_uri": "https://localhost:8080/"
        },
        "id": "o7QYpujkki8i",
        "outputId": "9234c703-46af-4fcc-96a3-fe1c8871ccbe"
      },
      "execution_count": null,
      "outputs": [
        {
          "output_type": "stream",
          "name": "stdout",
          "text": [
            "313/313 [==============================] - 1s 2ms/step - loss: 1.3887 - get_f1: 0.4795\n",
            "Test accuracy: 0.47945570945739746\n"
          ]
        }
      ]
    },
    {
      "cell_type": "markdown",
      "source": [
        "#### model4 with adamax "
      ],
      "metadata": {
        "id": "B3Mj2j_ZzSZy"
      }
    },
    {
      "cell_type": "code",
      "source": [
        "model4.compile(optimizer='adamax',loss=\"categorical_crossentropy\", metrics=get_f1)\n",
        "\n",
        "history12 = model4.fit(x_train,y_train, validation_split=0.25,epochs=20)"
      ],
      "metadata": {
        "colab": {
          "base_uri": "https://localhost:8080/"
        },
        "id": "FJVONO6FzVDX",
        "outputId": "48faedbf-e3f8-4495-9677-70bcaad2e8bc"
      },
      "execution_count": null,
      "outputs": [
        {
          "output_type": "stream",
          "name": "stdout",
          "text": [
            "Epoch 1/20\n",
            "1172/1172 [==============================] - 9s 7ms/step - loss: 1.9298 - get_f1: 0.1092 - val_loss: 1.7637 - val_get_f1: 0.1645\n",
            "Epoch 2/20\n",
            "1172/1172 [==============================] - 7s 6ms/step - loss: 1.7245 - get_f1: 0.2194 - val_loss: 1.6591 - val_get_f1: 0.2421\n",
            "Epoch 3/20\n",
            "1172/1172 [==============================] - 7s 6ms/step - loss: 1.6417 - get_f1: 0.2742 - val_loss: 1.6089 - val_get_f1: 0.2644\n",
            "Epoch 4/20\n",
            "1172/1172 [==============================] - 7s 6ms/step - loss: 1.5810 - get_f1: 0.3144 - val_loss: 1.5441 - val_get_f1: 0.3315\n",
            "Epoch 5/20\n",
            "1172/1172 [==============================] - 7s 6ms/step - loss: 1.5362 - get_f1: 0.3369 - val_loss: 1.5300 - val_get_f1: 0.3404\n",
            "Epoch 6/20\n",
            "1172/1172 [==============================] - 7s 6ms/step - loss: 1.4954 - get_f1: 0.3612 - val_loss: 1.4763 - val_get_f1: 0.3682\n",
            "Epoch 7/20\n",
            "1172/1172 [==============================] - 7s 6ms/step - loss: 1.4641 - get_f1: 0.3802 - val_loss: 1.4970 - val_get_f1: 0.3582\n",
            "Epoch 8/20\n",
            "1172/1172 [==============================] - 7s 6ms/step - loss: 1.4340 - get_f1: 0.3964 - val_loss: 1.4636 - val_get_f1: 0.3882\n",
            "Epoch 9/20\n",
            "1172/1172 [==============================] - 7s 6ms/step - loss: 1.4085 - get_f1: 0.4092 - val_loss: 1.4587 - val_get_f1: 0.3959\n",
            "Epoch 10/20\n",
            "1172/1172 [==============================] - 7s 6ms/step - loss: 1.3856 - get_f1: 0.4203 - val_loss: 1.4374 - val_get_f1: 0.4141\n",
            "Epoch 11/20\n",
            "1172/1172 [==============================] - 7s 6ms/step - loss: 1.3569 - get_f1: 0.4376 - val_loss: 1.4223 - val_get_f1: 0.4293\n",
            "Epoch 12/20\n",
            "1172/1172 [==============================] - 7s 6ms/step - loss: 1.3343 - get_f1: 0.4496 - val_loss: 1.3976 - val_get_f1: 0.4391\n",
            "Epoch 13/20\n",
            "1172/1172 [==============================] - 7s 6ms/step - loss: 1.3169 - get_f1: 0.4556 - val_loss: 1.4523 - val_get_f1: 0.4245\n",
            "Epoch 14/20\n",
            "1172/1172 [==============================] - 7s 6ms/step - loss: 1.2931 - get_f1: 0.4704 - val_loss: 1.3922 - val_get_f1: 0.4476\n",
            "Epoch 15/20\n",
            "1172/1172 [==============================] - 7s 6ms/step - loss: 1.2802 - get_f1: 0.4781 - val_loss: 1.3765 - val_get_f1: 0.4518\n",
            "Epoch 16/20\n",
            "1172/1172 [==============================] - 7s 6ms/step - loss: 1.2636 - get_f1: 0.4845 - val_loss: 1.4138 - val_get_f1: 0.4504\n",
            "Epoch 17/20\n",
            "1172/1172 [==============================] - 7s 6ms/step - loss: 1.2446 - get_f1: 0.4945 - val_loss: 1.3870 - val_get_f1: 0.4559\n",
            "Epoch 18/20\n",
            "1172/1172 [==============================] - 7s 6ms/step - loss: 1.2290 - get_f1: 0.5018 - val_loss: 1.4157 - val_get_f1: 0.4606\n",
            "Epoch 19/20\n",
            "1172/1172 [==============================] - 8s 7ms/step - loss: 1.2148 - get_f1: 0.5098 - val_loss: 1.3572 - val_get_f1: 0.4695\n",
            "Epoch 20/20\n",
            "1172/1172 [==============================] - 10s 9ms/step - loss: 1.2000 - get_f1: 0.5154 - val_loss: 1.3652 - val_get_f1: 0.4912\n"
          ]
        }
      ]
    },
    {
      "cell_type": "code",
      "source": [
        "test_loss,test_acc=model4.evaluate(x_test,y_test)\n",
        "print(\"Test accuracy:\",test_acc)"
      ],
      "metadata": {
        "colab": {
          "base_uri": "https://localhost:8080/"
        },
        "id": "C2_PdUplzZPY",
        "outputId": "54f28389-59b0-4200-b8df-ae5ca0bebfef"
      },
      "execution_count": null,
      "outputs": [
        {
          "output_type": "stream",
          "name": "stdout",
          "text": [
            "313/313 [==============================] - 2s 5ms/step - loss: 1.3469 - get_f1: 0.4894\n",
            "Test accuracy: 0.48937058448791504\n"
          ]
        }
      ]
    },
    {
      "cell_type": "markdown",
      "source": [
        "### Model5"
      ],
      "metadata": {
        "id": "_qxmzwME0nuJ"
      }
    },
    {
      "cell_type": "markdown",
      "source": [
        "#### model5 with adam"
      ],
      "metadata": {
        "id": "6c7OBDpF0Grf"
      }
    },
    {
      "cell_type": "code",
      "source": [
        "model5.compile(optimizer='adam',loss=\"categorical_crossentropy\", metrics=get_f1)\n",
        "\n",
        "history13 = model5.fit(x_train,y_train, validation_split=0.25, epochs=20)"
      ],
      "metadata": {
        "colab": {
          "base_uri": "https://localhost:8080/"
        },
        "id": "dMJ8p5Ydzb2s",
        "outputId": "8ca6c5a4-09e3-47c5-d4f8-54bc38427287"
      },
      "execution_count": null,
      "outputs": [
        {
          "output_type": "stream",
          "name": "stdout",
          "text": [
            "Epoch 1/20\n",
            "1172/1172 [==============================] - 10s 8ms/step - loss: 2.4655 - get_f1: 0.2774 - val_loss: 2.0586 - val_get_f1: 0.2889\n",
            "Epoch 2/20\n",
            "1172/1172 [==============================] - 10s 8ms/step - loss: 2.0058 - get_f1: 0.2997 - val_loss: 2.0290 - val_get_f1: 0.2915\n",
            "Epoch 3/20\n",
            "1172/1172 [==============================] - 9s 8ms/step - loss: 1.9621 - get_f1: 0.3072 - val_loss: 1.9741 - val_get_f1: 0.3133\n",
            "Epoch 4/20\n",
            "1172/1172 [==============================] - 8s 7ms/step - loss: 1.9489 - get_f1: 0.3125 - val_loss: 1.9386 - val_get_f1: 0.3173\n",
            "Epoch 5/20\n",
            "1172/1172 [==============================] - 8s 7ms/step - loss: 1.9363 - get_f1: 0.3166 - val_loss: 2.0206 - val_get_f1: 0.3043\n",
            "Epoch 6/20\n",
            "1172/1172 [==============================] - 8s 7ms/step - loss: 1.9299 - get_f1: 0.3202 - val_loss: 1.9663 - val_get_f1: 0.3127\n",
            "Epoch 7/20\n",
            "1172/1172 [==============================] - 10s 9ms/step - loss: 1.9213 - get_f1: 0.3237 - val_loss: 1.9189 - val_get_f1: 0.3214\n",
            "Epoch 8/20\n",
            "1172/1172 [==============================] - 10s 8ms/step - loss: 1.9151 - get_f1: 0.3280 - val_loss: 1.9614 - val_get_f1: 0.3176\n",
            "Epoch 9/20\n",
            "1172/1172 [==============================] - 7s 6ms/step - loss: 1.9096 - get_f1: 0.3300 - val_loss: 1.9395 - val_get_f1: 0.3244\n",
            "Epoch 10/20\n",
            "1172/1172 [==============================] - 7s 6ms/step - loss: 1.9028 - get_f1: 0.3344 - val_loss: 1.8978 - val_get_f1: 0.3343\n",
            "Epoch 11/20\n",
            "1172/1172 [==============================] - 7s 6ms/step - loss: 1.8916 - get_f1: 0.3383 - val_loss: 1.8596 - val_get_f1: 0.3414\n",
            "Epoch 12/20\n",
            "1172/1172 [==============================] - 7s 6ms/step - loss: 1.8958 - get_f1: 0.3396 - val_loss: 1.8883 - val_get_f1: 0.3394\n",
            "Epoch 13/20\n",
            "1172/1172 [==============================] - 7s 6ms/step - loss: 1.8894 - get_f1: 0.3405 - val_loss: 1.9024 - val_get_f1: 0.3405\n",
            "Epoch 14/20\n",
            "1172/1172 [==============================] - 7s 6ms/step - loss: 1.8828 - get_f1: 0.3445 - val_loss: 1.9316 - val_get_f1: 0.3399\n",
            "Epoch 15/20\n",
            "1172/1172 [==============================] - 8s 7ms/step - loss: 1.8850 - get_f1: 0.3438 - val_loss: 1.9029 - val_get_f1: 0.3449\n",
            "Epoch 16/20\n",
            "1172/1172 [==============================] - 9s 7ms/step - loss: 1.8822 - get_f1: 0.3458 - val_loss: 1.9454 - val_get_f1: 0.3278\n",
            "Epoch 17/20\n",
            "1172/1172 [==============================] - 10s 8ms/step - loss: 1.8758 - get_f1: 0.3490 - val_loss: 1.9085 - val_get_f1: 0.3384\n",
            "Epoch 18/20\n",
            "1172/1172 [==============================] - 10s 9ms/step - loss: 1.8750 - get_f1: 0.3489 - val_loss: 1.9030 - val_get_f1: 0.3413\n",
            "Epoch 19/20\n",
            "1172/1172 [==============================] - 10s 8ms/step - loss: 1.8700 - get_f1: 0.3499 - val_loss: 1.9235 - val_get_f1: 0.3401\n",
            "Epoch 20/20\n",
            "1172/1172 [==============================] - 10s 8ms/step - loss: 1.8727 - get_f1: 0.3502 - val_loss: 1.9011 - val_get_f1: 0.3399\n"
          ]
        }
      ]
    },
    {
      "cell_type": "code",
      "source": [
        "test_loss,test_acc=model5.evaluate(x_test,y_test)\n",
        "print(\"Test accuracy:\",test_acc)"
      ],
      "metadata": {
        "colab": {
          "base_uri": "https://localhost:8080/"
        },
        "id": "_wdtp6AH0AhM",
        "outputId": "442739cc-6ba4-4320-895c-d2e0ce1860e6"
      },
      "execution_count": null,
      "outputs": [
        {
          "output_type": "stream",
          "name": "stdout",
          "text": [
            "313/313 [==============================] - 1s 3ms/step - loss: 1.8759 - get_f1: 0.3448\n",
            "Test accuracy: 0.3448324203491211\n"
          ]
        }
      ]
    },
    {
      "cell_type": "markdown",
      "source": [
        "#### model5 with SDG"
      ],
      "metadata": {
        "id": "yReXqiyB6YK9"
      }
    },
    {
      "cell_type": "code",
      "source": [
        "model5.compile(optimizer='SGD',loss=\"categorical_crossentropy\", metrics=get_f1)\n",
        "\n",
        "history14 = model5.fit(x_train,y_train, validation_split=0.25, epochs=20)"
      ],
      "metadata": {
        "colab": {
          "base_uri": "https://localhost:8080/"
        },
        "id": "EHbicDWEzcku",
        "outputId": "29e31549-b05e-41dd-d664-2d8790f60c41"
      },
      "execution_count": null,
      "outputs": [
        {
          "output_type": "stream",
          "name": "stdout",
          "text": [
            "Epoch 1/20\n",
            "1172/1172 [==============================] - 9s 7ms/step - loss: 1.8045 - get_f1: 0.3644 - val_loss: 1.7919 - val_get_f1: 0.3665\n",
            "Epoch 2/20\n",
            "1172/1172 [==============================] - 8s 7ms/step - loss: 1.7955 - get_f1: 0.3671 - val_loss: 1.8961 - val_get_f1: 0.3571\n",
            "Epoch 3/20\n",
            "1172/1172 [==============================] - 7s 6ms/step - loss: 1.7902 - get_f1: 0.3687 - val_loss: 1.8040 - val_get_f1: 0.3686\n",
            "Epoch 4/20\n",
            "1172/1172 [==============================] - 9s 7ms/step - loss: 1.7921 - get_f1: 0.3685 - val_loss: 1.8205 - val_get_f1: 0.3658\n",
            "Epoch 5/20\n",
            "1172/1172 [==============================] - 8s 7ms/step - loss: 1.7898 - get_f1: 0.3692 - val_loss: 1.7843 - val_get_f1: 0.3757\n",
            "Epoch 6/20\n",
            "1172/1172 [==============================] - 8s 7ms/step - loss: 1.7904 - get_f1: 0.3691 - val_loss: 1.8930 - val_get_f1: 0.3494\n",
            "Epoch 7/20\n",
            "1172/1172 [==============================] - 8s 7ms/step - loss: 1.7869 - get_f1: 0.3707 - val_loss: 1.7962 - val_get_f1: 0.3670\n",
            "Epoch 8/20\n",
            "1172/1172 [==============================] - 8s 7ms/step - loss: 1.7857 - get_f1: 0.3708 - val_loss: 1.8856 - val_get_f1: 0.3540\n",
            "Epoch 9/20\n",
            "1172/1172 [==============================] - 7s 6ms/step - loss: 1.7873 - get_f1: 0.3712 - val_loss: 1.8024 - val_get_f1: 0.3693\n",
            "Epoch 10/20\n",
            "1172/1172 [==============================] - 8s 7ms/step - loss: 1.7866 - get_f1: 0.3699 - val_loss: 1.7899 - val_get_f1: 0.3719\n",
            "Epoch 11/20\n",
            "1172/1172 [==============================] - 6s 5ms/step - loss: 1.7889 - get_f1: 0.3699 - val_loss: 1.8361 - val_get_f1: 0.3678\n",
            "Epoch 12/20\n",
            "1172/1172 [==============================] - 7s 6ms/step - loss: 1.7872 - get_f1: 0.3702 - val_loss: 1.7816 - val_get_f1: 0.3676\n",
            "Epoch 13/20\n",
            "1172/1172 [==============================] - 7s 6ms/step - loss: 1.7868 - get_f1: 0.3707 - val_loss: 1.7890 - val_get_f1: 0.3691\n",
            "Epoch 14/20\n",
            "1172/1172 [==============================] - 8s 7ms/step - loss: 1.7853 - get_f1: 0.3718 - val_loss: 1.8477 - val_get_f1: 0.3632\n",
            "Epoch 15/20\n",
            "1172/1172 [==============================] - 7s 6ms/step - loss: 1.7860 - get_f1: 0.3709 - val_loss: 1.7778 - val_get_f1: 0.3732\n",
            "Epoch 16/20\n",
            "1172/1172 [==============================] - 7s 6ms/step - loss: 1.7848 - get_f1: 0.3713 - val_loss: 1.8197 - val_get_f1: 0.3663\n",
            "Epoch 17/20\n",
            "1172/1172 [==============================] - 6s 5ms/step - loss: 1.7860 - get_f1: 0.3708 - val_loss: 1.8363 - val_get_f1: 0.3589\n",
            "Epoch 18/20\n",
            "1172/1172 [==============================] - 7s 6ms/step - loss: 1.7847 - get_f1: 0.3710 - val_loss: 1.8288 - val_get_f1: 0.3659\n",
            "Epoch 19/20\n",
            "1172/1172 [==============================] - 7s 6ms/step - loss: 1.7841 - get_f1: 0.3724 - val_loss: 1.8051 - val_get_f1: 0.3649\n",
            "Epoch 20/20\n",
            "1172/1172 [==============================] - 7s 6ms/step - loss: 1.7857 - get_f1: 0.3719 - val_loss: 1.7799 - val_get_f1: 0.3739\n"
          ]
        }
      ]
    },
    {
      "cell_type": "code",
      "source": [
        "test_loss,test_acc=model5.evaluate(x_test,y_test)\n",
        "print(\"Test accuracy:\",test_acc)"
      ],
      "metadata": {
        "colab": {
          "base_uri": "https://localhost:8080/"
        },
        "id": "6A_nAe5D0BoK",
        "outputId": "ab3bc1bc-060b-447d-e29f-c684e1a80f33"
      },
      "execution_count": null,
      "outputs": [
        {
          "output_type": "stream",
          "name": "stdout",
          "text": [
            "313/313 [==============================] - 1s 4ms/step - loss: 1.7608 - get_f1: 0.3784\n",
            "Test accuracy: 0.37844014167785645\n"
          ]
        }
      ]
    },
    {
      "cell_type": "markdown",
      "source": [
        "#### model5 with adamax"
      ],
      "metadata": {
        "id": "QibWQXzb6cQD"
      }
    },
    {
      "cell_type": "code",
      "source": [
        "model5.compile(optimizer='adamax',loss=\"categorical_crossentropy\", metrics=get_f1)\n",
        "\n",
        "history15 = model5.fit(x_train,y_train, validation_split=0.25, epochs=20)"
      ],
      "metadata": {
        "colab": {
          "base_uri": "https://localhost:8080/"
        },
        "id": "DvLJvpjJzc9w",
        "outputId": "045c9ba8-ea13-4e91-cc02-1b64c75f110e"
      },
      "execution_count": null,
      "outputs": [
        {
          "output_type": "stream",
          "name": "stdout",
          "text": [
            "Epoch 1/20\n",
            "1172/1172 [==============================] - 9s 7ms/step - loss: 1.7643 - get_f1: 0.3755 - val_loss: 1.8056 - val_get_f1: 0.3620\n",
            "Epoch 2/20\n",
            "1172/1172 [==============================] - 7s 6ms/step - loss: 1.7625 - get_f1: 0.3754 - val_loss: 1.8037 - val_get_f1: 0.3740\n",
            "Epoch 3/20\n",
            "1172/1172 [==============================] - 7s 6ms/step - loss: 1.7594 - get_f1: 0.3782 - val_loss: 1.7908 - val_get_f1: 0.3783\n",
            "Epoch 4/20\n",
            "1172/1172 [==============================] - 7s 6ms/step - loss: 1.7597 - get_f1: 0.3784 - val_loss: 1.7873 - val_get_f1: 0.3765\n",
            "Epoch 5/20\n",
            "1172/1172 [==============================] - 7s 6ms/step - loss: 1.7561 - get_f1: 0.3791 - val_loss: 1.7666 - val_get_f1: 0.3762\n",
            "Epoch 6/20\n",
            "1172/1172 [==============================] - 7s 6ms/step - loss: 1.7524 - get_f1: 0.3820 - val_loss: 1.7963 - val_get_f1: 0.3747\n",
            "Epoch 7/20\n",
            "1172/1172 [==============================] - 7s 6ms/step - loss: 1.7539 - get_f1: 0.3815 - val_loss: 1.7792 - val_get_f1: 0.3784\n",
            "Epoch 8/20\n",
            "1172/1172 [==============================] - 9s 8ms/step - loss: 1.7547 - get_f1: 0.3820 - val_loss: 1.8232 - val_get_f1: 0.3672\n",
            "Epoch 9/20\n",
            "1172/1172 [==============================] - 9s 8ms/step - loss: 1.7544 - get_f1: 0.3811 - val_loss: 1.7620 - val_get_f1: 0.3820\n",
            "Epoch 10/20\n",
            "1172/1172 [==============================] - 9s 8ms/step - loss: 1.7511 - get_f1: 0.3848 - val_loss: 1.7736 - val_get_f1: 0.3766\n",
            "Epoch 11/20\n",
            "1172/1172 [==============================] - 9s 7ms/step - loss: 1.7548 - get_f1: 0.3835 - val_loss: 1.7732 - val_get_f1: 0.3791\n",
            "Epoch 12/20\n",
            "1172/1172 [==============================] - 7s 6ms/step - loss: 1.7454 - get_f1: 0.3867 - val_loss: 1.7698 - val_get_f1: 0.3834\n",
            "Epoch 13/20\n",
            "1172/1172 [==============================] - 7s 6ms/step - loss: 1.7456 - get_f1: 0.3858 - val_loss: 1.7669 - val_get_f1: 0.3788\n",
            "Epoch 14/20\n",
            "1172/1172 [==============================] - 7s 6ms/step - loss: 1.7484 - get_f1: 0.3856 - val_loss: 1.7800 - val_get_f1: 0.3838\n",
            "Epoch 15/20\n",
            "1172/1172 [==============================] - 7s 6ms/step - loss: 1.7476 - get_f1: 0.3851 - val_loss: 1.7715 - val_get_f1: 0.3784\n",
            "Epoch 16/20\n",
            "1172/1172 [==============================] - 7s 6ms/step - loss: 1.7453 - get_f1: 0.3878 - val_loss: 1.8017 - val_get_f1: 0.3754\n",
            "Epoch 17/20\n",
            "1172/1172 [==============================] - 7s 6ms/step - loss: 1.7434 - get_f1: 0.3891 - val_loss: 1.7863 - val_get_f1: 0.3786\n",
            "Epoch 18/20\n",
            "1172/1172 [==============================] - 7s 6ms/step - loss: 1.7430 - get_f1: 0.3886 - val_loss: 1.7578 - val_get_f1: 0.3900\n",
            "Epoch 19/20\n",
            "1172/1172 [==============================] - 7s 6ms/step - loss: 1.7452 - get_f1: 0.3893 - val_loss: 1.7743 - val_get_f1: 0.3859\n",
            "Epoch 20/20\n",
            "1172/1172 [==============================] - 7s 6ms/step - loss: 1.7423 - get_f1: 0.3905 - val_loss: 1.7557 - val_get_f1: 0.3900\n"
          ]
        }
      ]
    },
    {
      "cell_type": "code",
      "source": [
        "test_loss,test_acc=model5.evaluate(x_test,y_test)\n",
        "print(\"Test accuracy:\",test_acc)"
      ],
      "metadata": {
        "colab": {
          "base_uri": "https://localhost:8080/"
        },
        "id": "1O-dQCCx0CgK",
        "outputId": "9be9c32c-8150-49bb-d3d9-2af94aadd812"
      },
      "execution_count": null,
      "outputs": [
        {
          "output_type": "stream",
          "name": "stdout",
          "text": [
            "313/313 [==============================] - 1s 2ms/step - loss: 1.7380 - get_f1: 0.3914\n",
            "Test accuracy: 0.3913521468639374\n"
          ]
        }
      ]
    },
    {
      "cell_type": "markdown",
      "source": [
        "### Model6"
      ],
      "metadata": {
        "id": "66AOHx0y0sHB"
      }
    },
    {
      "cell_type": "markdown",
      "source": [
        "#### model6 with adam"
      ],
      "metadata": {
        "id": "d6L2ATG50LOW"
      }
    },
    {
      "cell_type": "code",
      "source": [
        "model6.compile(optimizer='adam',loss=\"categorical_crossentropy\", metrics=get_f1)\n",
        "\n",
        "history16 = model6.fit(x_train,y_train, validation_split=0.25, epochs=20)"
      ],
      "metadata": {
        "colab": {
          "base_uri": "https://localhost:8080/"
        },
        "id": "LAjFZM3_zlij",
        "outputId": "0b8f933f-bc40-4b66-8e5b-ae8f317969f3"
      },
      "execution_count": null,
      "outputs": [
        {
          "output_type": "stream",
          "name": "stdout",
          "text": [
            "Epoch 1/20\n",
            "1172/1172 [==============================] - 8s 6ms/step - loss: 2.9465 - get_f1: 0.0501 - val_loss: 2.0837 - val_get_f1: 0.0859\n",
            "Epoch 2/20\n",
            "1172/1172 [==============================] - 8s 7ms/step - loss: 2.0375 - get_f1: 0.0647 - val_loss: 2.0151 - val_get_f1: 0.0589\n",
            "Epoch 3/20\n",
            "1172/1172 [==============================] - 8s 7ms/step - loss: 1.9900 - get_f1: 0.0843 - val_loss: 1.9622 - val_get_f1: 0.0592\n",
            "Epoch 4/20\n",
            "1172/1172 [==============================] - 7s 6ms/step - loss: 1.9689 - get_f1: 0.1015 - val_loss: 1.9574 - val_get_f1: 0.0953\n",
            "Epoch 5/20\n",
            "1172/1172 [==============================] - 8s 7ms/step - loss: 1.9626 - get_f1: 0.1055 - val_loss: 1.9429 - val_get_f1: 0.1326\n",
            "Epoch 6/20\n",
            "1172/1172 [==============================] - 8s 7ms/step - loss: 1.9451 - get_f1: 0.1167 - val_loss: 2.0602 - val_get_f1: 0.1787\n",
            "Epoch 7/20\n",
            "1172/1172 [==============================] - 9s 7ms/step - loss: 1.9348 - get_f1: 0.1279 - val_loss: 1.9177 - val_get_f1: 0.1154\n",
            "Epoch 8/20\n",
            "1172/1172 [==============================] - 8s 7ms/step - loss: 1.9368 - get_f1: 0.1291 - val_loss: 1.9378 - val_get_f1: 0.1117\n",
            "Epoch 9/20\n",
            "1172/1172 [==============================] - 7s 6ms/step - loss: 1.9331 - get_f1: 0.1307 - val_loss: 1.9721 - val_get_f1: 0.1576\n",
            "Epoch 10/20\n",
            "1172/1172 [==============================] - 8s 7ms/step - loss: 1.9369 - get_f1: 0.1324 - val_loss: 1.9650 - val_get_f1: 0.1299\n",
            "Epoch 11/20\n",
            "1172/1172 [==============================] - 8s 6ms/step - loss: 1.9337 - get_f1: 0.1304 - val_loss: 1.9541 - val_get_f1: 0.0832\n",
            "Epoch 12/20\n",
            "1172/1172 [==============================] - 8s 6ms/step - loss: 1.9176 - get_f1: 0.1328 - val_loss: 1.9123 - val_get_f1: 0.1402\n",
            "Epoch 13/20\n",
            "1172/1172 [==============================] - 8s 7ms/step - loss: 1.9242 - get_f1: 0.1382 - val_loss: 1.9564 - val_get_f1: 0.2010\n",
            "Epoch 14/20\n",
            "1172/1172 [==============================] - 8s 6ms/step - loss: 1.9174 - get_f1: 0.1365 - val_loss: 1.8840 - val_get_f1: 0.1514\n",
            "Epoch 15/20\n",
            "1172/1172 [==============================] - 8s 7ms/step - loss: 1.9175 - get_f1: 0.1421 - val_loss: 1.9383 - val_get_f1: 0.1282\n",
            "Epoch 16/20\n",
            "1172/1172 [==============================] - 8s 7ms/step - loss: 1.9117 - get_f1: 0.1436 - val_loss: 1.8828 - val_get_f1: 0.1492\n",
            "Epoch 17/20\n",
            "1172/1172 [==============================] - 8s 7ms/step - loss: 1.9185 - get_f1: 0.1432 - val_loss: 1.8979 - val_get_f1: 0.1255\n",
            "Epoch 18/20\n",
            "1172/1172 [==============================] - 8s 7ms/step - loss: 1.9184 - get_f1: 0.1424 - val_loss: 1.8919 - val_get_f1: 0.1439\n",
            "Epoch 19/20\n",
            "1172/1172 [==============================] - 8s 7ms/step - loss: 1.9168 - get_f1: 0.1454 - val_loss: 1.9415 - val_get_f1: 0.1348\n",
            "Epoch 20/20\n",
            "1172/1172 [==============================] - 7s 6ms/step - loss: 1.9059 - get_f1: 0.1448 - val_loss: 1.9077 - val_get_f1: 0.1477\n"
          ]
        }
      ]
    },
    {
      "cell_type": "code",
      "source": [
        "test_loss,test_acc=model6.evaluate(x_test,y_test)\n",
        "print(\"Test accuracy:\",test_acc)"
      ],
      "metadata": {
        "colab": {
          "base_uri": "https://localhost:8080/"
        },
        "id": "SIFDvtkP8cAe",
        "outputId": "4a357b8f-d74a-4bee-f497-03982678c682"
      },
      "execution_count": null,
      "outputs": [
        {
          "output_type": "stream",
          "name": "stdout",
          "text": [
            "313/313 [==============================] - 1s 3ms/step - loss: 1.8826 - get_f1: 0.1495\n",
            "Test accuracy: 0.14946876466274261\n"
          ]
        }
      ]
    },
    {
      "cell_type": "markdown",
      "source": [
        "#### model6 with SGD"
      ],
      "metadata": {
        "id": "ZSmTlE9F9GDF"
      }
    },
    {
      "cell_type": "code",
      "source": [
        "model6.compile(optimizer='SGD',loss=\"categorical_crossentropy\", metrics=get_f1)\n",
        "\n",
        "history17 = model6.fit(x_train,y_train, validation_split=0.25, epochs=20)"
      ],
      "metadata": {
        "colab": {
          "base_uri": "https://localhost:8080/"
        },
        "id": "LjfwgNIGzl_1",
        "outputId": "d3582aec-f9d3-4c01-ac17-35312fa4c5d3"
      },
      "execution_count": null,
      "outputs": [
        {
          "output_type": "stream",
          "name": "stdout",
          "text": [
            "Epoch 1/20\n",
            "1172/1172 [==============================] - 8s 6ms/step - loss: 1.8454 - get_f1: 0.1656 - val_loss: 1.9296 - val_get_f1: 0.2059\n",
            "Epoch 2/20\n",
            "1172/1172 [==============================] - 7s 6ms/step - loss: 1.8341 - get_f1: 0.1712 - val_loss: 1.8775 - val_get_f1: 0.1824\n",
            "Epoch 3/20\n",
            "1172/1172 [==============================] - 7s 6ms/step - loss: 1.8285 - get_f1: 0.1762 - val_loss: 1.8476 - val_get_f1: 0.1893\n",
            "Epoch 4/20\n",
            "1172/1172 [==============================] - 7s 6ms/step - loss: 1.8229 - get_f1: 0.1781 - val_loss: 1.8292 - val_get_f1: 0.1846\n",
            "Epoch 5/20\n",
            "1172/1172 [==============================] - 6s 5ms/step - loss: 1.8229 - get_f1: 0.1784 - val_loss: 1.8446 - val_get_f1: 0.1894\n",
            "Epoch 6/20\n",
            "1172/1172 [==============================] - 7s 6ms/step - loss: 1.8216 - get_f1: 0.1814 - val_loss: 1.8509 - val_get_f1: 0.1403\n",
            "Epoch 7/20\n",
            "1172/1172 [==============================] - 7s 6ms/step - loss: 1.8187 - get_f1: 0.1834 - val_loss: 1.9044 - val_get_f1: 0.1535\n",
            "Epoch 8/20\n",
            "1172/1172 [==============================] - 7s 6ms/step - loss: 1.8175 - get_f1: 0.1839 - val_loss: 1.8460 - val_get_f1: 0.2133\n",
            "Epoch 9/20\n",
            "1172/1172 [==============================] - 7s 6ms/step - loss: 1.8166 - get_f1: 0.1861 - val_loss: 1.8628 - val_get_f1: 0.1733\n",
            "Epoch 10/20\n",
            "1172/1172 [==============================] - 8s 7ms/step - loss: 1.8172 - get_f1: 0.1836 - val_loss: 1.8693 - val_get_f1: 0.1820\n",
            "Epoch 11/20\n",
            "1172/1172 [==============================] - 7s 6ms/step - loss: 1.8112 - get_f1: 0.1875 - val_loss: 1.8453 - val_get_f1: 0.2103\n",
            "Epoch 12/20\n",
            "1172/1172 [==============================] - 7s 6ms/step - loss: 1.8118 - get_f1: 0.1910 - val_loss: 1.8216 - val_get_f1: 0.1876\n",
            "Epoch 13/20\n",
            "1172/1172 [==============================] - 7s 6ms/step - loss: 1.8110 - get_f1: 0.1922 - val_loss: 1.8070 - val_get_f1: 0.1852\n",
            "Epoch 14/20\n",
            "1172/1172 [==============================] - 7s 6ms/step - loss: 1.8113 - get_f1: 0.1920 - val_loss: 1.8477 - val_get_f1: 0.1515\n",
            "Epoch 15/20\n",
            "1172/1172 [==============================] - 8s 7ms/step - loss: 1.8107 - get_f1: 0.1945 - val_loss: 1.8850 - val_get_f1: 0.2186\n",
            "Epoch 16/20\n",
            "1172/1172 [==============================] - 7s 6ms/step - loss: 1.8084 - get_f1: 0.1948 - val_loss: 1.8567 - val_get_f1: 0.1499\n",
            "Epoch 17/20\n",
            "1172/1172 [==============================] - 7s 6ms/step - loss: 1.8079 - get_f1: 0.1954 - val_loss: 1.8141 - val_get_f1: 0.2063\n",
            "Epoch 18/20\n",
            "1172/1172 [==============================] - 7s 6ms/step - loss: 1.8059 - get_f1: 0.1981 - val_loss: 1.8073 - val_get_f1: 0.2013\n",
            "Epoch 19/20\n",
            "1172/1172 [==============================] - 7s 6ms/step - loss: 1.8038 - get_f1: 0.1973 - val_loss: 1.8175 - val_get_f1: 0.2017\n",
            "Epoch 20/20\n",
            "1172/1172 [==============================] - 7s 6ms/step - loss: 1.8027 - get_f1: 0.2004 - val_loss: 1.8336 - val_get_f1: 0.1723\n"
          ]
        }
      ]
    },
    {
      "cell_type": "code",
      "source": [
        "test_loss,test_acc=model6.evaluate(x_test,y_test)\n",
        "print(\"Test accuracy:\",test_acc)"
      ],
      "metadata": {
        "colab": {
          "base_uri": "https://localhost:8080/"
        },
        "id": "nRJUN4IK8dzA",
        "outputId": "a5bd98eb-9437-44b0-9417-4c9382d4a1bd"
      },
      "execution_count": null,
      "outputs": [
        {
          "output_type": "stream",
          "name": "stdout",
          "text": [
            "313/313 [==============================] - 1s 3ms/step - loss: 1.8126 - get_f1: 0.1865\n",
            "Test accuracy: 0.18645574152469635\n"
          ]
        }
      ]
    },
    {
      "cell_type": "markdown",
      "source": [
        "#### model6 with adamax"
      ],
      "metadata": {
        "id": "lbPmxyv-9JYi"
      }
    },
    {
      "cell_type": "code",
      "source": [
        "model6.compile(optimizer='adamax',loss=\"categorical_crossentropy\", metrics=get_f1)\n",
        "\n",
        "history18 = model6.fit(x_train,y_train, validation_split=0.25, epochs=20)"
      ],
      "metadata": {
        "colab": {
          "base_uri": "https://localhost:8080/"
        },
        "id": "Q9fXv7y5zmW8",
        "outputId": "09a4fa34-2542-45ba-dd47-4498cc23779d"
      },
      "execution_count": null,
      "outputs": [
        {
          "output_type": "stream",
          "name": "stdout",
          "text": [
            "Epoch 1/20\n",
            "1172/1172 [==============================] - 8s 7ms/step - loss: 1.8078 - get_f1: 0.1923 - val_loss: 1.8213 - val_get_f1: 0.1624\n",
            "Epoch 2/20\n",
            "1172/1172 [==============================] - 7s 6ms/step - loss: 1.8070 - get_f1: 0.1917 - val_loss: 1.8196 - val_get_f1: 0.1926\n",
            "Epoch 3/20\n",
            "1172/1172 [==============================] - 8s 7ms/step - loss: 1.8011 - get_f1: 0.1930 - val_loss: 1.8206 - val_get_f1: 0.2105\n",
            "Epoch 4/20\n",
            "1172/1172 [==============================] - 8s 7ms/step - loss: 1.7908 - get_f1: 0.2016 - val_loss: 1.8102 - val_get_f1: 0.1842\n",
            "Epoch 5/20\n",
            "1172/1172 [==============================] - 7s 6ms/step - loss: 1.7911 - get_f1: 0.2065 - val_loss: 1.8290 - val_get_f1: 0.1664\n",
            "Epoch 6/20\n",
            "1172/1172 [==============================] - 7s 6ms/step - loss: 1.7900 - get_f1: 0.2030 - val_loss: 1.8074 - val_get_f1: 0.2060\n",
            "Epoch 7/20\n",
            "1172/1172 [==============================] - 7s 6ms/step - loss: 1.7891 - get_f1: 0.2076 - val_loss: 1.8225 - val_get_f1: 0.1793\n",
            "Epoch 8/20\n",
            "1172/1172 [==============================] - 7s 6ms/step - loss: 1.7864 - get_f1: 0.2057 - val_loss: 1.8146 - val_get_f1: 0.2192\n",
            "Epoch 9/20\n",
            "1172/1172 [==============================] - 8s 7ms/step - loss: 1.7886 - get_f1: 0.2094 - val_loss: 1.8133 - val_get_f1: 0.1862\n",
            "Epoch 10/20\n",
            "1172/1172 [==============================] - 7s 6ms/step - loss: 1.7923 - get_f1: 0.2040 - val_loss: 1.8037 - val_get_f1: 0.2069\n",
            "Epoch 11/20\n",
            "1172/1172 [==============================] - 9s 7ms/step - loss: 1.7846 - get_f1: 0.2088 - val_loss: 1.7977 - val_get_f1: 0.1785\n",
            "Epoch 12/20\n",
            "1172/1172 [==============================] - 9s 7ms/step - loss: 1.7901 - get_f1: 0.2065 - val_loss: 1.8082 - val_get_f1: 0.2174\n",
            "Epoch 13/20\n",
            "1172/1172 [==============================] - 9s 7ms/step - loss: 1.7825 - get_f1: 0.2119 - val_loss: 1.8198 - val_get_f1: 0.1873\n",
            "Epoch 14/20\n",
            "1172/1172 [==============================] - 8s 7ms/step - loss: 1.7829 - get_f1: 0.2122 - val_loss: 1.8272 - val_get_f1: 0.2273\n",
            "Epoch 15/20\n",
            "1172/1172 [==============================] - 8s 7ms/step - loss: 1.7841 - get_f1: 0.2105 - val_loss: 1.8042 - val_get_f1: 0.2067\n",
            "Epoch 16/20\n",
            "1172/1172 [==============================] - 7s 6ms/step - loss: 1.7846 - get_f1: 0.2106 - val_loss: 1.8004 - val_get_f1: 0.1924\n",
            "Epoch 17/20\n",
            "1172/1172 [==============================] - 8s 7ms/step - loss: 1.7850 - get_f1: 0.2107 - val_loss: 1.8168 - val_get_f1: 0.2268\n",
            "Epoch 18/20\n",
            "1172/1172 [==============================] - 8s 7ms/step - loss: 1.7807 - get_f1: 0.2135 - val_loss: 1.8118 - val_get_f1: 0.2028\n",
            "Epoch 19/20\n",
            "1172/1172 [==============================] - 8s 7ms/step - loss: 1.7777 - get_f1: 0.2155 - val_loss: 1.8047 - val_get_f1: 0.2188\n",
            "Epoch 20/20\n",
            "1172/1172 [==============================] - 9s 8ms/step - loss: 1.7750 - get_f1: 0.2170 - val_loss: 1.8553 - val_get_f1: 0.1833\n"
          ]
        }
      ]
    },
    {
      "cell_type": "code",
      "source": [
        "test_loss,test_acc=model6.evaluate(x_test,y_test)\n",
        "print(\"Test accuracy:\",test_acc)"
      ],
      "metadata": {
        "colab": {
          "base_uri": "https://localhost:8080/"
        },
        "id": "9CDAFZE98fTo",
        "outputId": "fa6a1b11-f9ce-46a8-f4cd-698c04e83e22"
      },
      "execution_count": null,
      "outputs": [
        {
          "output_type": "stream",
          "name": "stdout",
          "text": [
            "313/313 [==============================] - 1s 3ms/step - loss: 1.8359 - get_f1: 0.1948\n",
            "Test accuracy: 0.19478386640548706\n"
          ]
        }
      ]
    },
    {
      "cell_type": "markdown",
      "source": [
        "### Model7"
      ],
      "metadata": {
        "id": "mlLef3-_0uVy"
      }
    },
    {
      "cell_type": "markdown",
      "source": [
        "#### model7 with adam"
      ],
      "metadata": {
        "id": "gs9riRLX82Wt"
      }
    },
    {
      "cell_type": "code",
      "source": [
        "model7.compile(optimizer='adam',loss=\"categorical_crossentropy\", metrics=get_f1)\n",
        "\n",
        "history19 = model7.fit(x_train,y_train,  validation_split=0.25,epochs=20)"
      ],
      "metadata": {
        "colab": {
          "base_uri": "https://localhost:8080/"
        },
        "id": "34m70tXSztj2",
        "outputId": "746aab38-3614-4060-b3ec-86602550c049"
      },
      "execution_count": null,
      "outputs": [
        {
          "output_type": "stream",
          "name": "stdout",
          "text": [
            "Epoch 1/20\n",
            "1172/1172 [==============================] - 9s 8ms/step - loss: 5.1736 - get_f1: 0.1706 - val_loss: 2.7865 - val_get_f1: 0.1703\n",
            "Epoch 2/20\n",
            "1172/1172 [==============================] - 8s 7ms/step - loss: 2.7866 - get_f1: 0.1668 - val_loss: 2.7868 - val_get_f1: 0.1699\n",
            "Epoch 3/20\n",
            "1172/1172 [==============================] - 8s 7ms/step - loss: 2.7867 - get_f1: 0.1668 - val_loss: 2.7877 - val_get_f1: 0.1702\n",
            "Epoch 4/20\n",
            "1172/1172 [==============================] - 8s 7ms/step - loss: 2.7867 - get_f1: 0.1655 - val_loss: 2.7872 - val_get_f1: 0.1463\n",
            "Epoch 5/20\n",
            "1172/1172 [==============================] - 8s 7ms/step - loss: 2.7868 - get_f1: 0.1605 - val_loss: 2.7864 - val_get_f1: 0.1648\n",
            "Epoch 6/20\n",
            "1172/1172 [==============================] - 8s 7ms/step - loss: 2.7868 - get_f1: 0.1636 - val_loss: 2.7871 - val_get_f1: 0.1737\n",
            "Epoch 7/20\n",
            "1172/1172 [==============================] - 8s 7ms/step - loss: 2.7868 - get_f1: 0.1646 - val_loss: 2.7874 - val_get_f1: 0.1646\n",
            "Epoch 8/20\n",
            "1172/1172 [==============================] - 8s 7ms/step - loss: 2.7868 - get_f1: 0.1639 - val_loss: 2.7872 - val_get_f1: 0.1650\n",
            "Epoch 9/20\n",
            "1172/1172 [==============================] - 8s 6ms/step - loss: 2.7868 - get_f1: 0.1607 - val_loss: 2.7868 - val_get_f1: 0.1582\n",
            "Epoch 10/20\n",
            "1172/1172 [==============================] - 8s 7ms/step - loss: 2.7868 - get_f1: 0.1615 - val_loss: 2.7861 - val_get_f1: 0.1697\n",
            "Epoch 11/20\n",
            "1172/1172 [==============================] - 9s 7ms/step - loss: 2.7868 - get_f1: 0.1658 - val_loss: 2.7867 - val_get_f1: 0.1650\n",
            "Epoch 12/20\n",
            "1172/1172 [==============================] - 8s 7ms/step - loss: 2.7868 - get_f1: 0.1681 - val_loss: 2.7860 - val_get_f1: 0.1647\n",
            "Epoch 13/20\n",
            "1172/1172 [==============================] - 8s 7ms/step - loss: 2.7868 - get_f1: 0.1651 - val_loss: 2.7871 - val_get_f1: 0.1463\n",
            "Epoch 14/20\n",
            "1172/1172 [==============================] - 8s 7ms/step - loss: 2.7869 - get_f1: 0.1620 - val_loss: 2.7861 - val_get_f1: 0.1703\n",
            "Epoch 15/20\n",
            "1172/1172 [==============================] - 8s 7ms/step - loss: 2.7868 - get_f1: 0.1636 - val_loss: 2.7862 - val_get_f1: 0.1668\n",
            "Epoch 16/20\n",
            "1172/1172 [==============================] - 8s 7ms/step - loss: 2.7869 - get_f1: 0.1626 - val_loss: 2.7874 - val_get_f1: 0.1579\n",
            "Epoch 17/20\n",
            "1172/1172 [==============================] - 8s 7ms/step - loss: 2.7869 - get_f1: 0.1647 - val_loss: 2.7870 - val_get_f1: 0.1647\n",
            "Epoch 18/20\n",
            "1172/1172 [==============================] - 8s 7ms/step - loss: 2.7869 - get_f1: 0.1588 - val_loss: 2.7874 - val_get_f1: 0.1579\n",
            "Epoch 19/20\n",
            "1172/1172 [==============================] - 7s 6ms/step - loss: 2.7869 - get_f1: 0.1648 - val_loss: 2.7871 - val_get_f1: 0.1585\n",
            "Epoch 20/20\n",
            "1172/1172 [==============================] - 8s 7ms/step - loss: 2.7869 - get_f1: 0.1601 - val_loss: 2.7864 - val_get_f1: 0.1581\n"
          ]
        }
      ]
    },
    {
      "cell_type": "code",
      "source": [
        "test_loss,test_acc=model7.evaluate(x_test,y_test)\n",
        "print(\"Test accuracy:\",test_acc)"
      ],
      "metadata": {
        "colab": {
          "base_uri": "https://localhost:8080/"
        },
        "id": "0AWQbXvR8ic8",
        "outputId": "b066fa01-57fa-462f-ec20-36f4babfaad2"
      },
      "execution_count": null,
      "outputs": [
        {
          "output_type": "stream",
          "name": "stdout",
          "text": [
            "313/313 [==============================] - 1s 2ms/step - loss: 2.7863 - get_f1: 0.1601\n",
            "Test accuracy: 0.16006390750408173\n"
          ]
        }
      ]
    },
    {
      "cell_type": "markdown",
      "source": [
        "#### model7 with SGD"
      ],
      "metadata": {
        "id": "OF0I4knR845Z"
      }
    },
    {
      "cell_type": "code",
      "source": [
        "model7.compile(optimizer='SGD',loss=\"categorical_crossentropy\", metrics=get_f1)\n",
        "\n",
        "history20 = model7.fit(x_train,y_train, validation_split=0.25, epochs=20)"
      ],
      "metadata": {
        "colab": {
          "base_uri": "https://localhost:8080/"
        },
        "id": "9713PXkOzt52",
        "outputId": "cfba088e-641f-4cf2-ce41-9afe10d5759a"
      },
      "execution_count": null,
      "outputs": [
        {
          "output_type": "stream",
          "name": "stdout",
          "text": [
            "Epoch 1/20\n",
            "1172/1172 [==============================] - 8s 7ms/step - loss: 2.5160 - get_f1: 0.1523 - val_loss: 2.5128 - val_get_f1: 0.1641\n",
            "Epoch 2/20\n",
            "1172/1172 [==============================] - 7s 6ms/step - loss: 2.5157 - get_f1: 0.1562 - val_loss: 2.5127 - val_get_f1: 0.1568\n",
            "Epoch 3/20\n",
            "1172/1172 [==============================] - 7s 6ms/step - loss: 2.5157 - get_f1: 0.1641 - val_loss: 2.5127 - val_get_f1: 0.1467\n",
            "Epoch 4/20\n",
            "1172/1172 [==============================] - 8s 7ms/step - loss: 2.5157 - get_f1: 0.1642 - val_loss: 2.5128 - val_get_f1: 0.1568\n",
            "Epoch 5/20\n",
            "1172/1172 [==============================] - 7s 6ms/step - loss: 2.5157 - get_f1: 0.1552 - val_loss: 2.5128 - val_get_f1: 0.1648\n",
            "Epoch 6/20\n",
            "1172/1172 [==============================] - 7s 6ms/step - loss: 2.5157 - get_f1: 0.1592 - val_loss: 2.5128 - val_get_f1: 0.1568\n",
            "Epoch 7/20\n",
            "1172/1172 [==============================] - 7s 6ms/step - loss: 2.5157 - get_f1: 0.1627 - val_loss: 2.5128 - val_get_f1: 0.1647\n",
            "Epoch 8/20\n",
            "1172/1172 [==============================] - 7s 6ms/step - loss: 2.5157 - get_f1: 0.1602 - val_loss: 2.5128 - val_get_f1: 0.1463\n",
            "Epoch 9/20\n",
            "1172/1172 [==============================] - 8s 7ms/step - loss: 2.5157 - get_f1: 0.1630 - val_loss: 2.5128 - val_get_f1: 0.1463\n",
            "Epoch 10/20\n",
            "1172/1172 [==============================] - 8s 6ms/step - loss: 2.5157 - get_f1: 0.1554 - val_loss: 2.5127 - val_get_f1: 0.1641\n",
            "Epoch 11/20\n",
            "1172/1172 [==============================] - 7s 6ms/step - loss: 2.5157 - get_f1: 0.1635 - val_loss: 2.5127 - val_get_f1: 0.1467\n",
            "Epoch 12/20\n",
            "1172/1172 [==============================] - 7s 6ms/step - loss: 2.5157 - get_f1: 0.1594 - val_loss: 2.5128 - val_get_f1: 0.1575\n",
            "Epoch 13/20\n",
            "1172/1172 [==============================] - 7s 6ms/step - loss: 2.5157 - get_f1: 0.1624 - val_loss: 2.5127 - val_get_f1: 0.1573\n",
            "Epoch 14/20\n",
            "1172/1172 [==============================] - 8s 7ms/step - loss: 2.5157 - get_f1: 0.1570 - val_loss: 2.5128 - val_get_f1: 0.1571\n",
            "Epoch 15/20\n",
            "1172/1172 [==============================] - 7s 6ms/step - loss: 2.5157 - get_f1: 0.1604 - val_loss: 2.5128 - val_get_f1: 0.1463\n",
            "Epoch 16/20\n",
            "1172/1172 [==============================] - 8s 7ms/step - loss: 2.5157 - get_f1: 0.1602 - val_loss: 2.5128 - val_get_f1: 0.1575\n",
            "Epoch 17/20\n",
            "1172/1172 [==============================] - 8s 7ms/step - loss: 2.5157 - get_f1: 0.1597 - val_loss: 2.5127 - val_get_f1: 0.1571\n",
            "Epoch 18/20\n",
            "1172/1172 [==============================] - 8s 6ms/step - loss: 2.5157 - get_f1: 0.1616 - val_loss: 2.5127 - val_get_f1: 0.1584\n",
            "Epoch 19/20\n",
            "1172/1172 [==============================] - 7s 6ms/step - loss: 2.5157 - get_f1: 0.1589 - val_loss: 2.5127 - val_get_f1: 0.1568\n",
            "Epoch 20/20\n",
            "1172/1172 [==============================] - 8s 7ms/step - loss: 2.5157 - get_f1: 0.1658 - val_loss: 2.5127 - val_get_f1: 0.1647\n"
          ]
        }
      ]
    },
    {
      "cell_type": "code",
      "source": [
        "test_loss,test_acc=model7.evaluate(x_test,y_test)\n",
        "print(\"Test accuracy:\",test_acc)"
      ],
      "metadata": {
        "colab": {
          "base_uri": "https://localhost:8080/"
        },
        "id": "yA514D7C8kof",
        "outputId": "8a0c588b-9e9d-4d8d-c8b6-21a1aa12c482"
      },
      "execution_count": null,
      "outputs": [
        {
          "output_type": "stream",
          "name": "stdout",
          "text": [
            "313/313 [==============================] - 1s 3ms/step - loss: 2.5126 - get_f1: 0.1666\n",
            "Test accuracy: 0.16663336753845215\n"
          ]
        }
      ]
    },
    {
      "cell_type": "markdown",
      "source": [
        "#### model7 with adamax"
      ],
      "metadata": {
        "id": "fNoM0C-s87kQ"
      }
    },
    {
      "cell_type": "code",
      "source": [
        "model7.compile(optimizer='adamax',loss=\"categorical_crossentropy\", metrics=get_f1)\n",
        "\n",
        "history21 = model7.fit(x_train,y_train, validation_split=0.25, epochs=20)"
      ],
      "metadata": {
        "colab": {
          "base_uri": "https://localhost:8080/"
        },
        "id": "D_LFe3B8zuPW",
        "outputId": "3b2a3bcc-94d6-40a6-fcdc-2f4cf3c09206"
      },
      "execution_count": null,
      "outputs": [
        {
          "output_type": "stream",
          "name": "stdout",
          "text": [
            "Epoch 1/20\n",
            "1172/1172 [==============================] - 9s 7ms/step - loss: 2.7632 - get_f1: 0.1481 - val_loss: 3.0298 - val_get_f1: 0.1467\n",
            "Epoch 2/20\n",
            "1172/1172 [==============================] - 8s 7ms/step - loss: 2.7513 - get_f1: 0.1291 - val_loss: 2.7298 - val_get_f1: 0.1292\n",
            "Epoch 3/20\n",
            "1172/1172 [==============================] - 8s 7ms/step - loss: 2.7508 - get_f1: 0.1385 - val_loss: 2.7225 - val_get_f1: 0.0953\n",
            "Epoch 4/20\n",
            "1172/1172 [==============================] - 8s 7ms/step - loss: 2.7511 - get_f1: 0.1237 - val_loss: 2.6696 - val_get_f1: 0.0953\n",
            "Epoch 5/20\n",
            "1172/1172 [==============================] - 7s 6ms/step - loss: 2.7510 - get_f1: 0.1050 - val_loss: 2.5511 - val_get_f1: 0.0953\n",
            "Epoch 6/20\n",
            "1172/1172 [==============================] - 8s 7ms/step - loss: 2.7508 - get_f1: 0.1050 - val_loss: 2.6383 - val_get_f1: 0.0953\n",
            "Epoch 7/20\n",
            "1172/1172 [==============================] - 8s 7ms/step - loss: 2.7509 - get_f1: 0.1137 - val_loss: 2.8445 - val_get_f1: 0.0953\n",
            "Epoch 8/20\n",
            "1172/1172 [==============================] - 8s 6ms/step - loss: 2.7510 - get_f1: 0.1018 - val_loss: 2.8992 - val_get_f1: 0.0953\n",
            "Epoch 9/20\n",
            "1172/1172 [==============================] - 7s 6ms/step - loss: 2.7510 - get_f1: 0.1115 - val_loss: 2.8223 - val_get_f1: 0.0953\n",
            "Epoch 10/20\n",
            "1172/1172 [==============================] - 8s 7ms/step - loss: 2.7513 - get_f1: 0.0430 - val_loss: 3.0008 - val_get_f1: 0.0953\n",
            "Epoch 11/20\n",
            "1172/1172 [==============================] - 7s 6ms/step - loss: 2.7513 - get_f1: 0.0892 - val_loss: 2.7477 - val_get_f1: 0.0000e+00\n",
            "Epoch 12/20\n",
            "1172/1172 [==============================] - 8s 7ms/step - loss: 2.7512 - get_f1: 0.0134 - val_loss: 2.5846 - val_get_f1: 0.0953\n",
            "Epoch 13/20\n",
            "1172/1172 [==============================] - 8s 7ms/step - loss: 2.7508 - get_f1: 0.0717 - val_loss: 2.5844 - val_get_f1: 0.0000e+00\n",
            "Epoch 14/20\n",
            "1172/1172 [==============================] - 8s 7ms/step - loss: 2.7505 - get_f1: 0.0267 - val_loss: 2.6200 - val_get_f1: 0.0000e+00\n",
            "Epoch 15/20\n",
            "1172/1172 [==============================] - 8s 7ms/step - loss: 2.7509 - get_f1: 0.0357 - val_loss: 2.7686 - val_get_f1: 0.0953\n",
            "Epoch 16/20\n",
            "1172/1172 [==============================] - 8s 6ms/step - loss: 2.7506 - get_f1: 0.0075 - val_loss: 2.8083 - val_get_f1: 0.0000e+00\n",
            "Epoch 17/20\n",
            "1172/1172 [==============================] - 8s 7ms/step - loss: 2.7510 - get_f1: 0.0073 - val_loss: 2.8895 - val_get_f1: 0.0000e+00\n",
            "Epoch 18/20\n",
            "1172/1172 [==============================] - 8s 7ms/step - loss: 2.7511 - get_f1: 0.0324 - val_loss: 2.9069 - val_get_f1: 0.0000e+00\n",
            "Epoch 19/20\n",
            "1172/1172 [==============================] - 8s 7ms/step - loss: 2.7512 - get_f1: 0.0057 - val_loss: 2.9132 - val_get_f1: 0.0000e+00\n",
            "Epoch 20/20\n",
            "1172/1172 [==============================] - 8s 7ms/step - loss: 2.7512 - get_f1: 0.0000e+00 - val_loss: 2.6776 - val_get_f1: 0.0000e+00\n"
          ]
        }
      ]
    },
    {
      "cell_type": "code",
      "source": [
        "test_loss,test_acc=model7.evaluate(x_test,y_test)\n",
        "print(\"Test accuracy:\",test_acc)"
      ],
      "metadata": {
        "colab": {
          "base_uri": "https://localhost:8080/"
        },
        "id": "uqutohxj8mF4",
        "outputId": "1c55a121-edce-4e18-fff6-a28637d999c4"
      },
      "execution_count": null,
      "outputs": [
        {
          "output_type": "stream",
          "name": "stdout",
          "text": [
            "313/313 [==============================] - 1s 2ms/step - loss: 2.6775 - get_f1: 0.0000e+00\n",
            "Test accuracy: 0.0\n"
          ]
        }
      ]
    },
    {
      "cell_type": "markdown",
      "source": [
        "### Model8"
      ],
      "metadata": {
        "id": "gu2oXGxH0wm1"
      }
    },
    {
      "cell_type": "markdown",
      "source": [
        "#### model8 with adam"
      ],
      "metadata": {
        "id": "Bdkg3guU0Q9C"
      }
    },
    {
      "cell_type": "code",
      "source": [
        "model8.compile(optimizer='adam',loss=\"categorical_crossentropy\", metrics=get_f1)\n",
        "\n",
        "history22 = model8.fit(x_train,y_train, validation_split=0.25, epochs=20)"
      ],
      "metadata": {
        "colab": {
          "base_uri": "https://localhost:8080/"
        },
        "id": "96A1g0nuz0n2",
        "outputId": "4ac7d471-0f61-479f-ff07-017f60a576e8"
      },
      "execution_count": null,
      "outputs": [
        {
          "output_type": "stream",
          "name": "stdout",
          "text": [
            "Epoch 1/20\n",
            "1172/1172 [==============================] - 9s 7ms/step - loss: 5.7572 - get_f1: 0.1691 - val_loss: 2.7605 - val_get_f1: 0.1727\n",
            "Epoch 2/20\n",
            "1172/1172 [==============================] - 8s 7ms/step - loss: 2.7615 - get_f1: 0.1666 - val_loss: 2.7638 - val_get_f1: 0.1667\n",
            "Epoch 3/20\n",
            "1172/1172 [==============================] - 8s 7ms/step - loss: 2.7623 - get_f1: 0.1657 - val_loss: 2.7645 - val_get_f1: 0.1602\n",
            "Epoch 4/20\n",
            "1172/1172 [==============================] - 8s 7ms/step - loss: 2.7622 - get_f1: 0.1662 - val_loss: 2.7630 - val_get_f1: 0.1668\n",
            "Epoch 5/20\n",
            "1172/1172 [==============================] - 8s 7ms/step - loss: 2.7620 - get_f1: 0.1647 - val_loss: 2.7593 - val_get_f1: 0.1617\n",
            "Epoch 6/20\n",
            "1172/1172 [==============================] - 8s 6ms/step - loss: 2.7616 - get_f1: 0.1631 - val_loss: 2.7608 - val_get_f1: 0.1578\n",
            "Epoch 7/20\n",
            "1172/1172 [==============================] - 8s 6ms/step - loss: 2.7615 - get_f1: 0.1633 - val_loss: 2.7589 - val_get_f1: 0.1671\n",
            "Epoch 8/20\n",
            "1172/1172 [==============================] - 8s 7ms/step - loss: 2.7612 - get_f1: 0.1664 - val_loss: 2.7621 - val_get_f1: 0.1654\n",
            "Epoch 9/20\n",
            "1172/1172 [==============================] - 8s 6ms/step - loss: 2.7613 - get_f1: 0.1650 - val_loss: 2.7617 - val_get_f1: 0.1654\n",
            "Epoch 10/20\n",
            "1172/1172 [==============================] - 7s 6ms/step - loss: 2.7613 - get_f1: 0.1624 - val_loss: 2.7618 - val_get_f1: 0.1651\n",
            "Epoch 11/20\n",
            "1172/1172 [==============================] - 8s 7ms/step - loss: 2.7614 - get_f1: 0.1656 - val_loss: 2.7607 - val_get_f1: 0.1482\n",
            "Epoch 12/20\n",
            "1172/1172 [==============================] - 8s 7ms/step - loss: 2.7615 - get_f1: 0.1660 - val_loss: 2.7604 - val_get_f1: 0.1658\n",
            "Epoch 13/20\n",
            "1172/1172 [==============================] - 8s 7ms/step - loss: 2.7617 - get_f1: 0.1626 - val_loss: 2.7599 - val_get_f1: 0.1746\n",
            "Epoch 14/20\n",
            "1172/1172 [==============================] - 9s 7ms/step - loss: 2.7618 - get_f1: 0.1617 - val_loss: 2.7627 - val_get_f1: 0.1650\n",
            "Epoch 15/20\n",
            "1172/1172 [==============================] - 8s 7ms/step - loss: 2.7622 - get_f1: 0.1619 - val_loss: 2.7634 - val_get_f1: 0.1471\n",
            "Epoch 16/20\n",
            "1172/1172 [==============================] - 8s 7ms/step - loss: 2.7622 - get_f1: 0.1591 - val_loss: 2.7623 - val_get_f1: 0.1706\n",
            "Epoch 17/20\n",
            "1172/1172 [==============================] - 8s 7ms/step - loss: 2.7622 - get_f1: 0.1592 - val_loss: 2.7618 - val_get_f1: 0.1587\n",
            "Epoch 18/20\n",
            "1172/1172 [==============================] - 8s 7ms/step - loss: 2.7628 - get_f1: 0.1596 - val_loss: 2.7634 - val_get_f1: 0.1641\n",
            "Epoch 19/20\n",
            "1172/1172 [==============================] - 8s 7ms/step - loss: 2.7632 - get_f1: 0.1599 - val_loss: 2.7623 - val_get_f1: 0.1654\n",
            "Epoch 20/20\n",
            "1172/1172 [==============================] - 8s 7ms/step - loss: 2.7632 - get_f1: 0.1639 - val_loss: 2.7629 - val_get_f1: 0.1649\n"
          ]
        }
      ]
    },
    {
      "cell_type": "code",
      "source": [
        "test_loss,test_acc=model8.evaluate(x_test,y_test)\n",
        "print(\"Test accuracy:\",test_acc)"
      ],
      "metadata": {
        "colab": {
          "base_uri": "https://localhost:8080/"
        },
        "id": "IU1rWA-R8oky",
        "outputId": "751a4d06-90f1-411c-f869-02263524254c"
      },
      "execution_count": null,
      "outputs": [
        {
          "output_type": "stream",
          "name": "stdout",
          "text": [
            "313/313 [==============================] - 1s 2ms/step - loss: 2.7626 - get_f1: 0.1666\n",
            "Test accuracy: 0.16660010814666748\n"
          ]
        }
      ]
    },
    {
      "cell_type": "markdown",
      "source": [
        "#### model8 with SGD"
      ],
      "metadata": {
        "id": "AZ9QOWVo8u87"
      }
    },
    {
      "cell_type": "code",
      "source": [
        "model8.compile(optimizer='SGD',loss=\"categorical_crossentropy\", metrics=get_f1)\n",
        "\n",
        "history23 = model8.fit(x_train,y_train, validation_split=0.25, epochs=20)"
      ],
      "metadata": {
        "colab": {
          "base_uri": "https://localhost:8080/"
        },
        "id": "nICVVvW9z1Cd",
        "outputId": "b62106bc-ee48-4513-93ca-461a0728ed3a"
      },
      "execution_count": null,
      "outputs": [
        {
          "output_type": "stream",
          "name": "stdout",
          "text": [
            "Epoch 1/20\n",
            "1172/1172 [==============================] - 8s 6ms/step - loss: 2.5161 - get_f1: 0.1627 - val_loss: 2.5145 - val_get_f1: 0.1641\n",
            "Epoch 2/20\n",
            "1172/1172 [==============================] - 7s 6ms/step - loss: 2.5157 - get_f1: 0.1658 - val_loss: 2.5145 - val_get_f1: 0.1641\n",
            "Epoch 3/20\n",
            "1172/1172 [==============================] - 8s 7ms/step - loss: 2.5157 - get_f1: 0.1648 - val_loss: 2.5145 - val_get_f1: 0.1577\n",
            "Epoch 4/20\n",
            "1172/1172 [==============================] - 8s 7ms/step - loss: 2.5157 - get_f1: 0.1677 - val_loss: 2.5145 - val_get_f1: 0.1704\n",
            "Epoch 5/20\n",
            "1172/1172 [==============================] - 7s 6ms/step - loss: 2.5157 - get_f1: 0.1673 - val_loss: 2.5145 - val_get_f1: 0.1643\n",
            "Epoch 6/20\n",
            "1172/1172 [==============================] - 8s 7ms/step - loss: 2.5157 - get_f1: 0.1681 - val_loss: 2.5145 - val_get_f1: 0.1694\n",
            "Epoch 7/20\n",
            "1172/1172 [==============================] - 8s 7ms/step - loss: 2.5157 - get_f1: 0.1688 - val_loss: 2.5144 - val_get_f1: 0.1697\n",
            "Epoch 8/20\n",
            "1172/1172 [==============================] - 7s 6ms/step - loss: 2.5157 - get_f1: 0.1687 - val_loss: 2.5144 - val_get_f1: 0.1739\n",
            "Epoch 9/20\n",
            "1172/1172 [==============================] - 7s 6ms/step - loss: 2.5157 - get_f1: 0.1663 - val_loss: 2.5144 - val_get_f1: 0.1697\n",
            "Epoch 10/20\n",
            "1172/1172 [==============================] - 8s 7ms/step - loss: 2.5157 - get_f1: 0.1655 - val_loss: 2.5144 - val_get_f1: 0.1641\n",
            "Epoch 11/20\n",
            "1172/1172 [==============================] - 8s 7ms/step - loss: 2.5157 - get_f1: 0.1648 - val_loss: 2.5145 - val_get_f1: 0.1471\n",
            "Epoch 12/20\n",
            "1172/1172 [==============================] - 8s 6ms/step - loss: 2.5157 - get_f1: 0.1644 - val_loss: 2.5145 - val_get_f1: 0.1643\n",
            "Epoch 13/20\n",
            "1172/1172 [==============================] - 7s 6ms/step - loss: 2.5157 - get_f1: 0.1662 - val_loss: 2.5145 - val_get_f1: 0.1643\n",
            "Epoch 14/20\n",
            "1172/1172 [==============================] - 7s 6ms/step - loss: 2.5157 - get_f1: 0.1685 - val_loss: 2.5145 - val_get_f1: 0.1694\n",
            "Epoch 15/20\n",
            "1172/1172 [==============================] - 8s 6ms/step - loss: 2.5157 - get_f1: 0.1666 - val_loss: 2.5144 - val_get_f1: 0.1739\n",
            "Epoch 16/20\n",
            "1172/1172 [==============================] - 8s 6ms/step - loss: 2.5157 - get_f1: 0.1673 - val_loss: 2.5144 - val_get_f1: 0.1579\n",
            "Epoch 17/20\n",
            "1172/1172 [==============================] - 8s 6ms/step - loss: 2.5157 - get_f1: 0.1676 - val_loss: 2.5146 - val_get_f1: 0.1641\n",
            "Epoch 18/20\n",
            "1172/1172 [==============================] - 7s 6ms/step - loss: 2.5157 - get_f1: 0.1667 - val_loss: 2.5145 - val_get_f1: 0.1643\n",
            "Epoch 19/20\n",
            "1172/1172 [==============================] - 7s 6ms/step - loss: 2.5157 - get_f1: 0.1675 - val_loss: 2.5145 - val_get_f1: 0.1643\n",
            "Epoch 20/20\n",
            "1172/1172 [==============================] - 8s 7ms/step - loss: 2.5157 - get_f1: 0.1694 - val_loss: 2.5144 - val_get_f1: 0.1699\n"
          ]
        }
      ]
    },
    {
      "cell_type": "code",
      "source": [
        "test_loss,test_acc=model8.evaluate(x_test,y_test)\n",
        "print(\"Test accuracy:\",test_acc)"
      ],
      "metadata": {
        "colab": {
          "base_uri": "https://localhost:8080/"
        },
        "id": "wvjmWW298qXw",
        "outputId": "154c413b-cc55-4a86-d76d-d16a0d6b1f1d"
      },
      "execution_count": null,
      "outputs": [
        {
          "output_type": "stream",
          "name": "stdout",
          "text": [
            "313/313 [==============================] - 1s 2ms/step - loss: 2.5143 - get_f1: 0.1714\n",
            "Test accuracy: 0.17143994569778442\n"
          ]
        }
      ]
    },
    {
      "cell_type": "markdown",
      "source": [
        "#### model8 with adamax"
      ],
      "metadata": {
        "id": "YxjyVU-G8xmH"
      }
    },
    {
      "cell_type": "code",
      "source": [
        "model8.compile(optimizer='adamax',loss=\"categorical_crossentropy\", metrics=get_f1)\n",
        "\n",
        "history24 = model8.fit(x_train,y_train, validation_split=0.25, epochs=20)"
      ],
      "metadata": {
        "colab": {
          "base_uri": "https://localhost:8080/"
        },
        "id": "K5jMXAE6z1zk",
        "outputId": "e8f5334d-20f2-4ec8-dfb0-fdef119fca69"
      },
      "execution_count": null,
      "outputs": [
        {
          "output_type": "stream",
          "name": "stdout",
          "text": [
            "Epoch 1/20\n",
            "1172/1172 [==============================] - 9s 7ms/step - loss: 2.7646 - get_f1: 0.1616 - val_loss: 3.0210 - val_get_f1: 0.1483\n",
            "Epoch 2/20\n",
            "1172/1172 [==============================] - 8s 7ms/step - loss: 2.7525 - get_f1: 0.1544 - val_loss: 2.7320 - val_get_f1: 0.1650\n",
            "Epoch 3/20\n",
            "1172/1172 [==============================] - 8s 6ms/step - loss: 2.7519 - get_f1: 0.1440 - val_loss: 2.7220 - val_get_f1: 0.1467\n",
            "Epoch 4/20\n",
            "1172/1172 [==============================] - 8s 7ms/step - loss: 2.7523 - get_f1: 0.1387 - val_loss: 2.6740 - val_get_f1: 0.1332\n",
            "Epoch 5/20\n",
            "1172/1172 [==============================] - 8s 7ms/step - loss: 2.7521 - get_f1: 0.1113 - val_loss: 2.5583 - val_get_f1: 0.1299\n",
            "Epoch 6/20\n",
            "1172/1172 [==============================] - 7s 6ms/step - loss: 2.7518 - get_f1: 0.1203 - val_loss: 2.6422 - val_get_f1: 0.1299\n",
            "Epoch 7/20\n",
            "1172/1172 [==============================] - 8s 7ms/step - loss: 2.7519 - get_f1: 0.1036 - val_loss: 2.8415 - val_get_f1: 0.0953\n",
            "Epoch 8/20\n",
            "1172/1172 [==============================] - 8s 7ms/step - loss: 2.7519 - get_f1: 0.0959 - val_loss: 2.8969 - val_get_f1: 0.1328\n",
            "Epoch 9/20\n",
            "1172/1172 [==============================] - 8s 7ms/step - loss: 2.7521 - get_f1: 0.0690 - val_loss: 2.8210 - val_get_f1: 0.0953\n",
            "Epoch 10/20\n",
            "1172/1172 [==============================] - 8s 6ms/step - loss: 2.7522 - get_f1: 0.0852 - val_loss: 2.9911 - val_get_f1: 0.0000e+00\n",
            "Epoch 11/20\n",
            "1172/1172 [==============================] - 7s 6ms/step - loss: 2.7522 - get_f1: 0.0843 - val_loss: 2.7502 - val_get_f1: 0.0996\n",
            "Epoch 12/20\n",
            "1172/1172 [==============================] - 7s 6ms/step - loss: 2.7522 - get_f1: 0.0734 - val_loss: 2.5941 - val_get_f1: 0.0953\n",
            "Epoch 13/20\n",
            "1172/1172 [==============================] - 8s 7ms/step - loss: 2.7517 - get_f1: 0.0311 - val_loss: 2.5917 - val_get_f1: 0.0953\n",
            "Epoch 14/20\n",
            "1172/1172 [==============================] - 8s 7ms/step - loss: 2.7515 - get_f1: 0.0522 - val_loss: 2.6254 - val_get_f1: 0.0987\n",
            "Epoch 15/20\n",
            "1172/1172 [==============================] - 8s 6ms/step - loss: 2.7518 - get_f1: 0.0333 - val_loss: 2.7698 - val_get_f1: 0.0953\n",
            "Epoch 16/20\n",
            "1172/1172 [==============================] - 8s 7ms/step - loss: 2.7515 - get_f1: 0.0673 - val_loss: 2.8048 - val_get_f1: 0.0986\n",
            "Epoch 17/20\n",
            "1172/1172 [==============================] - 8s 7ms/step - loss: 2.7520 - get_f1: 0.0416 - val_loss: 2.8850 - val_get_f1: 0.0000e+00\n",
            "Epoch 18/20\n",
            "1172/1172 [==============================] - 8s 7ms/step - loss: 2.7519 - get_f1: 0.0000e+00 - val_loss: 2.9015 - val_get_f1: 0.0000e+00\n",
            "Epoch 19/20\n",
            "1172/1172 [==============================] - 7s 6ms/step - loss: 2.7520 - get_f1: 7.7325e-04 - val_loss: 2.9075 - val_get_f1: 0.0000e+00\n",
            "Epoch 20/20\n",
            "1172/1172 [==============================] - 8s 6ms/step - loss: 2.7520 - get_f1: 0.0186 - val_loss: 2.6834 - val_get_f1: 0.0000e+00\n"
          ]
        }
      ]
    },
    {
      "cell_type": "code",
      "source": [
        "test_loss,test_acc=model8.evaluate(x_test,y_test)\n",
        "print(\"Test accuracy:\",test_acc)"
      ],
      "metadata": {
        "colab": {
          "base_uri": "https://localhost:8080/"
        },
        "id": "xtUKVbgY8sgf",
        "outputId": "2967b7bf-a227-41b7-9828-06b782a30c8a"
      },
      "execution_count": null,
      "outputs": [
        {
          "output_type": "stream",
          "name": "stdout",
          "text": [
            "313/313 [==============================] - 1s 2ms/step - loss: 2.6833 - get_f1: 0.0000e+00\n",
            "Test accuracy: 0.0\n"
          ]
        }
      ]
    },
    {
      "cell_type": "markdown",
      "source": [
        "### f. Create a graph of f1 score vs epochs for training and validation set."
      ],
      "metadata": {
        "id": "KrEVKrG-eLT7"
      }
    },
    {
      "cell_type": "markdown",
      "source": [
        "#### the best accuracy is 0.46 with the model having dropout and activation functions as elu and softmax and optimizer adamax"
      ],
      "metadata": {
        "id": "bqkVARTaFZ3i"
      }
    },
    {
      "cell_type": "code",
      "source": [
        "plt.figure(figsize=(10,7))\n",
        "plt.plot(history12.history['get_f1'], marker = 'o', label='train_data')\n",
        "plt.plot(history12.history['val_get_f1'], marker = '*', label='val data')\n",
        "plt.xlabel('Epochs')\n",
        "plt.ylabel('f1 score')\n",
        "plt.xlim([0, 20])\n",
        "plt.title('f1_score vs epochs for training and validation set')\n",
        "plt.legend()"
      ],
      "metadata": {
        "colab": {
          "base_uri": "https://localhost:8080/",
          "height": 475
        },
        "id": "jmMUX4knCWTW",
        "outputId": "158a5d92-ad95-400c-e5db-2e8e0d99d6b0"
      },
      "execution_count": null,
      "outputs": [
        {
          "output_type": "execute_result",
          "data": {
            "text/plain": [
              "<matplotlib.legend.Legend at 0x7f8bf2decb50>"
            ]
          },
          "metadata": {},
          "execution_count": 21
        },
        {
          "output_type": "display_data",
          "data": {
            "text/plain": [
              "<Figure size 720x504 with 1 Axes>"
            ],
            "image/png": "[encoded data removed]"
          },
          "metadata": {
            "needs_background": "light"
          }
        }
      ]
    },
    {
      "cell_type": "markdown",
      "source": [
        "### g. Calculate number of trainable parameters in your final model."
      ],
      "metadata": {
        "id": "SET9mcRQeM5j"
      }
    },
    {
      "cell_type": "code",
      "source": [
        "print(model4.summary())"
      ],
      "metadata": {
        "colab": {
          "base_uri": "https://localhost:8080/"
        },
        "id": "ScF0bXAQCWxF",
        "outputId": "a93e6f97-4b07-487a-d88e-cb6c173368aa"
      },
      "execution_count": null,
      "outputs": [
        {
          "output_type": "stream",
          "name": "stdout",
          "text": [
            "Model: \"sequential_3\"\n",
            "_________________________________________________________________\n",
            " Layer (type)                Output Shape              Param #   \n",
            "=================================================================\n",
            " dense_12 (Dense)            (None, 128)               393344    \n",
            "                                                                 \n",
            " dense_13 (Dense)            (None, 128)               16512     \n",
            "                                                                 \n",
            " dropout_1 (Dropout)         (None, 128)               0         \n",
            "                                                                 \n",
            " dense_14 (Dense)            (None, 128)               16512     \n",
            "                                                                 \n",
            " dropout_2 (Dropout)         (None, 128)               0         \n",
            "                                                                 \n",
            " dense_15 (Dense)            (None, 10)                1290      \n",
            "                                                                 \n",
            "=================================================================\n",
            "Total params: 427,658\n",
            "Trainable params: 427,658\n",
            "Non-trainable params: 0\n",
            "_________________________________________________________________\n",
            "None\n"
          ]
        }
      ]
    },
    {
      "cell_type": "markdown",
      "source": [
        "# Task 2 Natural Language Processing"
      ],
      "metadata": {
        "id": "Tq4W2FlzvUwB"
      }
    },
    {
      "cell_type": "code",
      "source": [
        "import pandas as pd \n",
        "import numpy as np\n",
        "import string \n",
        "from google.colab import drive\n",
        "drive.mount('/content/drive')\n",
        "from sklearn.model_selection import train_test_split\n",
        "import re\n",
        "import nltk\n",
        "import string\n",
        "from tqdm import tqdm\n",
        "from bs4 import BeautifulSoup\n",
        "from nltk.stem import PorterStemmer\n",
        "from nltk.stem import WordNetLemmatizer\n",
        "from nltk.tokenize import word_tokenize\n",
        "from nltk.tokenize.toktok import ToktokTokenizer\n",
        "nltk.download('stopwords')\n",
        "nltk.download('wordnet')\n",
        "from gensim.models.word2vec import Word2Vec\n",
        "from sklearn.feature_extraction.text import TfidfVectorizer, CountVectorizer\n",
        "from sklearn.linear_model import LogisticRegression\n",
        "from sklearn.ensemble import RandomForestClassifier\n",
        "import xgboost as xgb\n",
        "from sklearn.preprocessing import scale, MaxAbsScaler\n",
        "from sklearn.metrics import accuracy_score, confusion_matrix, classification_report\n",
        "import warnings\n",
        "warnings.filterwarnings('ignore')\n"
      ],
      "metadata": {
        "id": "s4fXjMl5vo1w",
        "colab": {
          "base_uri": "https://localhost:8080/"
        },
        "outputId": "7063a6de-27ce-4c46-9a47-75271e08bc6b"
      },
      "execution_count": null,
      "outputs": [
        {
          "output_type": "stream",
          "name": "stdout",
          "text": [
            "Drive already mounted at /content/drive; to attempt to forcibly remount, call drive.mount(\"/content/drive\", force_remount=True).\n",
            "[nltk_data] Downloading package stopwords to /root/nltk_data...\n",
            "[nltk_data]   Package stopwords is already up-to-date!\n",
            "[nltk_data] Downloading package wordnet to /root/nltk_data...\n",
            "[nltk_data]   Package wordnet is already up-to-date!\n"
          ]
        }
      ]
    },
    {
      "cell_type": "markdown",
      "source": [
        "### 1. Load the movie reviews sentiment analysis dataset and split into 80:20 ratio for training and test date"
      ],
      "metadata": {
        "id": "vTyeDlEpvgU2"
      }
    },
    {
      "cell_type": "code",
      "source": [
        "sndata = pd.read_csv('/content/drive/MyDrive/SNDataset.csv')"
      ],
      "metadata": {
        "id": "yy5A6oXkvcMF"
      },
      "execution_count": null,
      "outputs": []
    },
    {
      "cell_type": "code",
      "source": [
        "sndata.head()"
      ],
      "metadata": {
        "id": "xpFPVhBJ6FQ9",
        "colab": {
          "base_uri": "https://localhost:8080/",
          "height": 206
        },
        "outputId": "10ab6370-f88a-461d-d891-94136daa7419"
      },
      "execution_count": null,
      "outputs": [
        {
          "output_type": "execute_result",
          "data": {
            "text/plain": [
              "                                              review sentiment\n",
              "0  One of the other reviewers has mentioned that ...  positive\n",
              "1  A wonderful little production. <br /><br />The...  positive\n",
              "2  I thought this was a wonderful way to spend ti...  positive\n",
              "3  Basically there's a family where a little boy ...  negative\n",
              "4  Petter Mattei's \"Love in the Time of Money\" is...  positive"
            ],
            "text/html": [
              "\n",
              "  <div id=\"df-e7697331-ac21-4891-80da-9481f62213d4\">\n",
              "    <div class=\"colab-df-container\">\n",
              "      <div>\n",
              "<style scoped>\n",
              "    .dataframe tbody tr th:only-of-type {\n",
              "        vertical-align: middle;\n",
              "    }\n",
              "\n",
              "    .dataframe tbody tr th {\n",
              "        vertical-align: top;\n",
              "    }\n",
              "\n",
              "    .dataframe thead th {\n",
              "        text-align: right;\n",
              "    }\n",
              "</style>\n",
              "<table border=\"1\" class=\"dataframe\">\n",
              "  <thead>\n",
              "    <tr style=\"text-align: right;\">\n",
              "      <th></th>\n",
              "      <th>review</th>\n",
              "      <th>sentiment</th>\n",
              "    </tr>\n",
              "  </thead>\n",
              "  <tbody>\n",
              "    <tr>\n",
              "      <th>0</th>\n",
              "      <td>One of the other reviewers has mentioned that ...</td>\n",
              "      <td>positive</td>\n",
              "    </tr>\n",
              "    <tr>\n",
              "      <th>1</th>\n",
              "      <td>A wonderful little production. &lt;br /&gt;&lt;br /&gt;The...</td>\n",
              "      <td>positive</td>\n",
              "    </tr>\n",
              "    <tr>\n",
              "      <th>2</th>\n",
              "      <td>I thought this was a wonderful way to spend ti...</td>\n",
              "      <td>positive</td>\n",
              "    </tr>\n",
              "    <tr>\n",
              "      <th>3</th>\n",
              "      <td>Basically there's a family where a little boy ...</td>\n",
              "      <td>negative</td>\n",
              "    </tr>\n",
              "    <tr>\n",
              "      <th>4</th>\n",
              "      <td>Petter Mattei's \"Love in the Time of Money\" is...</td>\n",
              "      <td>positive</td>\n",
              "    </tr>\n",
              "  </tbody>\n",
              "</table>\n",
              "</div>\n",
              "      <button class=\"colab-df-convert\" onclick=\"convertToInteractive('df-e7697331-ac21-4891-80da-9481f62213d4')\"\n",
              "              title=\"Convert this dataframe to an interactive table.\"\n",
              "              style=\"display:none;\">\n",
              "        \n",
              "  <svg xmlns=\"http://www.w3.org/2000/svg\" height=\"24px\"viewBox=\"0 0 24 24\"\n",
              "       width=\"24px\">\n",
              "    <path d=\"M0 0h24v24H0V0z\" fill=\"none\"/>\n",
              "    <path d=\"M18.56 5.44l.94 2.06.94-2.06 2.06-.94-2.06-.94-.94-2.06-.94 2.06-2.06.94zm-11 1L8.5 8.5l.94-2.06 2.06-.94-2.06-.94L8.5 2.5l-.94 2.06-2.06.94zm10 10l.94 2.06.94-2.06 2.06-.94-2.06-.94-.94-2.06-.94 2.06-2.06.94z\"/><path d=\"M17.41 7.96l-1.37-1.37c-.4-.4-.92-.59-1.43-.59-.52 0-1.04.2-1.43.59L10.3 9.45l-7.72 7.72c-.78.78-.78 2.05 0 2.83L4 21.41c.39.39.9.59 1.41.59.51 0 1.02-.2 1.41-.59l7.78-7.78 2.81-2.81c.8-.78.8-2.07 0-2.86zM5.41 20L4 18.59l7.72-7.72 1.47 1.35L5.41 20z\"/>\n",
              "  </svg>\n",
              "      </button>\n",
              "      \n",
              "  <style>\n",
              "    .colab-df-container {\n",
              "      display:flex;\n",
              "      flex-wrap:wrap;\n",
              "      gap: 12px;\n",
              "    }\n",
              "\n",
              "    .colab-df-convert {\n",
              "      background-color: #E8F0FE;\n",
              "      border: none;\n",
              "      border-radius: 50%;\n",
              "      cursor: pointer;\n",
              "      display: none;\n",
              "      fill: #1967D2;\n",
              "      height: 32px;\n",
              "      padding: 0 0 0 0;\n",
              "      width: 32px;\n",
              "    }\n",
              "\n",
              "    .colab-df-convert:hover {\n",
              "      background-color: #E2EBFA;\n",
              "      box-shadow: 0px 1px 2px rgba(60, 64, 67, 0.3), 0px 1px 3px 1px rgba(60, 64, 67, 0.15);\n",
              "      fill: #174EA6;\n",
              "    }\n",
              "\n",
              "    [theme=dark] .colab-df-convert {\n",
              "      background-color: #3B4455;\n",
              "      fill: #D2E3FC;\n",
              "    }\n",
              "\n",
              "    [theme=dark] .colab-df-convert:hover {\n",
              "      background-color: #434B5C;\n",
              "      box-shadow: 0px 1px 3px 1px rgba(0, 0, 0, 0.15);\n",
              "      filter: drop-shadow(0px 1px 2px rgba(0, 0, 0, 0.3));\n",
              "      fill: #FFFFFF;\n",
              "    }\n",
              "  </style>\n",
              "\n",
              "      <script>\n",
              "        const buttonEl =\n",
              "          document.querySelector('#df-e7697331-ac21-4891-80da-9481f62213d4 button.colab-df-convert');\n",
              "        buttonEl.style.display =\n",
              "          google.colab.kernel.accessAllowed ? 'block' : 'none';\n",
              "\n",
              "        async function convertToInteractive(key) {\n",
              "          const element = document.querySelector('#df-e7697331-ac21-4891-80da-9481f62213d4');\n",
              "          const dataTable =\n",
              "            await google.colab.kernel.invokeFunction('convertToInteractive',\n",
              "                                                     [key], {});\n",
              "          if (!dataTable) return;\n",
              "\n",
              "          const docLinkHtml = 'Like what you see? Visit the ' +\n",
              "            '<a target=\"_blank\" href=https://colab.research.google.com/notebooks/data_table.ipynb>data table notebook</a>'\n",
              "            + ' to learn more about interactive tables.';\n",
              "          element.innerHTML = '';\n",
              "          dataTable['output_type'] = 'display_data';\n",
              "          await google.colab.output.renderOutput(dataTable, element);\n",
              "          const docLink = document.createElement('div');\n",
              "          docLink.innerHTML = docLinkHtml;\n",
              "          element.appendChild(docLink);\n",
              "        }\n",
              "      </script>\n",
              "    </div>\n",
              "  </div>\n",
              "  "
            ]
          },
          "metadata": {},
          "execution_count": 3
        }
      ]
    },
    {
      "cell_type": "markdown",
      "source": [
        "### 2. What is lexical vs semantic text analysis\n",
        "\n",
        "**lexical:** It entails recognizing and analyzing word structures. The collection of words and phrases in a language is referred to as the lexicon. Lexical analysis is the process of breaking down a text file into paragraphs, phrases, and words. The collection of words and phrases in a language is referred to as the lexicon. Lexical analysis is the process of breaking down a text file into paragraphs, phrases, and words. Furthermore, what does lexical analysis imply? An examination of the vocabulary.\n",
        "\n",
        "\n",
        "**Semantic Analysis:** Semantic analysis is a branch of natural language processing and machine learning that aids in deciphering the context of any text as well as the emotions expressed in the sentence. This aids in the extraction of essential data from computers with human-level precision. Machine translations, chatbots, search engines, and text analytics all use semantic analysis."
      ],
      "metadata": {
        "id": "19lj5M6K0o2X"
      }
    },
    {
      "cell_type": "markdown",
      "source": [
        "### Perform required preprocessing on the dataset (removing stop words, vectorization etc.)"
      ],
      "metadata": {
        "id": "HloLwjzE2rhw"
      }
    },
    {
      "cell_type": "code",
      "source": [
        "### writing a function to remove html tags and special characters\n",
        "\n",
        "def text_preprocess(sentence):\n",
        "\n",
        "  ## removing html tags first \n",
        "  soup = BeautifulSoup(sentence, \"html.parser\")\n",
        "  sentence = soup.get_text()\n",
        "\n",
        "  ## removing all the special characters \n",
        "  sen_wo_sc = [x for x in sentence if x not in string.punctuation]\n",
        "  sen_wo_sc = ''.join(sen_wo_sc)\n",
        "\n",
        "  ## converting the text into lower case\n",
        "  sen_wo_sc = sen_wo_sc.lower()\n",
        "\n",
        "  return sen_wo_sc "
      ],
      "metadata": {
        "id": "4K9mZv6rwr0x"
      },
      "execution_count": null,
      "outputs": []
    },
    {
      "cell_type": "code",
      "source": [
        "sndata['review'] = sndata['review'].apply(text_preprocess)"
      ],
      "metadata": {
        "id": "ICZi4x7d5a9T"
      },
      "execution_count": null,
      "outputs": []
    },
    {
      "cell_type": "code",
      "source": [
        "sndata.head()"
      ],
      "metadata": {
        "id": "qmZMjY8uRoac",
        "colab": {
          "base_uri": "https://localhost:8080/",
          "height": 206
        },
        "outputId": "af1d16e0-f773-4e95-c554-f829247fca25"
      },
      "execution_count": null,
      "outputs": [
        {
          "output_type": "execute_result",
          "data": {
            "text/plain": [
              "                                              review sentiment\n",
              "0  one of the other reviewers has mentioned that ...  positive\n",
              "1  a wonderful little production the filming tech...  positive\n",
              "2  i thought this was a wonderful way to spend ti...  positive\n",
              "3  basically theres a family where a little boy j...  negative\n",
              "4  petter matteis love in the time of money is a ...  positive"
            ],
            "text/html": [
              "\n",
              "  <div id=\"df-39470ad8-7e4e-48b9-9bd8-ce991545bf3d\">\n",
              "    <div class=\"colab-df-container\">\n",
              "      <div>\n",
              "<style scoped>\n",
              "    .dataframe tbody tr th:only-of-type {\n",
              "        vertical-align: middle;\n",
              "    }\n",
              "\n",
              "    .dataframe tbody tr th {\n",
              "        vertical-align: top;\n",
              "    }\n",
              "\n",
              "    .dataframe thead th {\n",
              "        text-align: right;\n",
              "    }\n",
              "</style>\n",
              "<table border=\"1\" class=\"dataframe\">\n",
              "  <thead>\n",
              "    <tr style=\"text-align: right;\">\n",
              "      <th></th>\n",
              "      <th>review</th>\n",
              "      <th>sentiment</th>\n",
              "    </tr>\n",
              "  </thead>\n",
              "  <tbody>\n",
              "    <tr>\n",
              "      <th>0</th>\n",
              "      <td>one of the other reviewers has mentioned that ...</td>\n",
              "      <td>positive</td>\n",
              "    </tr>\n",
              "    <tr>\n",
              "      <th>1</th>\n",
              "      <td>a wonderful little production the filming tech...</td>\n",
              "      <td>positive</td>\n",
              "    </tr>\n",
              "    <tr>\n",
              "      <th>2</th>\n",
              "      <td>i thought this was a wonderful way to spend ti...</td>\n",
              "      <td>positive</td>\n",
              "    </tr>\n",
              "    <tr>\n",
              "      <th>3</th>\n",
              "      <td>basically theres a family where a little boy j...</td>\n",
              "      <td>negative</td>\n",
              "    </tr>\n",
              "    <tr>\n",
              "      <th>4</th>\n",
              "      <td>petter matteis love in the time of money is a ...</td>\n",
              "      <td>positive</td>\n",
              "    </tr>\n",
              "  </tbody>\n",
              "</table>\n",
              "</div>\n",
              "      <button class=\"colab-df-convert\" onclick=\"convertToInteractive('df-39470ad8-7e4e-48b9-9bd8-ce991545bf3d')\"\n",
              "              title=\"Convert this dataframe to an interactive table.\"\n",
              "              style=\"display:none;\">\n",
              "        \n",
              "  <svg xmlns=\"http://www.w3.org/2000/svg\" height=\"24px\"viewBox=\"0 0 24 24\"\n",
              "       width=\"24px\">\n",
              "    <path d=\"M0 0h24v24H0V0z\" fill=\"none\"/>\n",
              "    <path d=\"M18.56 5.44l.94 2.06.94-2.06 2.06-.94-2.06-.94-.94-2.06-.94 2.06-2.06.94zm-11 1L8.5 8.5l.94-2.06 2.06-.94-2.06-.94L8.5 2.5l-.94 2.06-2.06.94zm10 10l.94 2.06.94-2.06 2.06-.94-2.06-.94-.94-2.06-.94 2.06-2.06.94z\"/><path d=\"M17.41 7.96l-1.37-1.37c-.4-.4-.92-.59-1.43-.59-.52 0-1.04.2-1.43.59L10.3 9.45l-7.72 7.72c-.78.78-.78 2.05 0 2.83L4 21.41c.39.39.9.59 1.41.59.51 0 1.02-.2 1.41-.59l7.78-7.78 2.81-2.81c.8-.78.8-2.07 0-2.86zM5.41 20L4 18.59l7.72-7.72 1.47 1.35L5.41 20z\"/>\n",
              "  </svg>\n",
              "      </button>\n",
              "      \n",
              "  <style>\n",
              "    .colab-df-container {\n",
              "      display:flex;\n",
              "      flex-wrap:wrap;\n",
              "      gap: 12px;\n",
              "    }\n",
              "\n",
              "    .colab-df-convert {\n",
              "      background-color: #E8F0FE;\n",
              "      border: none;\n",
              "      border-radius: 50%;\n",
              "      cursor: pointer;\n",
              "      display: none;\n",
              "      fill: #1967D2;\n",
              "      height: 32px;\n",
              "      padding: 0 0 0 0;\n",
              "      width: 32px;\n",
              "    }\n",
              "\n",
              "    .colab-df-convert:hover {\n",
              "      background-color: #E2EBFA;\n",
              "      box-shadow: 0px 1px 2px rgba(60, 64, 67, 0.3), 0px 1px 3px 1px rgba(60, 64, 67, 0.15);\n",
              "      fill: #174EA6;\n",
              "    }\n",
              "\n",
              "    [theme=dark] .colab-df-convert {\n",
              "      background-color: #3B4455;\n",
              "      fill: #D2E3FC;\n",
              "    }\n",
              "\n",
              "    [theme=dark] .colab-df-convert:hover {\n",
              "      background-color: #434B5C;\n",
              "      box-shadow: 0px 1px 3px 1px rgba(0, 0, 0, 0.15);\n",
              "      filter: drop-shadow(0px 1px 2px rgba(0, 0, 0, 0.3));\n",
              "      fill: #FFFFFF;\n",
              "    }\n",
              "  </style>\n",
              "\n",
              "      <script>\n",
              "        const buttonEl =\n",
              "          document.querySelector('#df-39470ad8-7e4e-48b9-9bd8-ce991545bf3d button.colab-df-convert');\n",
              "        buttonEl.style.display =\n",
              "          google.colab.kernel.accessAllowed ? 'block' : 'none';\n",
              "\n",
              "        async function convertToInteractive(key) {\n",
              "          const element = document.querySelector('#df-39470ad8-7e4e-48b9-9bd8-ce991545bf3d');\n",
              "          const dataTable =\n",
              "            await google.colab.kernel.invokeFunction('convertToInteractive',\n",
              "                                                     [key], {});\n",
              "          if (!dataTable) return;\n",
              "\n",
              "          const docLinkHtml = 'Like what you see? Visit the ' +\n",
              "            '<a target=\"_blank\" href=https://colab.research.google.com/notebooks/data_table.ipynb>data table notebook</a>'\n",
              "            + ' to learn more about interactive tables.';\n",
              "          element.innerHTML = '';\n",
              "          dataTable['output_type'] = 'display_data';\n",
              "          await google.colab.output.renderOutput(dataTable, element);\n",
              "          const docLink = document.createElement('div');\n",
              "          docLink.innerHTML = docLinkHtml;\n",
              "          element.appendChild(docLink);\n",
              "        }\n",
              "      </script>\n",
              "    </div>\n",
              "  </div>\n",
              "  "
            ]
          },
          "metadata": {},
          "execution_count": 6
        }
      ]
    },
    {
      "cell_type": "code",
      "source": [
        "## Removing urls \n",
        "def remove_urls(text):\n",
        "    url_pattern = re.compile(r'https?://\\S+|www\\.\\S+')\n",
        "    return url_pattern.sub(r'', text)\n"
      ],
      "metadata": {
        "id": "2xnr2QWR2L6q"
      },
      "execution_count": null,
      "outputs": []
    },
    {
      "cell_type": "code",
      "source": [
        "sndata['review'] = sndata['review'].apply(remove_urls)\n",
        "sndata.head()"
      ],
      "metadata": {
        "colab": {
          "base_uri": "https://localhost:8080/",
          "height": 206
        },
        "id": "nRV09nUd21ST",
        "outputId": "aaad1970-f84e-467c-c6e3-ba28b01a8cc0"
      },
      "execution_count": null,
      "outputs": [
        {
          "output_type": "execute_result",
          "data": {
            "text/plain": [
              "                                              review sentiment\n",
              "0  one of the other reviewers has mentioned that ...  positive\n",
              "1  a wonderful little production the filming tech...  positive\n",
              "2  i thought this was a wonderful way to spend ti...  positive\n",
              "3  basically theres a family where a little boy j...  negative\n",
              "4  petter matteis love in the time of money is a ...  positive"
            ],
            "text/html": [
              "\n",
              "  <div id=\"df-2733d690-82aa-408d-89a6-4cafe9d78189\">\n",
              "    <div class=\"colab-df-container\">\n",
              "      <div>\n",
              "<style scoped>\n",
              "    .dataframe tbody tr th:only-of-type {\n",
              "        vertical-align: middle;\n",
              "    }\n",
              "\n",
              "    .dataframe tbody tr th {\n",
              "        vertical-align: top;\n",
              "    }\n",
              "\n",
              "    .dataframe thead th {\n",
              "        text-align: right;\n",
              "    }\n",
              "</style>\n",
              "<table border=\"1\" class=\"dataframe\">\n",
              "  <thead>\n",
              "    <tr style=\"text-align: right;\">\n",
              "      <th></th>\n",
              "      <th>review</th>\n",
              "      <th>sentiment</th>\n",
              "    </tr>\n",
              "  </thead>\n",
              "  <tbody>\n",
              "    <tr>\n",
              "      <th>0</th>\n",
              "      <td>one of the other reviewers has mentioned that ...</td>\n",
              "      <td>positive</td>\n",
              "    </tr>\n",
              "    <tr>\n",
              "      <th>1</th>\n",
              "      <td>a wonderful little production the filming tech...</td>\n",
              "      <td>positive</td>\n",
              "    </tr>\n",
              "    <tr>\n",
              "      <th>2</th>\n",
              "      <td>i thought this was a wonderful way to spend ti...</td>\n",
              "      <td>positive</td>\n",
              "    </tr>\n",
              "    <tr>\n",
              "      <th>3</th>\n",
              "      <td>basically theres a family where a little boy j...</td>\n",
              "      <td>negative</td>\n",
              "    </tr>\n",
              "    <tr>\n",
              "      <th>4</th>\n",
              "      <td>petter matteis love in the time of money is a ...</td>\n",
              "      <td>positive</td>\n",
              "    </tr>\n",
              "  </tbody>\n",
              "</table>\n",
              "</div>\n",
              "      <button class=\"colab-df-convert\" onclick=\"convertToInteractive('df-2733d690-82aa-408d-89a6-4cafe9d78189')\"\n",
              "              title=\"Convert this dataframe to an interactive table.\"\n",
              "              style=\"display:none;\">\n",
              "        \n",
              "  <svg xmlns=\"http://www.w3.org/2000/svg\" height=\"24px\"viewBox=\"0 0 24 24\"\n",
              "       width=\"24px\">\n",
              "    <path d=\"M0 0h24v24H0V0z\" fill=\"none\"/>\n",
              "    <path d=\"M18.56 5.44l.94 2.06.94-2.06 2.06-.94-2.06-.94-.94-2.06-.94 2.06-2.06.94zm-11 1L8.5 8.5l.94-2.06 2.06-.94-2.06-.94L8.5 2.5l-.94 2.06-2.06.94zm10 10l.94 2.06.94-2.06 2.06-.94-2.06-.94-.94-2.06-.94 2.06-2.06.94z\"/><path d=\"M17.41 7.96l-1.37-1.37c-.4-.4-.92-.59-1.43-.59-.52 0-1.04.2-1.43.59L10.3 9.45l-7.72 7.72c-.78.78-.78 2.05 0 2.83L4 21.41c.39.39.9.59 1.41.59.51 0 1.02-.2 1.41-.59l7.78-7.78 2.81-2.81c.8-.78.8-2.07 0-2.86zM5.41 20L4 18.59l7.72-7.72 1.47 1.35L5.41 20z\"/>\n",
              "  </svg>\n",
              "      </button>\n",
              "      \n",
              "  <style>\n",
              "    .colab-df-container {\n",
              "      display:flex;\n",
              "      flex-wrap:wrap;\n",
              "      gap: 12px;\n",
              "    }\n",
              "\n",
              "    .colab-df-convert {\n",
              "      background-color: #E8F0FE;\n",
              "      border: none;\n",
              "      border-radius: 50%;\n",
              "      cursor: pointer;\n",
              "      display: none;\n",
              "      fill: #1967D2;\n",
              "      height: 32px;\n",
              "      padding: 0 0 0 0;\n",
              "      width: 32px;\n",
              "    }\n",
              "\n",
              "    .colab-df-convert:hover {\n",
              "      background-color: #E2EBFA;\n",
              "      box-shadow: 0px 1px 2px rgba(60, 64, 67, 0.3), 0px 1px 3px 1px rgba(60, 64, 67, 0.15);\n",
              "      fill: #174EA6;\n",
              "    }\n",
              "\n",
              "    [theme=dark] .colab-df-convert {\n",
              "      background-color: #3B4455;\n",
              "      fill: #D2E3FC;\n",
              "    }\n",
              "\n",
              "    [theme=dark] .colab-df-convert:hover {\n",
              "      background-color: #434B5C;\n",
              "      box-shadow: 0px 1px 3px 1px rgba(0, 0, 0, 0.15);\n",
              "      filter: drop-shadow(0px 1px 2px rgba(0, 0, 0, 0.3));\n",
              "      fill: #FFFFFF;\n",
              "    }\n",
              "  </style>\n",
              "\n",
              "      <script>\n",
              "        const buttonEl =\n",
              "          document.querySelector('#df-2733d690-82aa-408d-89a6-4cafe9d78189 button.colab-df-convert');\n",
              "        buttonEl.style.display =\n",
              "          google.colab.kernel.accessAllowed ? 'block' : 'none';\n",
              "\n",
              "        async function convertToInteractive(key) {\n",
              "          const element = document.querySelector('#df-2733d690-82aa-408d-89a6-4cafe9d78189');\n",
              "          const dataTable =\n",
              "            await google.colab.kernel.invokeFunction('convertToInteractive',\n",
              "                                                     [key], {});\n",
              "          if (!dataTable) return;\n",
              "\n",
              "          const docLinkHtml = 'Like what you see? Visit the ' +\n",
              "            '<a target=\"_blank\" href=https://colab.research.google.com/notebooks/data_table.ipynb>data table notebook</a>'\n",
              "            + ' to learn more about interactive tables.';\n",
              "          element.innerHTML = '';\n",
              "          dataTable['output_type'] = 'display_data';\n",
              "          await google.colab.output.renderOutput(dataTable, element);\n",
              "          const docLink = document.createElement('div');\n",
              "          docLink.innerHTML = docLinkHtml;\n",
              "          element.appendChild(docLink);\n",
              "        }\n",
              "      </script>\n",
              "    </div>\n",
              "  </div>\n",
              "  "
            ]
          },
          "metadata": {},
          "execution_count": 8
        }
      ]
    },
    {
      "cell_type": "code",
      "source": [
        "## performing text lemmatization \n",
        "\n",
        "def text_lemmatization(sentence):\n",
        "  lemmatizer = WordNetLemmatizer()\n",
        "  text = [lemmatizer.lemmatize(x) for x in sentence.split()]\n",
        "  text = ' '.join(text)\n",
        "  return text\n",
        "\n",
        "sndata['review'] = sndata['review'].apply(text_lemmatization)"
      ],
      "metadata": {
        "id": "YyEpf7uf58lr"
      },
      "execution_count": null,
      "outputs": []
    },
    {
      "cell_type": "code",
      "source": [
        "sndata.head()"
      ],
      "metadata": {
        "id": "zvqt8ntrRwNN",
        "colab": {
          "base_uri": "https://localhost:8080/",
          "height": 206
        },
        "outputId": "6a135087-5bcc-40e3-d778-69ebcd572c42"
      },
      "execution_count": null,
      "outputs": [
        {
          "output_type": "execute_result",
          "data": {
            "text/plain": [
              "                                              review sentiment\n",
              "0  one of the other reviewer ha mentioned that af...  positive\n",
              "1  a wonderful little production the filming tech...  positive\n",
              "2  i thought this wa a wonderful way to spend tim...  positive\n",
              "3  basically there a family where a little boy ja...  negative\n",
              "4  petter matteis love in the time of money is a ...  positive"
            ],
            "text/html": [
              "\n",
              "  <div id=\"df-006f1679-cec5-4437-a2d4-2177d5d62b5f\">\n",
              "    <div class=\"colab-df-container\">\n",
              "      <div>\n",
              "<style scoped>\n",
              "    .dataframe tbody tr th:only-of-type {\n",
              "        vertical-align: middle;\n",
              "    }\n",
              "\n",
              "    .dataframe tbody tr th {\n",
              "        vertical-align: top;\n",
              "    }\n",
              "\n",
              "    .dataframe thead th {\n",
              "        text-align: right;\n",
              "    }\n",
              "</style>\n",
              "<table border=\"1\" class=\"dataframe\">\n",
              "  <thead>\n",
              "    <tr style=\"text-align: right;\">\n",
              "      <th></th>\n",
              "      <th>review</th>\n",
              "      <th>sentiment</th>\n",
              "    </tr>\n",
              "  </thead>\n",
              "  <tbody>\n",
              "    <tr>\n",
              "      <th>0</th>\n",
              "      <td>one of the other reviewer ha mentioned that af...</td>\n",
              "      <td>positive</td>\n",
              "    </tr>\n",
              "    <tr>\n",
              "      <th>1</th>\n",
              "      <td>a wonderful little production the filming tech...</td>\n",
              "      <td>positive</td>\n",
              "    </tr>\n",
              "    <tr>\n",
              "      <th>2</th>\n",
              "      <td>i thought this wa a wonderful way to spend tim...</td>\n",
              "      <td>positive</td>\n",
              "    </tr>\n",
              "    <tr>\n",
              "      <th>3</th>\n",
              "      <td>basically there a family where a little boy ja...</td>\n",
              "      <td>negative</td>\n",
              "    </tr>\n",
              "    <tr>\n",
              "      <th>4</th>\n",
              "      <td>petter matteis love in the time of money is a ...</td>\n",
              "      <td>positive</td>\n",
              "    </tr>\n",
              "  </tbody>\n",
              "</table>\n",
              "</div>\n",
              "      <button class=\"colab-df-convert\" onclick=\"convertToInteractive('df-006f1679-cec5-4437-a2d4-2177d5d62b5f')\"\n",
              "              title=\"Convert this dataframe to an interactive table.\"\n",
              "              style=\"display:none;\">\n",
              "        \n",
              "  <svg xmlns=\"http://www.w3.org/2000/svg\" height=\"24px\"viewBox=\"0 0 24 24\"\n",
              "       width=\"24px\">\n",
              "    <path d=\"M0 0h24v24H0V0z\" fill=\"none\"/>\n",
              "    <path d=\"M18.56 5.44l.94 2.06.94-2.06 2.06-.94-2.06-.94-.94-2.06-.94 2.06-2.06.94zm-11 1L8.5 8.5l.94-2.06 2.06-.94-2.06-.94L8.5 2.5l-.94 2.06-2.06.94zm10 10l.94 2.06.94-2.06 2.06-.94-2.06-.94-.94-2.06-.94 2.06-2.06.94z\"/><path d=\"M17.41 7.96l-1.37-1.37c-.4-.4-.92-.59-1.43-.59-.52 0-1.04.2-1.43.59L10.3 9.45l-7.72 7.72c-.78.78-.78 2.05 0 2.83L4 21.41c.39.39.9.59 1.41.59.51 0 1.02-.2 1.41-.59l7.78-7.78 2.81-2.81c.8-.78.8-2.07 0-2.86zM5.41 20L4 18.59l7.72-7.72 1.47 1.35L5.41 20z\"/>\n",
              "  </svg>\n",
              "      </button>\n",
              "      \n",
              "  <style>\n",
              "    .colab-df-container {\n",
              "      display:flex;\n",
              "      flex-wrap:wrap;\n",
              "      gap: 12px;\n",
              "    }\n",
              "\n",
              "    .colab-df-convert {\n",
              "      background-color: #E8F0FE;\n",
              "      border: none;\n",
              "      border-radius: 50%;\n",
              "      cursor: pointer;\n",
              "      display: none;\n",
              "      fill: #1967D2;\n",
              "      height: 32px;\n",
              "      padding: 0 0 0 0;\n",
              "      width: 32px;\n",
              "    }\n",
              "\n",
              "    .colab-df-convert:hover {\n",
              "      background-color: #E2EBFA;\n",
              "      box-shadow: 0px 1px 2px rgba(60, 64, 67, 0.3), 0px 1px 3px 1px rgba(60, 64, 67, 0.15);\n",
              "      fill: #174EA6;\n",
              "    }\n",
              "\n",
              "    [theme=dark] .colab-df-convert {\n",
              "      background-color: #3B4455;\n",
              "      fill: #D2E3FC;\n",
              "    }\n",
              "\n",
              "    [theme=dark] .colab-df-convert:hover {\n",
              "      background-color: #434B5C;\n",
              "      box-shadow: 0px 1px 3px 1px rgba(0, 0, 0, 0.15);\n",
              "      filter: drop-shadow(0px 1px 2px rgba(0, 0, 0, 0.3));\n",
              "      fill: #FFFFFF;\n",
              "    }\n",
              "  </style>\n",
              "\n",
              "      <script>\n",
              "        const buttonEl =\n",
              "          document.querySelector('#df-006f1679-cec5-4437-a2d4-2177d5d62b5f button.colab-df-convert');\n",
              "        buttonEl.style.display =\n",
              "          google.colab.kernel.accessAllowed ? 'block' : 'none';\n",
              "\n",
              "        async function convertToInteractive(key) {\n",
              "          const element = document.querySelector('#df-006f1679-cec5-4437-a2d4-2177d5d62b5f');\n",
              "          const dataTable =\n",
              "            await google.colab.kernel.invokeFunction('convertToInteractive',\n",
              "                                                     [key], {});\n",
              "          if (!dataTable) return;\n",
              "\n",
              "          const docLinkHtml = 'Like what you see? Visit the ' +\n",
              "            '<a target=\"_blank\" href=https://colab.research.google.com/notebooks/data_table.ipynb>data table notebook</a>'\n",
              "            + ' to learn more about interactive tables.';\n",
              "          element.innerHTML = '';\n",
              "          dataTable['output_type'] = 'display_data';\n",
              "          await google.colab.output.renderOutput(dataTable, element);\n",
              "          const docLink = document.createElement('div');\n",
              "          docLink.innerHTML = docLinkHtml;\n",
              "          element.appendChild(docLink);\n",
              "        }\n",
              "      </script>\n",
              "    </div>\n",
              "  </div>\n",
              "  "
            ]
          },
          "metadata": {},
          "execution_count": 10
        }
      ]
    },
    {
      "cell_type": "code",
      "source": [
        "### removing the stop words \n",
        "tokenizer=ToktokTokenizer()\n",
        "stopword_list=nltk.corpus.stopwords.words('english')\n",
        "def remove_stop_words(sentence):\n",
        "\n",
        "  tokens = tokenizer.tokenize(sentence)\n",
        "  tokens = [token.strip() for token in tokens]\n",
        "\n",
        "  filtered_token = [token for token in tokens if token not in stopword_list]\n",
        "\n",
        "  filtered_text = ' '.join(filtered_token)\n",
        "\n",
        "  return filtered_text\n",
        "\n",
        "sndata['review'] = sndata['review'].apply(remove_stop_words)"
      ],
      "metadata": {
        "id": "D-FMHaNvFfFT"
      },
      "execution_count": null,
      "outputs": []
    },
    {
      "cell_type": "code",
      "source": [
        "sndata['review'].head()"
      ],
      "metadata": {
        "id": "8S9pI6p2aDdn",
        "colab": {
          "base_uri": "https://localhost:8080/"
        },
        "outputId": "c9f5a8c9-50f9-403f-9166-37ce4901120a"
      },
      "execution_count": null,
      "outputs": [
        {
          "output_type": "execute_result",
          "data": {
            "text/plain": [
              "0    one reviewer ha mentioned watching 1 oz episod...\n",
              "1    wonderful little production filming technique ...\n",
              "2    thought wa wonderful way spend time hot summer...\n",
              "3    basically family little boy jake think zombie ...\n",
              "4    petter matteis love time money visually stunni...\n",
              "Name: review, dtype: object"
            ]
          },
          "metadata": {},
          "execution_count": 12
        }
      ]
    },
    {
      "cell_type": "code",
      "source": [
        "# Splitting into train and test\n",
        "x_train, x_test, y_train, y_test = train_test_split(sndata['review'], sndata[\"sentiment\"], test_size = 0.2)"
      ],
      "metadata": {
        "id": "goWb9e7Mm-r_"
      },
      "execution_count": null,
      "outputs": []
    },
    {
      "cell_type": "markdown",
      "source": [
        "#### Count Vectorizer "
      ],
      "metadata": {
        "id": "IPgCwY__Omid"
      }
    },
    {
      "cell_type": "code",
      "source": [
        "vectorizer = CountVectorizer()\n",
        "x_train = vectorizer.fit_transform(x_train)\n",
        "x_test = vectorizer.transform(x_test)"
      ],
      "metadata": {
        "id": "9IMjUrhWOvwh"
      },
      "execution_count": null,
      "outputs": []
    },
    {
      "cell_type": "markdown",
      "source": [
        "##### LogisticRegression using CountVectorize"
      ],
      "metadata": {
        "id": "ArsRM-9PR5bM"
      }
    },
    {
      "cell_type": "code",
      "source": [
        "lr = LogisticRegression()\n",
        "lr.fit(x_train, y_train)\n",
        "\n",
        "\n",
        "y_pred_test = lr.predict(x_test)\n",
        "print(classification_report(y_test,y_pred_test))\n",
        "print('accuracy_Score:',accuracy_score(y_test,y_pred_test))"
      ],
      "metadata": {
        "colab": {
          "base_uri": "https://localhost:8080/"
        },
        "id": "FtXqgB7DR4rP",
        "outputId": "4511de8d-63b2-4512-a043-3a0031ab72c5"
      },
      "execution_count": null,
      "outputs": [
        {
          "output_type": "stream",
          "name": "stdout",
          "text": [
            "              precision    recall  f1-score   support\n",
            "\n",
            "    negative       0.89      0.88      0.89      4998\n",
            "    positive       0.88      0.89      0.89      5002\n",
            "\n",
            "    accuracy                           0.89     10000\n",
            "   macro avg       0.89      0.89      0.89     10000\n",
            "weighted avg       0.89      0.89      0.89     10000\n",
            "\n",
            "accuracy_Score: 0.8868\n"
          ]
        }
      ]
    },
    {
      "cell_type": "markdown",
      "source": [
        "##### RandomForest using CountVectorize"
      ],
      "metadata": {
        "id": "JIWSN1bLYvuZ"
      }
    },
    {
      "cell_type": "code",
      "source": [
        "rf = RandomForestClassifier()\n",
        "rf.fit(x_train, y_train)\n",
        "\n",
        "y_pred_test = rf.predict(x_test)\n",
        "print(classification_report(y_test,y_pred_test))\n",
        "print('accuracy_Score:',accuracy_score(y_test,y_pred_test))"
      ],
      "metadata": {
        "colab": {
          "base_uri": "https://localhost:8080/"
        },
        "id": "HElCEe_1Y0ci",
        "outputId": "3a4a7e08-f6e3-41fd-d746-39b67714a78a"
      },
      "execution_count": null,
      "outputs": [
        {
          "output_type": "stream",
          "name": "stdout",
          "text": [
            "              precision    recall  f1-score   support\n",
            "\n",
            "    negative       0.86      0.85      0.86      4998\n",
            "    positive       0.86      0.86      0.86      5002\n",
            "\n",
            "    accuracy                           0.86     10000\n",
            "   macro avg       0.86      0.86      0.86     10000\n",
            "weighted avg       0.86      0.86      0.86     10000\n",
            "\n",
            "accuracy_Score: 0.8586\n"
          ]
        }
      ]
    },
    {
      "cell_type": "markdown",
      "source": [
        "##### XGBoost usinf CountVectorize\n"
      ],
      "metadata": {
        "id": "R2dyzwaDR0J-"
      }
    },
    {
      "cell_type": "code",
      "source": [
        "xg = xgb.XGBClassifier()\n",
        "xg.fit(x_train,y_train)\n",
        "\n",
        "y_pred_test = xg.predict(x_test)\n",
        "print(classification_report(y_test,y_pred_test))\n",
        "print('accuracy_Score:',accuracy_score(y_test,y_pred_test))"
      ],
      "metadata": {
        "id": "EF3eLqQDulmJ",
        "colab": {
          "base_uri": "https://localhost:8080/"
        },
        "outputId": "aa7b018d-3b6d-4ddc-f7ce-c7e9d07fa6fa"
      },
      "execution_count": null,
      "outputs": [
        {
          "output_type": "stream",
          "name": "stdout",
          "text": [
            "              precision    recall  f1-score   support\n",
            "\n",
            "    negative       0.85      0.73      0.79      4998\n",
            "    positive       0.76      0.87      0.81      5002\n",
            "\n",
            "    accuracy                           0.80     10000\n",
            "   macro avg       0.81      0.80      0.80     10000\n",
            "weighted avg       0.81      0.80      0.80     10000\n",
            "\n",
            "accuracy_Score: 0.8005\n"
          ]
        }
      ]
    },
    {
      "cell_type": "markdown",
      "source": [
        "##### usinf Tf-idf vectorizer"
      ],
      "metadata": {
        "id": "NPDoedfwuYES"
      }
    },
    {
      "cell_type": "code",
      "source": [
        "# Splitting into train and test\n",
        "x_train, x_test, y_train, y_test = train_test_split(sndata['review'], sndata[\"sentiment\"], test_size = 0.2)"
      ],
      "metadata": {
        "id": "fhDTT_RIdIuE"
      },
      "execution_count": null,
      "outputs": []
    },
    {
      "cell_type": "code",
      "source": [
        "tfidf=TfidfVectorizer(max_features=5000)\n",
        "\n",
        "x_train=tfidf.fit_transform(x_train)\n",
        "x_test = tfidf.transform(x_test)"
      ],
      "metadata": {
        "id": "8V0TLjOBTYQd"
      },
      "execution_count": null,
      "outputs": []
    },
    {
      "cell_type": "markdown",
      "source": [
        "##### LogisticRegression Using tfidf"
      ],
      "metadata": {
        "id": "0a-P5blIdiun"
      }
    },
    {
      "cell_type": "code",
      "source": [
        "lr = LogisticRegression()\n",
        "lr.fit(x_train, y_train)\n",
        "\n",
        "y_pred_test = lr.predict(x_test)  \n",
        "print(classification_report(y_test,y_pred_test))\n",
        "print('accuracy_Score:',accuracy_score(y_test,y_pred_test))"
      ],
      "metadata": {
        "colab": {
          "base_uri": "https://localhost:8080/"
        },
        "id": "9rHexa09dUWS",
        "outputId": "6afcd46e-49ba-4a9d-a398-878b3ca3e8b7"
      },
      "execution_count": null,
      "outputs": [
        {
          "output_type": "stream",
          "name": "stdout",
          "text": [
            "              precision    recall  f1-score   support\n",
            "\n",
            "    negative       0.89      0.88      0.88      4919\n",
            "    positive       0.88      0.89      0.89      5081\n",
            "\n",
            "    accuracy                           0.88     10000\n",
            "   macro avg       0.88      0.88      0.88     10000\n",
            "weighted avg       0.88      0.88      0.88     10000\n",
            "\n",
            "accuracy_Score: 0.8846\n"
          ]
        }
      ]
    },
    {
      "cell_type": "markdown",
      "source": [
        "##### RandomForestClassifier using tfidf"
      ],
      "metadata": {
        "id": "_jw_nooVdmDY"
      }
    },
    {
      "cell_type": "code",
      "source": [
        "rf = RandomForestClassifier()\n",
        "rf.fit(x_train, y_train)\n",
        "\n",
        "y_pred_test = rf.predict(x_test)  \n",
        "print(classification_report(y_test,y_pred_test))\n",
        "print('accuracy_Score:',accuracy_score(y_test,y_pred_test))\n"
      ],
      "metadata": {
        "colab": {
          "base_uri": "https://localhost:8080/"
        },
        "id": "OvCwvpvTdZRh",
        "outputId": "0b882073-cbd3-429e-d5c5-dd4c7c9154b6"
      },
      "execution_count": null,
      "outputs": [
        {
          "output_type": "stream",
          "name": "stdout",
          "text": [
            "              precision    recall  f1-score   support\n",
            "\n",
            "    negative       0.83      0.86      0.84      4919\n",
            "    positive       0.86      0.83      0.84      5081\n",
            "\n",
            "    accuracy                           0.84     10000\n",
            "   macro avg       0.84      0.84      0.84     10000\n",
            "weighted avg       0.84      0.84      0.84     10000\n",
            "\n",
            "accuracy_Score: 0.8433\n"
          ]
        }
      ]
    },
    {
      "cell_type": "markdown",
      "source": [
        "##### XGBoost using tf-idf"
      ],
      "metadata": {
        "id": "o_HINtM3auxO"
      }
    },
    {
      "cell_type": "code",
      "source": [
        "xg = xgb.XGBClassifier()\n",
        "xg.fit(x_train,y_train)"
      ],
      "metadata": {
        "id": "K_s4tLhvMH9W",
        "colab": {
          "base_uri": "https://localhost:8080/"
        },
        "outputId": "fae6b66d-5daf-4fb4-af60-3aeca924ee2a"
      },
      "execution_count": null,
      "outputs": [
        {
          "output_type": "execute_result",
          "data": {
            "text/plain": [
              "XGBClassifier()"
            ]
          },
          "metadata": {},
          "execution_count": 51
        }
      ]
    },
    {
      "cell_type": "code",
      "source": [
        "y_pred_test = xg.predict(x_test)  \n",
        "print(classification_report(y_test,y_pred_test))\n",
        "print('accuracy_Score:',accuracy_score(y_test,y_pred_test))"
      ],
      "metadata": {
        "id": "CKCmxlsZQcEW",
        "colab": {
          "base_uri": "https://localhost:8080/"
        },
        "outputId": "9c3158a2-2db8-4459-b2b5-21e56b0828d3"
      },
      "execution_count": null,
      "outputs": [
        {
          "output_type": "stream",
          "name": "stdout",
          "text": [
            "              precision    recall  f1-score   support\n",
            "\n",
            "    negative       0.84      0.73      0.78      4919\n",
            "    positive       0.77      0.87      0.82      5081\n",
            "\n",
            "    accuracy                           0.80     10000\n",
            "   macro avg       0.81      0.80      0.80     10000\n",
            "weighted avg       0.81      0.80      0.80     10000\n",
            "\n",
            "accuracy_Score: 0.8022\n"
          ]
        }
      ]
    },
    {
      "cell_type": "markdown",
      "source": [
        "# Task 3 Recommender System"
      ],
      "metadata": {
        "id": "nlqQ4N41H2W7"
      }
    },
    {
      "cell_type": "code",
      "source": [
        "import pandas as pd \n",
        "import numpy as np \n",
        "import seaborn as sns \n",
        "from google.colab import drive\n",
        "drive.mount('/content/drive')\n",
        "import warnings\n",
        "warnings.filterwarnings('ignore')"
      ],
      "metadata": {
        "id": "Hcvl8icNH-C9",
        "colab": {
          "base_uri": "https://localhost:8080/"
        },
        "outputId": "3ea96896-6dd2-4f88-fb98-b5912293a409"
      },
      "execution_count": null,
      "outputs": [
        {
          "output_type": "stream",
          "name": "stdout",
          "text": [
            "Mounted at /content/drive\n"
          ]
        }
      ]
    },
    {
      "cell_type": "markdown",
      "source": [
        "### 2. Load the movies and ratings data "
      ],
      "metadata": {
        "id": "wL1Ixdy_NlB1"
      }
    },
    {
      "cell_type": "code",
      "source": [
        "r_cols = ['user_id', 'movie_id', 'rating', 'unix_timestamp']\n",
        "ratings = pd.read_csv('/content/drive/MyDrive/ratings.csv',sep='::', names=r_cols)\n",
        "\n",
        "m_cols = ['movie_id', 'movie_title','genres']\n",
        "movies =  pd.read_csv('/content/drive/MyDrive/movies.csv',encoding='latin-1',sep='::', names=m_cols)"
      ],
      "metadata": {
        "id": "yBLHuD5_cJW8"
      },
      "execution_count": null,
      "outputs": []
    },
    {
      "cell_type": "code",
      "source": [
        "movies_fd = movies.merge(ratings, on='movie_id',how='inner')"
      ],
      "metadata": {
        "id": "x2H7pmROhfBq"
      },
      "execution_count": null,
      "outputs": []
    },
    {
      "cell_type": "code",
      "source": [
        "movies_fd.head()"
      ],
      "metadata": {
        "id": "SKOfVKPCiCCc",
        "colab": {
          "base_uri": "https://localhost:8080/",
          "height": 206
        },
        "outputId": "7483b13d-857d-47b9-e325-746edbbe6974"
      },
      "execution_count": null,
      "outputs": [
        {
          "output_type": "execute_result",
          "data": {
            "text/plain": [
              "   movie_id       movie_title                         genres  user_id  rating  \\\n",
              "0         1  Toy Story (1995)  Animation|Children's|Comedy,,        1       5   \n",
              "1         1  Toy Story (1995)  Animation|Children's|Comedy,,        6       4   \n",
              "2         1  Toy Story (1995)  Animation|Children's|Comedy,,        8       4   \n",
              "3         1  Toy Story (1995)  Animation|Children's|Comedy,,        9       5   \n",
              "4         1  Toy Story (1995)  Animation|Children's|Comedy,,       10       5   \n",
              "\n",
              "   unix_timestamp  \n",
              "0       978824268  \n",
              "1       978237008  \n",
              "2       978233496  \n",
              "3       978225952  \n",
              "4       978226474  "
            ],
            "text/html": [
              "\n",
              "  <div id=\"df-32c2882a-eead-4b59-a440-c2b47eb22bf3\">\n",
              "    <div class=\"colab-df-container\">\n",
              "      <div>\n",
              "<style scoped>\n",
              "    .dataframe tbody tr th:only-of-type {\n",
              "        vertical-align: middle;\n",
              "    }\n",
              "\n",
              "    .dataframe tbody tr th {\n",
              "        vertical-align: top;\n",
              "    }\n",
              "\n",
              "    .dataframe thead th {\n",
              "        text-align: right;\n",
              "    }\n",
              "</style>\n",
              "<table border=\"1\" class=\"dataframe\">\n",
              "  <thead>\n",
              "    <tr style=\"text-align: right;\">\n",
              "      <th></th>\n",
              "      <th>movie_id</th>\n",
              "      <th>movie_title</th>\n",
              "      <th>genres</th>\n",
              "      <th>user_id</th>\n",
              "      <th>rating</th>\n",
              "      <th>unix_timestamp</th>\n",
              "    </tr>\n",
              "  </thead>\n",
              "  <tbody>\n",
              "    <tr>\n",
              "      <th>0</th>\n",
              "      <td>1</td>\n",
              "      <td>Toy Story (1995)</td>\n",
              "      <td>Animation|Children's|Comedy,,</td>\n",
              "      <td>1</td>\n",
              "      <td>5</td>\n",
              "      <td>978824268</td>\n",
              "    </tr>\n",
              "    <tr>\n",
              "      <th>1</th>\n",
              "      <td>1</td>\n",
              "      <td>Toy Story (1995)</td>\n",
              "      <td>Animation|Children's|Comedy,,</td>\n",
              "      <td>6</td>\n",
              "      <td>4</td>\n",
              "      <td>978237008</td>\n",
              "    </tr>\n",
              "    <tr>\n",
              "      <th>2</th>\n",
              "      <td>1</td>\n",
              "      <td>Toy Story (1995)</td>\n",
              "      <td>Animation|Children's|Comedy,,</td>\n",
              "      <td>8</td>\n",
              "      <td>4</td>\n",
              "      <td>978233496</td>\n",
              "    </tr>\n",
              "    <tr>\n",
              "      <th>3</th>\n",
              "      <td>1</td>\n",
              "      <td>Toy Story (1995)</td>\n",
              "      <td>Animation|Children's|Comedy,,</td>\n",
              "      <td>9</td>\n",
              "      <td>5</td>\n",
              "      <td>978225952</td>\n",
              "    </tr>\n",
              "    <tr>\n",
              "      <th>4</th>\n",
              "      <td>1</td>\n",
              "      <td>Toy Story (1995)</td>\n",
              "      <td>Animation|Children's|Comedy,,</td>\n",
              "      <td>10</td>\n",
              "      <td>5</td>\n",
              "      <td>978226474</td>\n",
              "    </tr>\n",
              "  </tbody>\n",
              "</table>\n",
              "</div>\n",
              "      <button class=\"colab-df-convert\" onclick=\"convertToInteractive('df-32c2882a-eead-4b59-a440-c2b47eb22bf3')\"\n",
              "              title=\"Convert this dataframe to an interactive table.\"\n",
              "              style=\"display:none;\">\n",
              "        \n",
              "  <svg xmlns=\"http://www.w3.org/2000/svg\" height=\"24px\"viewBox=\"0 0 24 24\"\n",
              "       width=\"24px\">\n",
              "    <path d=\"M0 0h24v24H0V0z\" fill=\"none\"/>\n",
              "    <path d=\"M18.56 5.44l.94 2.06.94-2.06 2.06-.94-2.06-.94-.94-2.06-.94 2.06-2.06.94zm-11 1L8.5 8.5l.94-2.06 2.06-.94-2.06-.94L8.5 2.5l-.94 2.06-2.06.94zm10 10l.94 2.06.94-2.06 2.06-.94-2.06-.94-.94-2.06-.94 2.06-2.06.94z\"/><path d=\"M17.41 7.96l-1.37-1.37c-.4-.4-.92-.59-1.43-.59-.52 0-1.04.2-1.43.59L10.3 9.45l-7.72 7.72c-.78.78-.78 2.05 0 2.83L4 21.41c.39.39.9.59 1.41.59.51 0 1.02-.2 1.41-.59l7.78-7.78 2.81-2.81c.8-.78.8-2.07 0-2.86zM5.41 20L4 18.59l7.72-7.72 1.47 1.35L5.41 20z\"/>\n",
              "  </svg>\n",
              "      </button>\n",
              "      \n",
              "  <style>\n",
              "    .colab-df-container {\n",
              "      display:flex;\n",
              "      flex-wrap:wrap;\n",
              "      gap: 12px;\n",
              "    }\n",
              "\n",
              "    .colab-df-convert {\n",
              "      background-color: #E8F0FE;\n",
              "      border: none;\n",
              "      border-radius: 50%;\n",
              "      cursor: pointer;\n",
              "      display: none;\n",
              "      fill: #1967D2;\n",
              "      height: 32px;\n",
              "      padding: 0 0 0 0;\n",
              "      width: 32px;\n",
              "    }\n",
              "\n",
              "    .colab-df-convert:hover {\n",
              "      background-color: #E2EBFA;\n",
              "      box-shadow: 0px 1px 2px rgba(60, 64, 67, 0.3), 0px 1px 3px 1px rgba(60, 64, 67, 0.15);\n",
              "      fill: #174EA6;\n",
              "    }\n",
              "\n",
              "    [theme=dark] .colab-df-convert {\n",
              "      background-color: #3B4455;\n",
              "      fill: #D2E3FC;\n",
              "    }\n",
              "\n",
              "    [theme=dark] .colab-df-convert:hover {\n",
              "      background-color: #434B5C;\n",
              "      box-shadow: 0px 1px 3px 1px rgba(0, 0, 0, 0.15);\n",
              "      filter: drop-shadow(0px 1px 2px rgba(0, 0, 0, 0.3));\n",
              "      fill: #FFFFFF;\n",
              "    }\n",
              "  </style>\n",
              "\n",
              "      <script>\n",
              "        const buttonEl =\n",
              "          document.querySelector('#df-32c2882a-eead-4b59-a440-c2b47eb22bf3 button.colab-df-convert');\n",
              "        buttonEl.style.display =\n",
              "          google.colab.kernel.accessAllowed ? 'block' : 'none';\n",
              "\n",
              "        async function convertToInteractive(key) {\n",
              "          const element = document.querySelector('#df-32c2882a-eead-4b59-a440-c2b47eb22bf3');\n",
              "          const dataTable =\n",
              "            await google.colab.kernel.invokeFunction('convertToInteractive',\n",
              "                                                     [key], {});\n",
              "          if (!dataTable) return;\n",
              "\n",
              "          const docLinkHtml = 'Like what you see? Visit the ' +\n",
              "            '<a target=\"_blank\" href=https://colab.research.google.com/notebooks/data_table.ipynb>data table notebook</a>'\n",
              "            + ' to learn more about interactive tables.';\n",
              "          element.innerHTML = '';\n",
              "          dataTable['output_type'] = 'display_data';\n",
              "          await google.colab.output.renderOutput(dataTable, element);\n",
              "          const docLink = document.createElement('div');\n",
              "          docLink.innerHTML = docLinkHtml;\n",
              "          element.appendChild(docLink);\n",
              "        }\n",
              "      </script>\n",
              "    </div>\n",
              "  </div>\n",
              "  "
            ]
          },
          "metadata": {},
          "execution_count": 5
        }
      ]
    },
    {
      "cell_type": "markdown",
      "source": [
        "### 3. What do you mean by Singular Value Decomposition?\n",
        "\n",
        "A factorization of a matrix into three matrices is called Singular Value Decomposition (SVD). It possesses some intriguing algebraic characteristics and communicates key geometrical and theoretical insights into linear transformations. It also has several interesting data science applications. I'll try to explain the mathematical rationale underlying SVD as well as its geometrical meaning in this article.\n",
        "\n",
        "The SVD of  mxn matrix A is given by the formula : A = UW(V)T\n",
        "\n",
        "U:  mxn matrix of the orthonormal eigenvectors of AA^{T}.\n",
        "\n",
        "VT: transpose of a nxn matrix containing the orthonormal eigenvectors of A^{T}A.\n",
        "\n",
        "W:  a nxn diagonal matrix of the singular values which are the square roots of the eigenvalues of A^{T}A          ."
      ],
      "metadata": {
        "id": "X5aYwWIPNx5n"
      }
    },
    {
      "cell_type": "markdown",
      "source": [
        "### 4. What do you mean by Principal Component Analysis?\n",
        "\n",
        "PCA is a technique for reducing the complexity of high-dimensional data while preserving trends and patterns. It accomplishes this by condensing the data into fewer dimensions that serve as feature summaries. In biology, high-dimensional data arises when several features, such as the expression of many genes, are assessed for each sample. When testing each feature for association with an outcome, this type of data offers three issues that PCA mitigates: computational expense and an increased error rate owing to multiple test correction. PCA is an unsupervised learning method similar to clustering1 in that it detects patterns without considering whether the samples are from different treatment groups or have phenotypic variations."
      ],
      "metadata": {
        "id": "ttG-p-SLSgEn"
      }
    },
    {
      "cell_type": "markdown",
      "source": [
        "### 5. Explain content-based vs collaborative recommendation?\n",
        "\n",
        "**content based recommendation:** Additional information on users and/or things is used in the content-based approach. This form of filtering uses item features to suggest other items that are comparable to what the user likes, as well as previous actions or explicit input. If we take the case of a movie recommender system, the additional information may include the user's age, gender, occupation, or any other personal information, as well as the category, principal actors, duration, or other features of the movies (i.e. the items).\n",
        "\n",
        "**Collaborative Recommendation:** The Collaborative filtering approach for recommender systems is a way for producing new recommendations that is completely based on past interactions between users and objects that have been recorded. Collaborative Filtering aims to discover what comparable users want and make recommendations for them, as well as classify users into clusters of similar sorts and propose each user based on their cluster's preferences. The primary notion that guides collaborative approaches is that by analyzing prior user-item interactions, it becomes sufficient to discover comparable people or similar objects in order to create predictions based on these estimated facts and insights."
      ],
      "metadata": {
        "id": "J6eV6saUTRwh"
      }
    },
    {
      "cell_type": "markdown",
      "source": [
        "### 6. Create m x u matrix with movies as row and users as column. Normalize the matrix"
      ],
      "metadata": {
        "id": "U6Yzm7M4dfbI"
      }
    },
    {
      "cell_type": "code",
      "source": [
        "mat = np.ndarray(shape=(np.max(movies_fd['movie_id'].values), np.max(movies_fd['user_id'].values)),dtype=np.uint8)\n",
        "mat.shape"
      ],
      "metadata": {
        "id": "M1MotMLoiOGa",
        "colab": {
          "base_uri": "https://localhost:8080/"
        },
        "outputId": "e7cf9531-0296-4e87-e4d0-1cb4088f4423"
      },
      "execution_count": null,
      "outputs": [
        {
          "output_type": "execute_result",
          "data": {
            "text/plain": [
              "(3952, 6040)"
            ]
          },
          "metadata": {},
          "execution_count": 43
        }
      ]
    },
    {
      "cell_type": "code",
      "source": [
        "mat[movies_fd['movie_id'].values-1, movies_fd['user_id'].values-1] = movies_fd['rating'].values\n",
        "norm_mat = mat - np.asarray([(np.mean(mat, 1))]).T\n",
        "norm_mat"
      ],
      "metadata": {
        "colab": {
          "base_uri": "https://localhost:8080/"
        },
        "id": "ytt-QVwpJPZD",
        "outputId": "e20e4b4f-1c80-4f3c-e326-497969b0af71"
      },
      "execution_count": null,
      "outputs": [
        {
          "output_type": "execute_result",
          "data": {
            "text/plain": [
              "array([[-7.22682119e+00, -1.22268212e+01, -1.22268212e+01, ...,\n",
              "        -1.22268212e+01, -1.22268212e+01, -9.22682119e+00],\n",
              "       [ 9.83908940e+01, -8.60910596e+00, -1.66091060e+01, ...,\n",
              "        -1.66091060e+01, -1.66091060e+01, -1.66091060e+01],\n",
              "       [ 5.76718543e+01,  6.71854305e-01, -1.63281457e+01, ...,\n",
              "        -1.63281457e+01, -1.63281457e+01, -1.63281457e+01],\n",
              "       ...,\n",
              "       [ 1.40728477e-02, -9.85927152e-01,  1.40728477e-02, ...,\n",
              "         1.40728477e-02,  1.40728477e-02,  1.40728477e-02],\n",
              "       [-7.61589404e-03, -7.61589404e-03, -7.61589404e-03, ...,\n",
              "        -7.61589404e-03, -7.61589404e-03, -7.61589404e-03],\n",
              "       [-1.51655629e-01, -1.51655629e-01, -1.51655629e-01, ...,\n",
              "        -1.51655629e-01, -1.51655629e-01, -1.51655629e-01]])"
            ]
          },
          "metadata": {},
          "execution_count": 41
        }
      ]
    },
    {
      "cell_type": "markdown",
      "source": [
        "### 7. Perform SVD to get U, S and V"
      ],
      "metadata": {
        "id": "_IeYZv3FhRRv"
      }
    },
    {
      "cell_type": "code",
      "source": [
        "## performing SVD \n",
        "\n",
        "A = norm_mat.T / np.sqrt(norm_mat.shape[0] - 1)\n",
        "U, W, V = np.linalg.svd(norm_mat)\n",
        "\n",
        "print(U.shape, W.shape, V.shape)"
      ],
      "metadata": {
        "id": "Zkj4KSJRhKeO",
        "colab": {
          "base_uri": "https://localhost:8080/"
        },
        "outputId": "0a64b9c7-3e79-4428-f5d8-b5e14698de3b"
      },
      "execution_count": null,
      "outputs": [
        {
          "output_type": "stream",
          "name": "stdout",
          "text": [
            "(3952, 3952) (3952,) (6040, 6040)\n"
          ]
        }
      ]
    },
    {
      "cell_type": "markdown",
      "source": [
        "### 8. Select top 50 components from V.T"
      ],
      "metadata": {
        "id": "xISunxfJj9Cl"
      }
    },
    {
      "cell_type": "code",
      "source": [
        "top_50 = V.T[:50]"
      ],
      "metadata": {
        "id": "uHcNyQ8SjkXT"
      },
      "execution_count": null,
      "outputs": []
    },
    {
      "cell_type": "markdown",
      "source": [
        "### 9.Calculate the covariance matrix for the entire dataset"
      ],
      "metadata": {
        "id": "HXCQ619Yo35R"
      }
    },
    {
      "cell_type": "code",
      "source": [
        "cov_matrix = np.cov(norm_mat)"
      ],
      "metadata": {
        "id": "kVu-uLFnpeXa"
      },
      "execution_count": null,
      "outputs": []
    },
    {
      "cell_type": "markdown",
      "source": [
        "### 10. Get the eigen vectors from the covariance matrix"
      ],
      "metadata": {
        "id": "y7-QW6RZ8fCY"
      }
    },
    {
      "cell_type": "code",
      "source": [
        "evals, evecs = np.linalg.eig(cov_matrix)"
      ],
      "metadata": {
        "id": "pcD7sr7S8brE"
      },
      "execution_count": null,
      "outputs": []
    },
    {
      "cell_type": "markdown",
      "source": [
        "### 11. Get the top 50 eigen vectors using eigen values"
      ],
      "metadata": {
        "id": "PDBgoxxy8pri"
      }
    },
    {
      "cell_type": "code",
      "source": [
        "top_50_eigen = evecs[:, :50] "
      ],
      "metadata": {
        "id": "1x4Bersh8nNG"
      },
      "execution_count": null,
      "outputs": []
    },
    {
      "cell_type": "markdown",
      "source": [
        "### 12. Using cosine similarity find 10 closest movies using the 50 components from SVD (step 8)"
      ],
      "metadata": {
        "id": "XPGCmiHd82BE"
      }
    },
    {
      "cell_type": "code",
      "source": [
        "## cosine similarity function\n",
        "def cosine_sim(ratings, movie_id, top_n=10):\n",
        "    index = movie_id - 1 \n",
        "    movie_row = ratings[index, :]\n",
        "    magnitude = np.sqrt(np.einsum('ij, ij -> i', ratings, ratings))\n",
        "    similarity = np.dot(movie_row, ratings.T) / (magnitude[index] * magnitude)\n",
        "    sort_indexes = np.argsort(-similarity)\n",
        "    return sort_indexes[:top_n]\n",
        "\n",
        "# printing the top n movies\n",
        "def print_similar_movies(data_movie, movie_id, top_indexes):\n",
        "    print('Recommendations for:', data_movie[data_movie.movie_id == movie_id].movie_title.values[0],'\\n')\n",
        "    for id in top_indexes + 1:\n",
        "        print(data_movie[data_movie.movie_id == id].movie_title.values[0])"
      ],
      "metadata": {
        "id": "t7c6FxgM8zLY"
      },
      "execution_count": null,
      "outputs": []
    },
    {
      "cell_type": "code",
      "source": [
        "indexes = cosine_sim(top_50, 42, 10)\n",
        "print_similar_movies(movies, 42, indexes)"
      ],
      "metadata": {
        "colab": {
          "base_uri": "https://localhost:8080/"
        },
        "id": "ngJyn5hW9_xE",
        "outputId": "78221049-60a0-4584-a629-22c70b06972f"
      },
      "execution_count": null,
      "outputs": [
        {
          "output_type": "stream",
          "name": "stdout",
          "text": [
            "Recommendations for: Dead Presidents (1995) \n",
            "\n",
            "Dead Presidents (1995)\n",
            "Cry, the Beloved Country (1995)\n",
            "Clueless (1995)\n",
            "Across the Sea of Time (1995)\n",
            "Richard III (1995)\n",
            "Shanghai Triad (Yao a yao yao dao waipo qiao) (1995)\n",
            "When Night Is Falling (1995)\n",
            "Now and Then (1995)\n",
            "Seven (Se7en) (1995)\n",
            "Persuasion (1995)\n"
          ]
        }
      ]
    },
    {
      "cell_type": "markdown",
      "source": [
        "### 13. Using cosine similarity find 10 closest movies using the 50 components from PCA (step 11)"
      ],
      "metadata": {
        "id": "1Px-lT3RAOxy"
      }
    },
    {
      "cell_type": "code",
      "source": [
        "top_indexes= cosine_sim(top_50_eigen, 37, 10)\n",
        "print_similar_movies(movies, 37, top_indexes)"
      ],
      "metadata": {
        "colab": {
          "base_uri": "https://localhost:8080/"
        },
        "id": "5hHsn2-IACN-",
        "outputId": "4d9293f0-26f0-4c34-96b0-864f8a57be70"
      },
      "execution_count": null,
      "outputs": [
        {
          "output_type": "stream",
          "name": "stdout",
          "text": [
            "Recommendations for: Across the Sea of Time (1995) \n",
            "\n",
            "Across the Sea of Time (1995)\n",
            "Kingpin (1996)\n",
            "Tingler, The (1959)\n",
            "Guy (1996)\n",
            "Filth and the Fury, The (2000)\n",
            "Children of the Revolution (1996)\n",
            "Single Girl, A (La Fille Seule) (1995)\n",
            "King and I, The (1956)\n",
            "Wisdom (1986)\n",
            "Swan Princess, The (1994)\n"
          ]
        }
      ]
    },
    {
      "cell_type": "markdown",
      "source": [
        "### 14. Compare the results of above two methods\n",
        "\n",
        "SVD is better than PCA and has better results. Singular values from SVD are in sorted order, but in the case of PCA, we have to sort the eigenvalues in ascending order"
      ],
      "metadata": {
        "id": "x6w3Etih5DeE"
      }
    },
    {
      "cell_type": "code",
      "source": [
        ""
      ],
      "metadata": {
        "id": "UZQ6OmbY54-a"
      },
      "execution_count": null,
      "outputs": []
    }
  ]
}